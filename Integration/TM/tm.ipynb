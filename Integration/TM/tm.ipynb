{
 "cells": [
  {
   "cell_type": "code",
   "execution_count": 34,
   "metadata": {},
   "outputs": [],
   "source": [
    "# import sys\n",
    "# import os\n",
    "\n",
    "# # Add the Integration directory to the Python system path, enabling the import of modules or packages located in that directory.\n",
    "# sys.path.append( os.path.abspath(os.path.join(os.getcwd(), os.pardir)))"
   ]
  },
  {
   "cell_type": "code",
   "execution_count": 1,
   "metadata": {},
   "outputs": [],
   "source": [
    "# import TM.ibm1 as tm\n",
    "# import TM.phrase_based as pbtm\n",
    "# import utils as utils\n",
    "# import ibm1 as tm\n",
    "# import phrase_based as pbtm\n",
    "# import utils as utils\n",
    "from ibm1 import * \n",
    "from phrase_based import *\n",
    "from utils import *"
   ]
  },
  {
   "cell_type": "code",
   "execution_count": 11,
   "metadata": {},
   "outputs": [
    {
     "name": "stdout",
     "output_type": "stream",
     "text": [
      "['the girl is in france', 'paris is a city in france', 'the girl is beautiful', 'paris is a beautiful city', 'the girl is in church', 'a church is in paris', 'the church is beautiful', 'france has a beautiful church']\n",
      "['girl be in france', 'paris be city in france', 'girl be beautiful', 'paris be beautiful city', 'girl be in church', 'church be in paris', 'church be beautiful', 'france have beautiful church']\n"
     ]
    }
   ],
   "source": [
    "direction = 'forward'\n",
    "f_corpus, e_corpus = load_data('../data/data.json', direction)\n",
    "print(f_corpus)\n",
    "print(e_corpus)"
   ]
  },
  {
   "attachments": {},
   "cell_type": "markdown",
   "metadata": {},
   "source": [
    "## IBM 1"
   ]
  },
  {
   "cell_type": "code",
   "execution_count": 12,
   "metadata": {},
   "outputs": [
    {
     "name": "stdout",
     "output_type": "stream",
     "text": [
      "ibm1.translation_table:  defaultdict(<function IBMModel1.train.<locals>.<lambda> at 0x000001C4890F0700>, {'the': defaultdict(<function IBMModel1.train.<locals>.<lambda>.<locals>.<lambda> at 0x000001C4890F0AF0>, {'girl': 0.48389928480146044, 'be': 0.38397971962691213, 'in': 0.01893506411683187, 'france': 6.273033751106227e-60, 'beautiful': 0.05659296572741154, 'church': 0.05659296572738387, 'paris': 0.0, 'city': 0.0, 'have': 0.0}), 'girl': defaultdict(<function IBMModel1.train.<locals>.<lambda>.<locals>.<lambda> at 0x000001C4890F0DC0>, {'girl': 0.9623433360159952, 'be': 1.2401777814299425e-24, 'in': 0.03765666398400472, 'france': 1.247534852104058e-59, 'beautiful': 4.215313480557721e-73, 'church': 3.9738375795389604e-73, 'paris': 0.0, 'city': 0.0, 'have': 0.0}), 'is': defaultdict(<function IBMModel1.train.<locals>.<lambda>.<locals>.<lambda> at 0x000001C4890F0E50>, {'girl': 1.2736734644110412e-116, 'be': 0.9999993465829052, 'in': 6.534170946600426e-07, 'france': 2.2439676909151936e-76, 'paris': 6.733563634832666e-149, 'city': 1.428331680116036e-149, 'beautiful': 3.2619219011529525e-38, 'church': 3.1587408345482824e-38, 'have': 0.0}), 'in': defaultdict(<function IBMModel1.train.<locals>.<lambda>.<locals>.<lambda> at 0x000001C4890F0EE0>, {'girl': 2.4067640482834764e-188, 'be': 1.0162786553278325e-78, 'in': 1.0, 'france': 3.43420413890868e-70, 'paris': 1.43998945607592e-220, 'city': 1.4654167804480083e-242, 'church': 1.612206868757638e-81, 'beautiful': 0.0, 'have': 0.0}), 'france': defaultdict(<function IBMModel1.train.<locals>.<lambda>.<locals>.<lambda> at 0x000001C4890F0F70>, {'girl': 2.1944446927464044e-238, 'be': 5.89457584591206e-116, 'in': 1.2102585776970223e-61, 'france': 1.0, 'paris': 1.0346427970958293e-270, 'city': 3.230964926649926e-222, 'have': 1.545948616015998e-149, 'beautiful': 0.0, 'church': 0.0}), 'paris': defaultdict(<function IBMModel1.train.<locals>.<lambda>.<locals>.<lambda> at 0x000001C4890F1000>, {'paris': 0.8250000000000001, 'be': 1.1083044571418108e-90, 'city': 0.17499999999999993, 'in': 4.052531593576833e-105, 'france': 6.400412150683382e-197, 'beautiful': 6.415637621672029e-204, 'church': 5.7363489871499514e-204, 'girl': 0.0, 'have': 0.0}), 'a': defaultdict(<function IBMModel1.train.<locals>.<lambda>.<locals>.<lambda> at 0x000001C4890F1090>, {'paris': 0.825, 'be': 1.108304457141839e-90, 'city': 0.17500000000000002, 'in': 4.05253159357692e-105, 'france': 6.807072191584575e-72, 'beautiful': 9.609947289887123e-105, 'church': 9.420735395041541e-105, 'have': 5.613367083377196e-28, 'girl': 0.0}), 'city': defaultdict(<function IBMModel1.train.<locals>.<lambda>.<locals>.<lambda> at 0x000001C4890F1120>, {'paris': 3.2248733960696245e-49, 'be': 4.600021079842192e-139, 'city': 1.0, 'in': 1.2931207955254073e-203, 'france': 3.6573783718190764e-196, 'beautiful': 3.6660786409554554e-203, 'girl': 0.0, 'church': 0.0, 'have': 0.0}), 'beautiful': defaultdict(<function IBMModel1.train.<locals>.<lambda>.<locals>.<lambda> at 0x000001C4890F11B0>, {'girl': 0.0, 'be': 1.3536212372390183e-296, 'beautiful': 1.0, 'paris': 0.0, 'city': 0.0, 'church': 1.135182561437156e-309, 'france': 0.0, 'have': 2.5569823418487563e-170, 'in': 0.0}), 'church': defaultdict(<function IBMModel1.train.<locals>.<lambda>.<locals>.<lambda> at 0x000001C4890F1240>, {'girl': 0.0, 'be': 0.0, 'in': 5.06416262708207e-310, 'church': 1.0, 'paris': 0.0, 'beautiful': 9.70734597192893e-310, 'france': 0.0, 'have': 2.5790141241254427e-170, 'city': 0.0}), 'has': defaultdict(<function IBMModel1.train.<locals>.<lambda>.<locals>.<lambda> at 0x000001C4890F12D0>, {'france': 1.6861168348274896e-268, 'have': 1.0, 'beautiful': 0.0, 'church': 0.0, 'girl': 0.0, 'paris': 0.0, 'in': 0.0, 'be': 0.0, 'city': 0.0})})\n",
      "ibm1.translation_tuple:  {('girl', 'girl'): 0.9623433360159952, ('girl', 'beautiful'): 4.215313480557721e-73, ('girl', 'france'): 1.247534852104058e-59, ('girl', 'paris'): 0.0, ('girl', 'in'): 0.03765666398400472, ('girl', 'be'): 1.2401777814299425e-24, ('girl', 'church'): 3.9738375795389604e-73, ('girl', 'city'): 0.0, ('girl', 'have'): 0.0, ('beautiful', 'girl'): 0.0, ('beautiful', 'beautiful'): 1.0, ('beautiful', 'france'): 0.0, ('beautiful', 'paris'): 0.0, ('beautiful', 'in'): 0.0, ('beautiful', 'be'): 1.3536212372390183e-296, ('beautiful', 'church'): 1.135182561437156e-309, ('beautiful', 'city'): 0.0, ('beautiful', 'have'): 2.5569823418487563e-170, ('the', 'girl'): 0.48389928480146044, ('the', 'beautiful'): 0.05659296572741154, ('the', 'france'): 6.273033751106227e-60, ('the', 'paris'): 0.0, ('the', 'in'): 0.01893506411683187, ('the', 'be'): 0.38397971962691213, ('the', 'church'): 0.05659296572738387, ('the', 'city'): 0.0, ('the', 'have'): 0.0, ('france', 'girl'): 2.1944446927464044e-238, ('france', 'beautiful'): 0.0, ('france', 'france'): 1.0, ('france', 'paris'): 1.0346427970958293e-270, ('france', 'in'): 1.2102585776970223e-61, ('france', 'be'): 5.89457584591206e-116, ('france', 'church'): 0.0, ('france', 'city'): 3.230964926649926e-222, ('france', 'have'): 1.545948616015998e-149, ('is', 'girl'): 1.2736734644110412e-116, ('is', 'beautiful'): 3.2619219011529525e-38, ('is', 'france'): 2.2439676909151936e-76, ('is', 'paris'): 6.733563634832666e-149, ('is', 'in'): 6.534170946600426e-07, ('is', 'be'): 0.9999993465829052, ('is', 'church'): 3.1587408345482824e-38, ('is', 'city'): 1.428331680116036e-149, ('is', 'have'): 0.0, ('paris', 'girl'): 0.0, ('paris', 'beautiful'): 6.415637621672029e-204, ('paris', 'france'): 6.400412150683382e-197, ('paris', 'paris'): 0.8250000000000001, ('paris', 'in'): 4.052531593576833e-105, ('paris', 'be'): 1.1083044571418108e-90, ('paris', 'church'): 5.7363489871499514e-204, ('paris', 'city'): 0.17499999999999993, ('paris', 'have'): 0.0, ('in', 'girl'): 2.4067640482834764e-188, ('in', 'beautiful'): 0.0, ('in', 'france'): 3.43420413890868e-70, ('in', 'paris'): 1.43998945607592e-220, ('in', 'in'): 1.0, ('in', 'be'): 1.0162786553278325e-78, ('in', 'church'): 1.612206868757638e-81, ('in', 'city'): 1.4654167804480083e-242, ('in', 'have'): 0.0, ('a', 'girl'): 0.0, ('a', 'beautiful'): 9.609947289887123e-105, ('a', 'france'): 6.807072191584575e-72, ('a', 'paris'): 0.825, ('a', 'in'): 4.05253159357692e-105, ('a', 'be'): 1.108304457141839e-90, ('a', 'church'): 9.420735395041541e-105, ('a', 'city'): 0.17500000000000002, ('a', 'have'): 5.613367083377196e-28, ('has', 'girl'): 0.0, ('has', 'beautiful'): 0.0, ('has', 'france'): 1.6861168348274896e-268, ('has', 'paris'): 0.0, ('has', 'in'): 0.0, ('has', 'be'): 0.0, ('has', 'church'): 0.0, ('has', 'city'): 0.0, ('has', 'have'): 1.0, ('church', 'girl'): 0.0, ('church', 'beautiful'): 9.70734597192893e-310, ('church', 'france'): 0.0, ('church', 'paris'): 0.0, ('church', 'in'): 5.06416262708207e-310, ('church', 'be'): 0.0, ('church', 'church'): 1.0, ('church', 'city'): 0.0, ('church', 'have'): 2.5790141241254427e-170, ('city', 'girl'): 0.0, ('city', 'beautiful'): 3.6660786409554554e-203, ('city', 'france'): 3.6573783718190764e-196, ('city', 'paris'): 3.2248733960696245e-49, ('city', 'in'): 1.2931207955254073e-203, ('city', 'be'): 4.600021079842192e-139, ('city', 'church'): 0.0, ('city', 'city'): 1.0, ('city', 'have'): 0.0}\n",
      "('a', 'be') 1.108304457141839e-90\n",
      "('a', 'beautiful') 9.609947289887123e-105\n",
      "('a', 'church') 9.420735395041541e-105\n",
      "('a', 'city') 0.17500000000000002\n",
      "('a', 'france') 6.807072191584575e-72\n",
      "('a', 'girl') 0.0\n",
      "('a', 'have') 5.613367083377196e-28\n",
      "('a', 'in') 4.05253159357692e-105\n",
      "('a', 'paris') 0.825\n",
      "('beautiful', 'be') 1.3536212372390183e-296\n",
      "('beautiful', 'beautiful') 1.0\n",
      "('beautiful', 'church') 1.135182561437156e-309\n",
      "('beautiful', 'city') 0.0\n",
      "('beautiful', 'france') 0.0\n",
      "('beautiful', 'girl') 0.0\n",
      "('beautiful', 'have') 2.5569823418487563e-170\n",
      "('beautiful', 'in') 0.0\n",
      "('beautiful', 'paris') 0.0\n",
      "('church', 'be') 0.0\n",
      "('church', 'beautiful') 9.70734597192893e-310\n",
      "('church', 'church') 1.0\n",
      "('church', 'city') 0.0\n",
      "('church', 'france') 0.0\n",
      "('church', 'girl') 0.0\n",
      "('church', 'have') 2.5790141241254427e-170\n",
      "('church', 'in') 5.06416262708207e-310\n",
      "('church', 'paris') 0.0\n",
      "('city', 'be') 4.600021079842192e-139\n",
      "('city', 'beautiful') 3.6660786409554554e-203\n",
      "('city', 'church') 0.0\n",
      "('city', 'city') 1.0\n",
      "('city', 'france') 3.6573783718190764e-196\n",
      "('city', 'girl') 0.0\n",
      "('city', 'have') 0.0\n",
      "('city', 'in') 1.2931207955254073e-203\n",
      "('city', 'paris') 3.2248733960696245e-49\n",
      "('france', 'be') 5.89457584591206e-116\n",
      "('france', 'beautiful') 0.0\n",
      "('france', 'church') 0.0\n",
      "('france', 'city') 3.230964926649926e-222\n",
      "('france', 'france') 1.0\n",
      "('france', 'girl') 2.1944446927464044e-238\n",
      "('france', 'have') 1.545948616015998e-149\n",
      "('france', 'in') 1.2102585776970223e-61\n",
      "('france', 'paris') 1.0346427970958293e-270\n",
      "('girl', 'be') 1.2401777814299425e-24\n",
      "('girl', 'beautiful') 4.215313480557721e-73\n",
      "('girl', 'church') 3.9738375795389604e-73\n",
      "('girl', 'city') 0.0\n",
      "('girl', 'france') 1.247534852104058e-59\n",
      "('girl', 'girl') 0.9623433360159952\n",
      "('girl', 'have') 0.0\n",
      "('girl', 'in') 0.03765666398400472\n",
      "('girl', 'paris') 0.0\n",
      "('has', 'be') 0.0\n",
      "('has', 'beautiful') 0.0\n",
      "('has', 'church') 0.0\n",
      "('has', 'city') 0.0\n",
      "('has', 'france') 1.6861168348274896e-268\n",
      "('has', 'girl') 0.0\n",
      "('has', 'have') 1.0\n",
      "('has', 'in') 0.0\n",
      "('has', 'paris') 0.0\n",
      "('in', 'be') 1.0162786553278325e-78\n",
      "('in', 'beautiful') 0.0\n",
      "('in', 'church') 1.612206868757638e-81\n",
      "('in', 'city') 1.4654167804480083e-242\n",
      "('in', 'france') 3.43420413890868e-70\n",
      "('in', 'girl') 2.4067640482834764e-188\n",
      "('in', 'have') 0.0\n",
      "('in', 'in') 1.0\n",
      "('in', 'paris') 1.43998945607592e-220\n",
      "('is', 'be') 0.9999993465829052\n",
      "('is', 'beautiful') 3.2619219011529525e-38\n",
      "('is', 'church') 3.1587408345482824e-38\n",
      "('is', 'city') 1.428331680116036e-149\n",
      "('is', 'france') 2.2439676909151936e-76\n",
      "('is', 'girl') 1.2736734644110412e-116\n",
      "('is', 'have') 0.0\n",
      "('is', 'in') 6.534170946600426e-07\n",
      "('is', 'paris') 6.733563634832666e-149\n",
      "('paris', 'be') 1.1083044571418108e-90\n",
      "('paris', 'beautiful') 6.415637621672029e-204\n",
      "('paris', 'church') 5.7363489871499514e-204\n",
      "('paris', 'city') 0.17499999999999993\n",
      "('paris', 'france') 6.400412150683382e-197\n",
      "('paris', 'girl') 0.0\n",
      "('paris', 'have') 0.0\n",
      "('paris', 'in') 4.052531593576833e-105\n",
      "('paris', 'paris') 0.8250000000000001\n",
      "('the', 'be') 0.38397971962691213\n",
      "('the', 'beautiful') 0.05659296572741154\n",
      "('the', 'church') 0.05659296572738387\n",
      "('the', 'city') 0.0\n",
      "('the', 'france') 6.273033751106227e-60\n",
      "('the', 'girl') 0.48389928480146044\n",
      "('the', 'have') 0.0\n",
      "('the', 'in') 0.01893506411683187\n",
      "('the', 'paris') 0.0\n"
     ]
    }
   ],
   "source": [
    "ibm1 = IBMModel1(f_corpus, e_corpus)\n",
    "ibm1.preprocess()\n",
    "ibm1.train(100000000, 0.0001)\n",
    "\n",
    "print('ibm1.translation_table: ', ibm1.translation_table)\n",
    "print('ibm1.translation_tuple: ', ibm1.translation_tuple)\n",
    "\n",
    "for f_e_pair, prob in sorted(ibm1.translation_tuple.items()):\n",
    "    print(f_e_pair, prob)"
   ]
  },
  {
   "attachments": {},
   "cell_type": "markdown",
   "metadata": {},
   "source": [
    "### Get The Alignments"
   ]
  },
  {
   "cell_type": "code",
   "execution_count": 13,
   "metadata": {},
   "outputs": [
    {
     "name": "stdout",
     "output_type": "stream",
     "text": [
      "ibm1.f_e_alignment:  [[(1, 0), (2, 1), (3, 2), (4, 3)], [(0, 0), (1, 1), (3, 2), (4, 3), (5, 4)], [(1, 0), (2, 1), (3, 2)], [(0, 0), (1, 1), (3, 2), (4, 3)], [(1, 0), (2, 1), (3, 2), (4, 3)], [(1, 0), (2, 1), (3, 2), (4, 3)], [(1, 0), (2, 1), (3, 2)], [(0, 0), (1, 1), (3, 2), (4, 3)]]\n",
      "ibm1.e_f_alignment:  [[(0, 1), (1, 2), (2, 3), (3, 4)], [(0, 0), (1, 1), (2, 3), (3, 4), (4, 5)], [(0, 1), (1, 2), (2, 3)], [(0, 0), (1, 1), (2, 3), (3, 4)], [(0, 1), (1, 2), (2, 3), (3, 4)], [(0, 1), (1, 2), (2, 3), (3, 4)], [(0, 1), (1, 2), (2, 3)], [(0, 0), (1, 1), (2, 3), (3, 4)]]\n"
     ]
    }
   ],
   "source": [
    "ibm1.align()\n",
    "print('ibm1.f_e_alignment: ', ibm1.f_e_alignment)\n",
    "print('ibm1.e_f_alignment: ', ibm1.e_f_alignment)\n",
    "# for i in range(len(f_corpus)):\n",
    "#     print(f_corpus[i])\n",
    "#     print(e_corpus[i])\n",
    "#     print('e_f_alignment', ibm1.e_f_alignment[i])\n",
    "#     print('f_e_alignment', ibm1.f_e_alignment[i])"
   ]
  },
  {
   "attachments": {},
   "cell_type": "markdown",
   "metadata": {},
   "source": [
    "# Phrase-Based Model"
   ]
  },
  {
   "cell_type": "code",
   "execution_count": 14,
   "metadata": {},
   "outputs": [
    {
     "name": "stdout",
     "output_type": "stream",
     "text": [
      "pbmt.phrase_table:  [((2, 5), (1, 4), 'is in france', 'be in france'), ((0, 5), (0, 4), 'the girl is in france', 'girl be in france'), ((1, 5), (0, 4), 'girl is in france', 'girl be in france'), ((3, 5), (2, 4), 'in france', 'in france'), ((2, 4), (1, 3), 'is in', 'be in'), ((4, 5), (3, 4), 'france', 'france'), ((1, 2), (0, 1), 'girl', 'girl'), ((2, 3), (1, 2), 'is', 'be'), ((1, 3), (0, 2), 'girl is', 'girl be'), ((3, 4), (2, 3), 'in', 'in'), ((0, 4), (0, 3), 'the girl is in', 'girl be in'), ((0, 3), (0, 2), 'the girl is', 'girl be'), ((1, 4), (0, 3), 'girl is in', 'girl be in'), ((0, 2), (0, 1), 'the girl', 'girl'), ((1, 5), (1, 4), 'is a city in', 'be city in'), ((1, 6), (1, 5), 'is a city in france', 'be city in france'), ((2, 5), (2, 4), 'a city in', 'city in'), ((1, 3), (1, 2), 'is a', 'be'), ((1, 4), (1, 3), 'is a city', 'be city'), ((2, 6), (2, 5), 'a city in france', 'city in france'), ((2, 4), (2, 3), 'a city', 'city'), ((0, 2), (0, 2), 'paris is', 'paris be'), ((0, 4), (0, 3), 'paris is a city', 'paris be city'), ((0, 5), (0, 4), 'paris is a city in', 'paris be city in'), ((3, 6), (2, 5), 'city in france', 'city in france'), ((0, 1), (0, 1), 'paris', 'paris'), ((1, 2), (1, 2), 'is', 'be'), ((4, 5), (3, 4), 'in', 'in'), ((0, 6), (0, 5), 'paris is a city in france', 'paris be city in france'), ((3, 5), (2, 4), 'city in', 'city in'), ((4, 6), (3, 5), 'in france', 'in france'), ((3, 4), (2, 3), 'city', 'city'), ((5, 6), (4, 5), 'france', 'france'), ((0, 3), (0, 2), 'paris is a', 'paris be'), ((0, 4), (0, 3), 'the girl is beautiful', 'girl be beautiful'), ((1, 2), (0, 1), 'girl', 'girl'), ((3, 4), (2, 3), 'beautiful', 'beautiful'), ((2, 3), (1, 2), 'is', 'be'), ((1, 3), (0, 2), 'girl is', 'girl be'), ((1, 4), (0, 3), 'girl is beautiful', 'girl be beautiful'), ((2, 4), (1, 3), 'is beautiful', 'be beautiful'), ((0, 3), (0, 2), 'the girl is', 'girl be'), ((0, 2), (0, 1), 'the girl', 'girl'), ((0, 5), (0, 4), 'paris is a beautiful city', 'paris be beautiful city'), ((0, 1), (0, 1), 'paris', 'paris'), ((1, 2), (1, 2), 'is', 'be'), ((3, 5), (2, 4), 'beautiful city', 'beautiful city'), ((1, 5), (1, 4), 'is a beautiful city', 'be beautiful city'), ((3, 4), (2, 3), 'beautiful', 'beautiful'), ((1, 4), (1, 3), 'is a beautiful', 'be beautiful'), ((0, 4), (0, 3), 'paris is a beautiful', 'paris be beautiful'), ((2, 5), (2, 4), 'a beautiful city', 'beautiful city'), ((1, 3), (1, 2), 'is a', 'be'), ((2, 4), (2, 3), 'a beautiful', 'beautiful'), ((0, 2), (0, 2), 'paris is', 'paris be'), ((4, 5), (3, 4), 'city', 'city'), ((0, 3), (0, 2), 'paris is a', 'paris be'), ((4, 5), (3, 4), 'church', 'church'), ((0, 5), (0, 4), 'the girl is in church', 'girl be in church'), ((2, 5), (1, 4), 'is in church', 'be in church'), ((2, 4), (1, 3), 'is in', 'be in'), ((1, 2), (0, 1), 'girl', 'girl'), ((2, 3), (1, 2), 'is', 'be'), ((1, 5), (0, 4), 'girl is in church', 'girl be in church'), ((1, 3), (0, 2), 'girl is', 'girl be'), ((3, 5), (2, 4), 'in church', 'in church'), ((3, 4), (2, 3), 'in', 'in'), ((0, 4), (0, 3), 'the girl is in', 'girl be in'), ((0, 3), (0, 2), 'the girl is', 'girl be'), ((1, 4), (0, 3), 'girl is in', 'girl be in'), ((0, 2), (0, 1), 'the girl', 'girl'), ((0, 3), (0, 2), 'a church is', 'church be'), ((0, 2), (0, 1), 'a church', 'church'), ((2, 5), (1, 4), 'is in paris', 'be in paris'), ((1, 5), (0, 4), 'church is in paris', 'church be in paris'), ((1, 4), (0, 3), 'church is in', 'church be in'), ((1, 3), (0, 2), 'church is', 'church be'), ((1, 2), (0, 1), 'church', 'church'), ((2, 3), (1, 2), 'is', 'be'), ((0, 5), (0, 4), 'a church is in paris', 'church be in paris'), ((0, 4), (0, 3), 'a church is in', 'church be in'), ((3, 5), (2, 4), 'in paris', 'in paris'), ((3, 4), (2, 3), 'in', 'in'), ((4, 5), (3, 4), 'paris', 'paris'), ((2, 4), (1, 3), 'is in', 'be in'), ((0, 2), (0, 1), 'the church', 'church'), ((0, 3), (0, 2), 'the church is', 'church be'), ((3, 4), (2, 3), 'beautiful', 'beautiful'), ((1, 3), (0, 2), 'church is', 'church be'), ((2, 3), (1, 2), 'is', 'be'), ((1, 4), (0, 3), 'church is beautiful', 'church be beautiful'), ((1, 2), (0, 1), 'church', 'church'), ((0, 4), (0, 3), 'the church is beautiful', 'church be beautiful'), ((2, 4), (1, 3), 'is beautiful', 'be beautiful'), ((4, 5), (3, 4), 'church', 'church'), ((1, 2), (1, 2), 'has', 'have'), ((3, 5), (2, 4), 'beautiful church', 'beautiful church'), ((1, 5), (1, 4), 'has a beautiful church', 'have beautiful church'), ((0, 2), (0, 2), 'france has', 'france have'), ((0, 5), (0, 4), 'france has a beautiful church', 'france have beautiful church'), ((0, 3), (0, 2), 'france has a', 'france have'), ((3, 4), (2, 3), 'beautiful', 'beautiful'), ((1, 3), (1, 2), 'has a', 'have'), ((1, 4), (1, 3), 'has a beautiful', 'have beautiful'), ((2, 4), (2, 3), 'a beautiful', 'beautiful'), ((0, 4), (0, 3), 'france has a beautiful', 'france have beautiful'), ((2, 5), (2, 4), 'a beautiful church', 'beautiful church'), ((0, 1), (0, 1), 'france', 'france')]\n"
     ]
    }
   ],
   "source": [
    "# Extract the phrase pairs from the corpus\n",
    "phrase_based = PhraseBasedModel(f_corpus, e_corpus, ibm1.f_e_alignment)\n",
    "phrase_based.extrat_phrase_pairs()\n",
    "print('pbmt.phrase_table: ', phrase_based.phrase_table)"
   ]
  },
  {
   "cell_type": "code",
   "execution_count": 15,
   "metadata": {},
   "outputs": [
    {
     "name": "stdout",
     "output_type": "stream",
     "text": [
      "pbmt.score_to_f_e_phrase [(1.0, ('paris is a city in france', 'paris be city in france')), (1.0, ('paris is a city in', 'paris be city in')), (1.0, ('paris is a city', 'paris be city')), (1.0, ('paris is a beautiful city', 'paris be beautiful city')), (1.0, ('paris is a beautiful', 'paris be beautiful')), (1.0, ('paris', 'paris')), (1.0, ('is in paris', 'be in paris')), (1.0, ('is in france', 'be in france')), (1.0, ('is in church', 'be in church')), (1.0, ('is in', 'be in')), (1.0, ('is a city in france', 'be city in france')), (1.0, ('is a city in', 'be city in')), (1.0, ('is a city', 'be city')), (1.0, ('is a beautiful city', 'be beautiful city')), (1.0, ('in paris', 'in paris')), (1.0, ('in france', 'in france')), (1.0, ('in church', 'in church')), (1.0, ('in', 'in')), (1.0, ('has a beautiful church', 'have beautiful church')), (1.0, ('has a beautiful', 'have beautiful')), (1.0, ('france has a beautiful church', 'france have beautiful church')), (1.0, ('france has a beautiful', 'france have beautiful')), (1.0, ('france', 'france')), (0.7777777777777778, ('is', 'be')), (0.6666666666666666, ('is beautiful', 'be beautiful')), (0.6666666666666666, ('city', 'city')), (0.6666666666666666, ('church', 'church')), (0.6666666666666666, ('beautiful', 'beautiful')), (0.5, ('the girl is in france', 'girl be in france')), (0.5, ('the girl is in church', 'girl be in church')), (0.5, ('the girl is in', 'girl be in')), (0.5, ('the girl is beautiful', 'girl be beautiful')), (0.5, ('the girl is', 'girl be')), (0.5, ('the girl', 'girl')), (0.5, ('the church is beautiful', 'church be beautiful')), (0.5, ('paris is a', 'paris be')), (0.5, ('paris is', 'paris be')), (0.5, ('has a', 'have')), (0.5, ('has', 'have')), (0.5, ('girl is in france', 'girl be in france')), (0.5, ('girl is in church', 'girl be in church')), (0.5, ('girl is in', 'girl be in')), (0.5, ('girl is beautiful', 'girl be beautiful')), (0.5, ('girl is', 'girl be')), (0.5, ('girl', 'girl')), (0.5, ('france has a', 'france have')), (0.5, ('france has', 'france have')), (0.5, ('city in france', 'city in france')), (0.5, ('city in', 'city in')), (0.5, ('church is in paris', 'church be in paris')), (0.5, ('church is in', 'church be in')), (0.5, ('church is beautiful', 'church be beautiful')), (0.5, ('church is', 'church be')), (0.5, ('beautiful city', 'beautiful city')), (0.5, ('beautiful church', 'beautiful church')), (0.5, ('a city in france', 'city in france')), (0.5, ('a city in', 'city in')), (0.5, ('a church is in paris', 'church be in paris')), (0.5, ('a church is in', 'church be in')), (0.5, ('a beautiful city', 'beautiful city')), (0.5, ('a beautiful church', 'beautiful church')), (0.3333333333333333, ('is a beautiful', 'be beautiful')), (0.3333333333333333, ('a city', 'city')), (0.3333333333333333, ('a beautiful', 'beautiful')), (0.25, ('the church is', 'church be')), (0.25, ('a church is', 'church be')), (0.2222222222222222, ('is a', 'be')), (0.16666666666666666, ('the church', 'church')), (0.16666666666666666, ('a church', 'church'))]\n"
     ]
    }
   ],
   "source": [
    "phrase_based.score_phrase_pairs()\n",
    "print('pbmt.score_to_f_e_phrase', sorted(phrase_based.score_to_f_e_phrase)[::-1])"
   ]
  },
  {
   "cell_type": "code",
   "execution_count": 16,
   "metadata": {},
   "outputs": [],
   "source": [
    "save_model(ibm1, \"models/\" + direction+ \"_ibm1.pkl\")\n",
    "save_model(phrase_based, \"models/\" + direction+ \"_phrase_based.pkl\")"
   ]
  },
  {
   "cell_type": "code",
   "execution_count": 17,
   "metadata": {},
   "outputs": [],
   "source": [
    "# Load the translation models\n",
    "saved_ibm1 = load_model(\"models/\" + direction+ \"_ibm1.pkl\")\n",
    "saved_phrase_based = load_model(\"models/\" + direction+ \"_phrase_based.pkl\")"
   ]
  },
  {
   "cell_type": "code",
   "execution_count": 18,
   "metadata": {},
   "outputs": [
    {
     "name": "stdout",
     "output_type": "stream",
     "text": [
      "ibm1.translation_table:  defaultdict(<function IBMModel1.train.<locals>.<lambda> at 0x000001C4890F13F0>, {'the': defaultdict(<function IBMModel1.train.<locals>.<lambda>.<locals>.<lambda> at 0x000001C4890F05E0>, {'girl': 0.48389928480146044, 'be': 0.38397971962691213, 'in': 0.01893506411683187, 'france': 6.273033751106227e-60, 'beautiful': 0.05659296572741154, 'church': 0.05659296572738387, 'paris': 0.0, 'city': 0.0, 'have': 0.0}), 'girl': defaultdict(<function IBMModel1.train.<locals>.<lambda>.<locals>.<lambda> at 0x000001C4890F1360>, {'girl': 0.9623433360159952, 'be': 1.2401777814299425e-24, 'in': 0.03765666398400472, 'france': 1.247534852104058e-59, 'beautiful': 4.215313480557721e-73, 'church': 3.9738375795389604e-73, 'paris': 0.0, 'city': 0.0, 'have': 0.0}), 'is': defaultdict(<function IBMModel1.train.<locals>.<lambda>.<locals>.<lambda> at 0x000001C4890F1480>, {'girl': 1.2736734644110412e-116, 'be': 0.9999993465829052, 'in': 6.534170946600426e-07, 'france': 2.2439676909151936e-76, 'paris': 6.733563634832666e-149, 'city': 1.428331680116036e-149, 'beautiful': 3.2619219011529525e-38, 'church': 3.1587408345482824e-38, 'have': 0.0}), 'in': defaultdict(<function IBMModel1.train.<locals>.<lambda>.<locals>.<lambda> at 0x000001C4890F1510>, {'girl': 2.4067640482834764e-188, 'be': 1.0162786553278325e-78, 'in': 1.0, 'france': 3.43420413890868e-70, 'paris': 1.43998945607592e-220, 'city': 1.4654167804480083e-242, 'church': 1.612206868757638e-81, 'beautiful': 0.0, 'have': 0.0}), 'france': defaultdict(<function IBMModel1.train.<locals>.<lambda>.<locals>.<lambda> at 0x000001C4890F15A0>, {'girl': 2.1944446927464044e-238, 'be': 5.89457584591206e-116, 'in': 1.2102585776970223e-61, 'france': 1.0, 'paris': 1.0346427970958293e-270, 'city': 3.230964926649926e-222, 'have': 1.545948616015998e-149, 'beautiful': 0.0, 'church': 0.0}), 'paris': defaultdict(<function IBMModel1.train.<locals>.<lambda>.<locals>.<lambda> at 0x000001C4890F1630>, {'paris': 0.8250000000000001, 'be': 1.1083044571418108e-90, 'city': 0.17499999999999993, 'in': 4.052531593576833e-105, 'france': 6.400412150683382e-197, 'beautiful': 6.415637621672029e-204, 'church': 5.7363489871499514e-204, 'girl': 0.0, 'have': 0.0}), 'a': defaultdict(<function IBMModel1.train.<locals>.<lambda>.<locals>.<lambda> at 0x000001C4890F16C0>, {'paris': 0.825, 'be': 1.108304457141839e-90, 'city': 0.17500000000000002, 'in': 4.05253159357692e-105, 'france': 6.807072191584575e-72, 'beautiful': 9.609947289887123e-105, 'church': 9.420735395041541e-105, 'have': 5.613367083377196e-28, 'girl': 0.0}), 'city': defaultdict(<function IBMModel1.train.<locals>.<lambda>.<locals>.<lambda> at 0x000001C4890F1750>, {'paris': 3.2248733960696245e-49, 'be': 4.600021079842192e-139, 'city': 1.0, 'in': 1.2931207955254073e-203, 'france': 3.6573783718190764e-196, 'beautiful': 3.6660786409554554e-203, 'girl': 0.0, 'church': 0.0, 'have': 0.0}), 'beautiful': defaultdict(<function IBMModel1.train.<locals>.<lambda>.<locals>.<lambda> at 0x000001C4890F17E0>, {'girl': 0.0, 'be': 1.3536212372390183e-296, 'beautiful': 1.0, 'paris': 0.0, 'city': 0.0, 'church': 1.135182561437156e-309, 'france': 0.0, 'have': 2.5569823418487563e-170, 'in': 0.0}), 'church': defaultdict(<function IBMModel1.train.<locals>.<lambda>.<locals>.<lambda> at 0x000001C4890F1870>, {'girl': 0.0, 'be': 0.0, 'in': 5.06416262708207e-310, 'church': 1.0, 'paris': 0.0, 'beautiful': 9.70734597192893e-310, 'france': 0.0, 'have': 2.5790141241254427e-170, 'city': 0.0}), 'has': defaultdict(<function IBMModel1.train.<locals>.<lambda>.<locals>.<lambda> at 0x000001C4890F1900>, {'france': 1.6861168348274896e-268, 'have': 1.0, 'beautiful': 0.0, 'church': 0.0, 'girl': 0.0, 'paris': 0.0, 'in': 0.0, 'be': 0.0, 'city': 0.0})})\n",
      "ibm1.translation_tuple:  {('girl', 'girl'): 0.9623433360159952, ('girl', 'beautiful'): 4.215313480557721e-73, ('girl', 'france'): 1.247534852104058e-59, ('girl', 'paris'): 0.0, ('girl', 'in'): 0.03765666398400472, ('girl', 'be'): 1.2401777814299425e-24, ('girl', 'church'): 3.9738375795389604e-73, ('girl', 'city'): 0.0, ('girl', 'have'): 0.0, ('beautiful', 'girl'): 0.0, ('beautiful', 'beautiful'): 1.0, ('beautiful', 'france'): 0.0, ('beautiful', 'paris'): 0.0, ('beautiful', 'in'): 0.0, ('beautiful', 'be'): 1.3536212372390183e-296, ('beautiful', 'church'): 1.135182561437156e-309, ('beautiful', 'city'): 0.0, ('beautiful', 'have'): 2.5569823418487563e-170, ('the', 'girl'): 0.48389928480146044, ('the', 'beautiful'): 0.05659296572741154, ('the', 'france'): 6.273033751106227e-60, ('the', 'paris'): 0.0, ('the', 'in'): 0.01893506411683187, ('the', 'be'): 0.38397971962691213, ('the', 'church'): 0.05659296572738387, ('the', 'city'): 0.0, ('the', 'have'): 0.0, ('france', 'girl'): 2.1944446927464044e-238, ('france', 'beautiful'): 0.0, ('france', 'france'): 1.0, ('france', 'paris'): 1.0346427970958293e-270, ('france', 'in'): 1.2102585776970223e-61, ('france', 'be'): 5.89457584591206e-116, ('france', 'church'): 0.0, ('france', 'city'): 3.230964926649926e-222, ('france', 'have'): 1.545948616015998e-149, ('is', 'girl'): 1.2736734644110412e-116, ('is', 'beautiful'): 3.2619219011529525e-38, ('is', 'france'): 2.2439676909151936e-76, ('is', 'paris'): 6.733563634832666e-149, ('is', 'in'): 6.534170946600426e-07, ('is', 'be'): 0.9999993465829052, ('is', 'church'): 3.1587408345482824e-38, ('is', 'city'): 1.428331680116036e-149, ('is', 'have'): 0.0, ('paris', 'girl'): 0.0, ('paris', 'beautiful'): 6.415637621672029e-204, ('paris', 'france'): 6.400412150683382e-197, ('paris', 'paris'): 0.8250000000000001, ('paris', 'in'): 4.052531593576833e-105, ('paris', 'be'): 1.1083044571418108e-90, ('paris', 'church'): 5.7363489871499514e-204, ('paris', 'city'): 0.17499999999999993, ('paris', 'have'): 0.0, ('in', 'girl'): 2.4067640482834764e-188, ('in', 'beautiful'): 0.0, ('in', 'france'): 3.43420413890868e-70, ('in', 'paris'): 1.43998945607592e-220, ('in', 'in'): 1.0, ('in', 'be'): 1.0162786553278325e-78, ('in', 'church'): 1.612206868757638e-81, ('in', 'city'): 1.4654167804480083e-242, ('in', 'have'): 0.0, ('a', 'girl'): 0.0, ('a', 'beautiful'): 9.609947289887123e-105, ('a', 'france'): 6.807072191584575e-72, ('a', 'paris'): 0.825, ('a', 'in'): 4.05253159357692e-105, ('a', 'be'): 1.108304457141839e-90, ('a', 'church'): 9.420735395041541e-105, ('a', 'city'): 0.17500000000000002, ('a', 'have'): 5.613367083377196e-28, ('has', 'girl'): 0.0, ('has', 'beautiful'): 0.0, ('has', 'france'): 1.6861168348274896e-268, ('has', 'paris'): 0.0, ('has', 'in'): 0.0, ('has', 'be'): 0.0, ('has', 'church'): 0.0, ('has', 'city'): 0.0, ('has', 'have'): 1.0, ('church', 'girl'): 0.0, ('church', 'beautiful'): 9.70734597192893e-310, ('church', 'france'): 0.0, ('church', 'paris'): 0.0, ('church', 'in'): 5.06416262708207e-310, ('church', 'be'): 0.0, ('church', 'church'): 1.0, ('church', 'city'): 0.0, ('church', 'have'): 2.5790141241254427e-170, ('city', 'girl'): 0.0, ('city', 'beautiful'): 3.6660786409554554e-203, ('city', 'france'): 3.6573783718190764e-196, ('city', 'paris'): 3.2248733960696245e-49, ('city', 'in'): 1.2931207955254073e-203, ('city', 'be'): 4.600021079842192e-139, ('city', 'church'): 0.0, ('city', 'city'): 1.0, ('city', 'have'): 0.0}\n"
     ]
    }
   ],
   "source": [
    "print('ibm1.translation_table: ', saved_ibm1.translation_table)\n",
    "print('ibm1.translation_tuple: ', saved_ibm1.translation_tuple)"
   ]
  },
  {
   "cell_type": "code",
   "execution_count": 19,
   "metadata": {},
   "outputs": [
    {
     "name": "stdout",
     "output_type": "stream",
     "text": [
      "phrase_based.phrase_table:  [((2, 5), (1, 4), 'is in france', 'be in france'), ((0, 5), (0, 4), 'the girl is in france', 'girl be in france'), ((1, 5), (0, 4), 'girl is in france', 'girl be in france'), ((3, 5), (2, 4), 'in france', 'in france'), ((2, 4), (1, 3), 'is in', 'be in'), ((4, 5), (3, 4), 'france', 'france'), ((1, 2), (0, 1), 'girl', 'girl'), ((2, 3), (1, 2), 'is', 'be'), ((1, 3), (0, 2), 'girl is', 'girl be'), ((3, 4), (2, 3), 'in', 'in'), ((0, 4), (0, 3), 'the girl is in', 'girl be in'), ((0, 3), (0, 2), 'the girl is', 'girl be'), ((1, 4), (0, 3), 'girl is in', 'girl be in'), ((0, 2), (0, 1), 'the girl', 'girl'), ((1, 5), (1, 4), 'is a city in', 'be city in'), ((1, 6), (1, 5), 'is a city in france', 'be city in france'), ((2, 5), (2, 4), 'a city in', 'city in'), ((1, 3), (1, 2), 'is a', 'be'), ((1, 4), (1, 3), 'is a city', 'be city'), ((2, 6), (2, 5), 'a city in france', 'city in france'), ((2, 4), (2, 3), 'a city', 'city'), ((0, 2), (0, 2), 'paris is', 'paris be'), ((0, 4), (0, 3), 'paris is a city', 'paris be city'), ((0, 5), (0, 4), 'paris is a city in', 'paris be city in'), ((3, 6), (2, 5), 'city in france', 'city in france'), ((0, 1), (0, 1), 'paris', 'paris'), ((1, 2), (1, 2), 'is', 'be'), ((4, 5), (3, 4), 'in', 'in'), ((0, 6), (0, 5), 'paris is a city in france', 'paris be city in france'), ((3, 5), (2, 4), 'city in', 'city in'), ((4, 6), (3, 5), 'in france', 'in france'), ((3, 4), (2, 3), 'city', 'city'), ((5, 6), (4, 5), 'france', 'france'), ((0, 3), (0, 2), 'paris is a', 'paris be'), ((0, 4), (0, 3), 'the girl is beautiful', 'girl be beautiful'), ((1, 2), (0, 1), 'girl', 'girl'), ((3, 4), (2, 3), 'beautiful', 'beautiful'), ((2, 3), (1, 2), 'is', 'be'), ((1, 3), (0, 2), 'girl is', 'girl be'), ((1, 4), (0, 3), 'girl is beautiful', 'girl be beautiful'), ((2, 4), (1, 3), 'is beautiful', 'be beautiful'), ((0, 3), (0, 2), 'the girl is', 'girl be'), ((0, 2), (0, 1), 'the girl', 'girl'), ((0, 5), (0, 4), 'paris is a beautiful city', 'paris be beautiful city'), ((0, 1), (0, 1), 'paris', 'paris'), ((1, 2), (1, 2), 'is', 'be'), ((3, 5), (2, 4), 'beautiful city', 'beautiful city'), ((1, 5), (1, 4), 'is a beautiful city', 'be beautiful city'), ((3, 4), (2, 3), 'beautiful', 'beautiful'), ((1, 4), (1, 3), 'is a beautiful', 'be beautiful'), ((0, 4), (0, 3), 'paris is a beautiful', 'paris be beautiful'), ((2, 5), (2, 4), 'a beautiful city', 'beautiful city'), ((1, 3), (1, 2), 'is a', 'be'), ((2, 4), (2, 3), 'a beautiful', 'beautiful'), ((0, 2), (0, 2), 'paris is', 'paris be'), ((4, 5), (3, 4), 'city', 'city'), ((0, 3), (0, 2), 'paris is a', 'paris be'), ((4, 5), (3, 4), 'church', 'church'), ((0, 5), (0, 4), 'the girl is in church', 'girl be in church'), ((2, 5), (1, 4), 'is in church', 'be in church'), ((2, 4), (1, 3), 'is in', 'be in'), ((1, 2), (0, 1), 'girl', 'girl'), ((2, 3), (1, 2), 'is', 'be'), ((1, 5), (0, 4), 'girl is in church', 'girl be in church'), ((1, 3), (0, 2), 'girl is', 'girl be'), ((3, 5), (2, 4), 'in church', 'in church'), ((3, 4), (2, 3), 'in', 'in'), ((0, 4), (0, 3), 'the girl is in', 'girl be in'), ((0, 3), (0, 2), 'the girl is', 'girl be'), ((1, 4), (0, 3), 'girl is in', 'girl be in'), ((0, 2), (0, 1), 'the girl', 'girl'), ((0, 3), (0, 2), 'a church is', 'church be'), ((0, 2), (0, 1), 'a church', 'church'), ((2, 5), (1, 4), 'is in paris', 'be in paris'), ((1, 5), (0, 4), 'church is in paris', 'church be in paris'), ((1, 4), (0, 3), 'church is in', 'church be in'), ((1, 3), (0, 2), 'church is', 'church be'), ((1, 2), (0, 1), 'church', 'church'), ((2, 3), (1, 2), 'is', 'be'), ((0, 5), (0, 4), 'a church is in paris', 'church be in paris'), ((0, 4), (0, 3), 'a church is in', 'church be in'), ((3, 5), (2, 4), 'in paris', 'in paris'), ((3, 4), (2, 3), 'in', 'in'), ((4, 5), (3, 4), 'paris', 'paris'), ((2, 4), (1, 3), 'is in', 'be in'), ((0, 2), (0, 1), 'the church', 'church'), ((0, 3), (0, 2), 'the church is', 'church be'), ((3, 4), (2, 3), 'beautiful', 'beautiful'), ((1, 3), (0, 2), 'church is', 'church be'), ((2, 3), (1, 2), 'is', 'be'), ((1, 4), (0, 3), 'church is beautiful', 'church be beautiful'), ((1, 2), (0, 1), 'church', 'church'), ((0, 4), (0, 3), 'the church is beautiful', 'church be beautiful'), ((2, 4), (1, 3), 'is beautiful', 'be beautiful'), ((4, 5), (3, 4), 'church', 'church'), ((1, 2), (1, 2), 'has', 'have'), ((3, 5), (2, 4), 'beautiful church', 'beautiful church'), ((1, 5), (1, 4), 'has a beautiful church', 'have beautiful church'), ((0, 2), (0, 2), 'france has', 'france have'), ((0, 5), (0, 4), 'france has a beautiful church', 'france have beautiful church'), ((0, 3), (0, 2), 'france has a', 'france have'), ((3, 4), (2, 3), 'beautiful', 'beautiful'), ((1, 3), (1, 2), 'has a', 'have'), ((1, 4), (1, 3), 'has a beautiful', 'have beautiful'), ((2, 4), (2, 3), 'a beautiful', 'beautiful'), ((0, 4), (0, 3), 'france has a beautiful', 'france have beautiful'), ((2, 5), (2, 4), 'a beautiful church', 'beautiful church'), ((0, 1), (0, 1), 'france', 'france')]\n",
      "phrase_based.score_to_f_e_phrase [(1.0, ('paris is a city in france', 'paris be city in france')), (1.0, ('paris is a city in', 'paris be city in')), (1.0, ('paris is a city', 'paris be city')), (1.0, ('paris is a beautiful city', 'paris be beautiful city')), (1.0, ('paris is a beautiful', 'paris be beautiful')), (1.0, ('paris', 'paris')), (1.0, ('is in paris', 'be in paris')), (1.0, ('is in france', 'be in france')), (1.0, ('is in church', 'be in church')), (1.0, ('is in', 'be in')), (1.0, ('is a city in france', 'be city in france')), (1.0, ('is a city in', 'be city in')), (1.0, ('is a city', 'be city')), (1.0, ('is a beautiful city', 'be beautiful city')), (1.0, ('in paris', 'in paris')), (1.0, ('in france', 'in france')), (1.0, ('in church', 'in church')), (1.0, ('in', 'in')), (1.0, ('has a beautiful church', 'have beautiful church')), (1.0, ('has a beautiful', 'have beautiful')), (1.0, ('france has a beautiful church', 'france have beautiful church')), (1.0, ('france has a beautiful', 'france have beautiful')), (1.0, ('france', 'france')), (0.7777777777777778, ('is', 'be')), (0.6666666666666666, ('is beautiful', 'be beautiful')), (0.6666666666666666, ('city', 'city')), (0.6666666666666666, ('church', 'church')), (0.6666666666666666, ('beautiful', 'beautiful')), (0.5, ('the girl is in france', 'girl be in france')), (0.5, ('the girl is in church', 'girl be in church')), (0.5, ('the girl is in', 'girl be in')), (0.5, ('the girl is beautiful', 'girl be beautiful')), (0.5, ('the girl is', 'girl be')), (0.5, ('the girl', 'girl')), (0.5, ('the church is beautiful', 'church be beautiful')), (0.5, ('paris is a', 'paris be')), (0.5, ('paris is', 'paris be')), (0.5, ('has a', 'have')), (0.5, ('has', 'have')), (0.5, ('girl is in france', 'girl be in france')), (0.5, ('girl is in church', 'girl be in church')), (0.5, ('girl is in', 'girl be in')), (0.5, ('girl is beautiful', 'girl be beautiful')), (0.5, ('girl is', 'girl be')), (0.5, ('girl', 'girl')), (0.5, ('france has a', 'france have')), (0.5, ('france has', 'france have')), (0.5, ('city in france', 'city in france')), (0.5, ('city in', 'city in')), (0.5, ('church is in paris', 'church be in paris')), (0.5, ('church is in', 'church be in')), (0.5, ('church is beautiful', 'church be beautiful')), (0.5, ('church is', 'church be')), (0.5, ('beautiful city', 'beautiful city')), (0.5, ('beautiful church', 'beautiful church')), (0.5, ('a city in france', 'city in france')), (0.5, ('a city in', 'city in')), (0.5, ('a church is in paris', 'church be in paris')), (0.5, ('a church is in', 'church be in')), (0.5, ('a beautiful city', 'beautiful city')), (0.5, ('a beautiful church', 'beautiful church')), (0.3333333333333333, ('is a beautiful', 'be beautiful')), (0.3333333333333333, ('a city', 'city')), (0.3333333333333333, ('a beautiful', 'beautiful')), (0.25, ('the church is', 'church be')), (0.25, ('a church is', 'church be')), (0.2222222222222222, ('is a', 'be')), (0.16666666666666666, ('the church', 'church')), (0.16666666666666666, ('a church', 'church'))]\n"
     ]
    }
   ],
   "source": [
    "\n",
    "print('phrase_based.phrase_table: ', saved_phrase_based.phrase_table)\n",
    "print('phrase_based.score_to_f_e_phrase', sorted(saved_phrase_based.score_to_f_e_phrase)[::-1])"
   ]
  },
  {
   "cell_type": "code",
   "execution_count": null,
   "metadata": {},
   "outputs": [],
   "source": []
  }
 ],
 "metadata": {
  "kernelspec": {
   "display_name": "Python 3",
   "language": "python",
   "name": "python3"
  },
  "language_info": {
   "codemirror_mode": {
    "name": "ipython",
    "version": 3
   },
   "file_extension": ".py",
   "mimetype": "text/x-python",
   "name": "python",
   "nbconvert_exporter": "python",
   "pygments_lexer": "ipython3",
   "version": "3.10.0"
  }
 },
 "nbformat": 4,
 "nbformat_minor": 2
}
