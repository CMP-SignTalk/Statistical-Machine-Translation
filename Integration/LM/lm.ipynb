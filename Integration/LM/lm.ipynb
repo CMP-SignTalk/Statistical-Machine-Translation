{
 "cells": [
  {
   "attachments": {},
   "cell_type": "markdown",
   "metadata": {},
   "source": [
    "# Testing the Language Model"
   ]
  },
  {
   "cell_type": "code",
   "execution_count": 16,
   "metadata": {},
   "outputs": [],
   "source": [
    "# import sys\n",
    "# import os\n",
    "\n",
    "# # Add the Integration directory to the Python system path, enabling the import of modules or packages located in that directory.\n",
    "# sys.path.append( os.path.abspath(os.path.join(os.getcwd(), os.pardir)))"
   ]
  },
  {
   "cell_type": "code",
   "execution_count": 1,
   "metadata": {},
   "outputs": [],
   "source": [
    "# import LM.lm as lm\n",
    "# import utils as utils\n",
    "# import lm as lm\n",
    "# import utils as utils\n",
    "from lm import * \n",
    "from utils import *"
   ]
  },
  {
   "attachments": {},
   "cell_type": "markdown",
   "metadata": {},
   "source": [
    "### Load the Training Data"
   ]
  },
  {
   "cell_type": "code",
   "execution_count": 9,
   "metadata": {},
   "outputs": [
    {
     "name": "stdout",
     "output_type": "stream",
     "text": [
      "f_corpus ['How be you', 'How be love', 'What be your name', 'What be your age', 'What be love', 'What do you want', 'My name be X', 'Where do you live', 'How do you live', 'How do you love', 'How do you help', 'Where be you from', 'I be from X', 'Do you want help', 'Do you want love', 'I be a teacher', 'I want love', 'I want help', 'I love my teacher', 'I help my teacher', 'I love my school', 'I be sick', 'I be sign talk', 'I be', 'be', 'My age be 22', '22 be my age', 'Hello sign talk', 'what be sign talk', 'how be sign talk', 'sign']\n",
      "e_corpus ['How are you', 'How is love', 'What is your name', 'What is your age', 'What is love', 'What do you want', 'My name is X', 'Where do you live', 'How do you live', 'How do you love', 'How do you help', 'Where are you from', 'I am from X', 'Do you want help', 'Do you want love', 'I am a teacher', 'I want love', 'I want help', 'I love my teacher', 'I help my teacher', 'I love my school', 'I am sick', 'I am sign talk', 'I am', 'am', 'My age is 22', '22 is my age', 'Hello sign talk', 'what is sign talk', 'how is sign talk', 'sign']\n"
     ]
    }
   ],
   "source": [
    "direction = 'backward'\n",
    "f_corpus, e_corpus = load_data(\"../data/demo.json\", direction, 1000)\n",
    "print('f_corpus', f_corpus)\n",
    "print('e_corpus', e_corpus)"
   ]
  },
  {
   "attachments": {},
   "cell_type": "markdown",
   "metadata": {},
   "source": [
    "## Unigram"
   ]
  },
  {
   "cell_type": "code",
   "execution_count": 10,
   "metadata": {},
   "outputs": [],
   "source": [
    "# unigram_lm = Unigram(e_corpus)\n",
    "# unigram_lm.preprocess()\n",
    "# unigram_lm.train()"
   ]
  },
  {
   "cell_type": "code",
   "execution_count": 11,
   "metadata": {},
   "outputs": [],
   "source": [
    "# save_model(unigram_lm, \"models/\" + direction+ \"_unigram_lm.pkl\")"
   ]
  },
  {
   "attachments": {},
   "cell_type": "markdown",
   "metadata": {},
   "source": [
    "### Perplexity"
   ]
  },
  {
   "cell_type": "code",
   "execution_count": 12,
   "metadata": {},
   "outputs": [],
   "source": [
    "# test_corpus = [\"The lazy brown dog jumps over the quick fox\"]\n",
    "\n",
    "# perplexity = unigram_lm.perplexity(test_corpus)\n",
    "# print(\"Perplexity:\", perplexity)"
   ]
  },
  {
   "attachments": {},
   "cell_type": "markdown",
   "metadata": {},
   "source": [
    "## Bigram"
   ]
  },
  {
   "cell_type": "code",
   "execution_count": 13,
   "metadata": {},
   "outputs": [],
   "source": [
    "bigram_lm = Bigram(e_corpus)\n",
    "bigram_lm.preprocess()\n",
    "bigram_lm.train()"
   ]
  },
  {
   "cell_type": "code",
   "execution_count": 14,
   "metadata": {},
   "outputs": [],
   "source": [
    "save_model(bigram_lm, \"models/\" + direction+ \"_lm.pkl\")"
   ]
  },
  {
   "attachments": {},
   "cell_type": "markdown",
   "metadata": {},
   "source": [
    "### Perplexity"
   ]
  },
  {
   "cell_type": "code",
   "execution_count": 15,
   "metadata": {},
   "outputs": [],
   "source": [
    "# test_corpus = [\"The lazy brown dog jumps over the quick fox\"]\n",
    "\n",
    "# perplexity = bigram_lm.perplexity(test_corpus)\n",
    "# print(\"Perplexity:\", perplexity)"
   ]
  },
  {
   "attachments": {},
   "cell_type": "markdown",
   "metadata": {},
   "source": [
    "## Trigram"
   ]
  },
  {
   "cell_type": "code",
   "execution_count": 99,
   "metadata": {},
   "outputs": [],
   "source": [
    "trigram_lm = Trigram(e_corpus)\n",
    "trigram_lm.preprocess()\n",
    "trigram_lm.train()"
   ]
  },
  {
   "cell_type": "code",
   "execution_count": 84,
   "metadata": {},
   "outputs": [],
   "source": [
    "# save_model(trigram_lm, \"models/\" + direction+ \"_trigram_lm.pkl\")"
   ]
  },
  {
   "attachments": {},
   "cell_type": "markdown",
   "metadata": {},
   "source": [
    "### Perplexity"
   ]
  },
  {
   "cell_type": "code",
   "execution_count": 16,
   "metadata": {},
   "outputs": [],
   "source": [
    "# test_corpus = [\"The lazy brown dog jumps over the quick fox\"]\n",
    "\n",
    "# perplexity = trigram_lm.perplexity(test_corpus)\n",
    "# print(\"Perplexity:\", perplexity)"
   ]
  },
  {
   "attachments": {},
   "cell_type": "markdown",
   "metadata": {},
   "source": [
    "## Interpolated LM"
   ]
  },
  {
   "cell_type": "code",
   "execution_count": null,
   "metadata": {},
   "outputs": [],
   "source": [
    "interpolated_lm = LM(e_corpus)\n",
    "interpolated_lm.preprocess()\n",
    "interpolated_lm.train()"
   ]
  },
  {
   "cell_type": "code",
   "execution_count": 3,
   "metadata": {},
   "outputs": [],
   "source": [
    "# save_model(interpolated_lm, direction + \"_interpolated_lm.pkl\")"
   ]
  }
 ],
 "metadata": {
  "kernelspec": {
   "display_name": "base",
   "language": "python",
   "name": "python3"
  },
  "language_info": {
   "codemirror_mode": {
    "name": "ipython",
    "version": 3
   },
   "file_extension": ".py",
   "mimetype": "text/x-python",
   "name": "python",
   "nbconvert_exporter": "python",
   "pygments_lexer": "ipython3",
   "version": "3.10.0"
  },
  "orig_nbformat": 4
 },
 "nbformat": 4,
 "nbformat_minor": 2
}
