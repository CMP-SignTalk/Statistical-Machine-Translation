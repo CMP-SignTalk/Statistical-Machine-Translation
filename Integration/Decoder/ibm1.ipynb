{
 "cells": [
  {
   "cell_type": "code",
   "execution_count": 1,
   "metadata": {},
   "outputs": [],
   "source": [
    "import sys\n",
    "import os\n",
    "\n",
    "parent_directory = os.path.abspath(os.path.join(os.getcwd(), os.pardir))\n",
    "sys.path.append(parent_directory)"
   ]
  },
  {
   "cell_type": "code",
   "execution_count": 2,
   "metadata": {},
   "outputs": [],
   "source": [
    "import LM.lm as lm\n",
    "import TM.ibm1 as tm\n",
    "import Decoder.ibm1 as decoder\n",
    "import utils as utils"
   ]
  },
  {
   "cell_type": "code",
   "execution_count": 3,
   "metadata": {},
   "outputs": [
    {
     "name": "stdout",
     "output_type": "stream",
     "text": [
      "['the girl is in france', 'paris is a city in france', 'the girl is beautiful', 'paris is a beautiful city', 'the girl is in church', 'a church is in paris', 'the church is beautiful', 'france has a beautiful church']\n",
      "['girl be in france', 'paris be city in france', 'girl be beautiful', 'paris be beautiful city', 'girl be in church', 'church be in paris', 'church be beautiful', 'france have beautiful church']\n"
     ]
    }
   ],
   "source": [
    "direction = 'forward'\n",
    "f_corpus, e_corpus = utils.load_data('../data/data.json', direction)\n",
    "print(f_corpus)\n",
    "print(e_corpus)"
   ]
  },
  {
   "attachments": {},
   "cell_type": "markdown",
   "metadata": {},
   "source": [
    "# IBM 1 Translation Model"
   ]
  },
  {
   "cell_type": "code",
   "execution_count": 4,
   "metadata": {},
   "outputs": [
    {
     "name": "stdout",
     "output_type": "stream",
     "text": [
      "ibm1.translation_table:  defaultdict(<function IBMModel1.train.<locals>.<lambda> at 0x000002A11A2337F0>, {'the': defaultdict(<function IBMModel1.train.<locals>.<lambda>.<locals>.<lambda> at 0x000002A13A481990>, {'girl': 0.48389928480146044, 'be': 0.38397971962691213, 'in': 0.01893506411683187, 'france': 6.273033751106227e-60, 'beautiful': 0.05659296572741154, 'church': 0.05659296572738387, 'have': 0.0, 'city': 0.0, 'paris': 0.0}), 'girl': defaultdict(<function IBMModel1.train.<locals>.<lambda>.<locals>.<lambda> at 0x000002A13A481A20>, {'girl': 0.9623433360159952, 'be': 1.2401777814299425e-24, 'in': 0.03765666398400472, 'france': 1.247534852104058e-59, 'beautiful': 4.215313480557721e-73, 'church': 3.9738375795389604e-73, 'have': 0.0, 'city': 0.0, 'paris': 0.0}), 'is': defaultdict(<function IBMModel1.train.<locals>.<lambda>.<locals>.<lambda> at 0x000002A13A481AB0>, {'girl': 1.2736734644110412e-116, 'be': 0.9999993465829052, 'in': 6.534170946600426e-07, 'france': 2.2439676909151936e-76, 'paris': 6.733563634832666e-149, 'city': 1.428331680116036e-149, 'beautiful': 3.2619219011529525e-38, 'church': 3.1587408345482824e-38, 'have': 0.0}), 'in': defaultdict(<function IBMModel1.train.<locals>.<lambda>.<locals>.<lambda> at 0x000002A13A481B40>, {'girl': 2.4067640482834764e-188, 'be': 1.0162786553278325e-78, 'in': 1.0, 'france': 3.43420413890868e-70, 'paris': 1.43998945607592e-220, 'city': 1.4654167804480083e-242, 'church': 1.612206868757638e-81, 'have': 0.0, 'beautiful': 0.0}), 'france': defaultdict(<function IBMModel1.train.<locals>.<lambda>.<locals>.<lambda> at 0x000002A13A481BD0>, {'girl': 2.1944446927464044e-238, 'be': 5.89457584591206e-116, 'in': 1.2102585776970223e-61, 'france': 1.0, 'paris': 1.0346427970958293e-270, 'city': 3.230964926649926e-222, 'have': 1.545948616015998e-149, 'beautiful': 0.0, 'church': 0.0}), 'paris': defaultdict(<function IBMModel1.train.<locals>.<lambda>.<locals>.<lambda> at 0x000002A13A481C60>, {'paris': 0.8250000000000001, 'be': 1.1083044571418108e-90, 'city': 0.17499999999999993, 'in': 4.052531593576833e-105, 'france': 6.400412150683382e-197, 'beautiful': 6.415637621672029e-204, 'church': 5.7363489871499514e-204, 'girl': 0.0, 'have': 0.0}), 'a': defaultdict(<function IBMModel1.train.<locals>.<lambda>.<locals>.<lambda> at 0x000002A13A481CF0>, {'paris': 0.825, 'be': 1.108304457141839e-90, 'city': 0.17500000000000002, 'in': 4.05253159357692e-105, 'france': 6.807072191584575e-72, 'beautiful': 9.609947289887123e-105, 'church': 9.420735395041541e-105, 'have': 5.613367083377196e-28, 'girl': 0.0}), 'city': defaultdict(<function IBMModel1.train.<locals>.<lambda>.<locals>.<lambda> at 0x000002A13A481D80>, {'paris': 3.2248733960696245e-49, 'be': 4.600021079842192e-139, 'city': 1.0, 'in': 1.2931207955254073e-203, 'france': 3.6573783718190764e-196, 'beautiful': 3.6660786409554554e-203, 'girl': 0.0, 'have': 0.0, 'church': 0.0}), 'beautiful': defaultdict(<function IBMModel1.train.<locals>.<lambda>.<locals>.<lambda> at 0x000002A13A481E10>, {'girl': 0.0, 'be': 1.3536212372390183e-296, 'beautiful': 1.0, 'paris': 0.0, 'city': 0.0, 'church': 1.135182561437156e-309, 'france': 0.0, 'have': 2.5569823418487563e-170, 'in': 0.0}), 'church': defaultdict(<function IBMModel1.train.<locals>.<lambda>.<locals>.<lambda> at 0x000002A13A481EA0>, {'girl': 0.0, 'be': 0.0, 'in': 5.06416262708207e-310, 'church': 1.0, 'paris': 0.0, 'beautiful': 9.70734597192893e-310, 'france': 0.0, 'have': 2.5790141241254427e-170, 'city': 0.0}), 'has': defaultdict(<function IBMModel1.train.<locals>.<lambda>.<locals>.<lambda> at 0x000002A13A481F30>, {'france': 1.6861168348274896e-268, 'have': 1.0, 'beautiful': 0.0, 'church': 0.0, 'in': 0.0, 'girl': 0.0, 'be': 0.0, 'city': 0.0, 'paris': 0.0})})\n",
      "ibm1.translation_tuple:  {('france', 'france'): 1.0, ('france', 'in'): 1.2102585776970223e-61, ('france', 'girl'): 2.1944446927464044e-238, ('france', 'be'): 5.89457584591206e-116, ('france', 'have'): 1.545948616015998e-149, ('france', 'church'): 0.0, ('france', 'city'): 3.230964926649926e-222, ('france', 'beautiful'): 0.0, ('france', 'paris'): 1.0346427970958293e-270, ('a', 'france'): 6.807072191584575e-72, ('a', 'in'): 4.05253159357692e-105, ('a', 'girl'): 0.0, ('a', 'be'): 1.108304457141839e-90, ('a', 'have'): 5.613367083377196e-28, ('a', 'church'): 9.420735395041541e-105, ('a', 'city'): 0.17500000000000002, ('a', 'beautiful'): 9.609947289887123e-105, ('a', 'paris'): 0.825, ('has', 'france'): 1.6861168348274896e-268, ('has', 'in'): 0.0, ('has', 'girl'): 0.0, ('has', 'be'): 0.0, ('has', 'have'): 1.0, ('has', 'church'): 0.0, ('has', 'city'): 0.0, ('has', 'beautiful'): 0.0, ('has', 'paris'): 0.0, ('in', 'france'): 3.43420413890868e-70, ('in', 'in'): 1.0, ('in', 'girl'): 2.4067640482834764e-188, ('in', 'be'): 1.0162786553278325e-78, ('in', 'have'): 0.0, ('in', 'church'): 1.612206868757638e-81, ('in', 'city'): 1.4654167804480083e-242, ('in', 'beautiful'): 0.0, ('in', 'paris'): 1.43998945607592e-220, ('girl', 'france'): 1.247534852104058e-59, ('girl', 'in'): 0.03765666398400472, ('girl', 'girl'): 0.9623433360159952, ('girl', 'be'): 1.2401777814299425e-24, ('girl', 'have'): 0.0, ('girl', 'church'): 3.9738375795389604e-73, ('girl', 'city'): 0.0, ('girl', 'beautiful'): 4.215313480557721e-73, ('girl', 'paris'): 0.0, ('church', 'france'): 0.0, ('church', 'in'): 5.06416262708207e-310, ('church', 'girl'): 0.0, ('church', 'be'): 0.0, ('church', 'have'): 2.5790141241254427e-170, ('church', 'church'): 1.0, ('church', 'city'): 0.0, ('church', 'beautiful'): 9.70734597192893e-310, ('church', 'paris'): 0.0, ('city', 'france'): 3.6573783718190764e-196, ('city', 'in'): 1.2931207955254073e-203, ('city', 'girl'): 0.0, ('city', 'be'): 4.600021079842192e-139, ('city', 'have'): 0.0, ('city', 'church'): 0.0, ('city', 'city'): 1.0, ('city', 'beautiful'): 3.6660786409554554e-203, ('city', 'paris'): 3.2248733960696245e-49, ('the', 'france'): 6.273033751106227e-60, ('the', 'in'): 0.01893506411683187, ('the', 'girl'): 0.48389928480146044, ('the', 'be'): 0.38397971962691213, ('the', 'have'): 0.0, ('the', 'church'): 0.05659296572738387, ('the', 'city'): 0.0, ('the', 'beautiful'): 0.05659296572741154, ('the', 'paris'): 0.0, ('is', 'france'): 2.2439676909151936e-76, ('is', 'in'): 6.534170946600426e-07, ('is', 'girl'): 1.2736734644110412e-116, ('is', 'be'): 0.9999993465829052, ('is', 'have'): 0.0, ('is', 'church'): 3.1587408345482824e-38, ('is', 'city'): 1.428331680116036e-149, ('is', 'beautiful'): 3.2619219011529525e-38, ('is', 'paris'): 6.733563634832666e-149, ('beautiful', 'france'): 0.0, ('beautiful', 'in'): 0.0, ('beautiful', 'girl'): 0.0, ('beautiful', 'be'): 1.3536212372390183e-296, ('beautiful', 'have'): 2.5569823418487563e-170, ('beautiful', 'church'): 1.135182561437156e-309, ('beautiful', 'city'): 0.0, ('beautiful', 'beautiful'): 1.0, ('beautiful', 'paris'): 0.0, ('paris', 'france'): 6.400412150683382e-197, ('paris', 'in'): 4.052531593576833e-105, ('paris', 'girl'): 0.0, ('paris', 'be'): 1.1083044571418108e-90, ('paris', 'have'): 0.0, ('paris', 'church'): 5.7363489871499514e-204, ('paris', 'city'): 0.17499999999999993, ('paris', 'beautiful'): 6.415637621672029e-204, ('paris', 'paris'): 0.8250000000000001}\n"
     ]
    }
   ],
   "source": [
    "ibm1 = tm.IBMModel1(f_corpus, e_corpus)\n",
    "ibm1.preprocess()\n",
    "ibm1.train(100000000, 0.0000001)\n",
    "print('ibm1.translation_table: ', ibm1.translation_table)\n",
    "print('ibm1.translation_tuple: ', ibm1.translation_tuple)\n",
    "\n",
    "# for f_e_pair, prob in sorted(ibm1.translation_tuple.items()):\n",
    "#     print(f_e_pair, prob)"
   ]
  },
  {
   "attachments": {},
   "cell_type": "markdown",
   "metadata": {},
   "source": [
    "## The Language Models"
   ]
  },
  {
   "cell_type": "code",
   "execution_count": 5,
   "metadata": {},
   "outputs": [],
   "source": [
    "unigram_lm = lm.Unigram(e_corpus)\n",
    "unigram_lm.preprocess()\n",
    "unigram_lm.train()"
   ]
  },
  {
   "cell_type": "code",
   "execution_count": 6,
   "metadata": {},
   "outputs": [],
   "source": [
    "bigram_lm = lm.Bigram(e_corpus)\n",
    "bigram_lm.preprocess()\n",
    "bigram_lm.train()"
   ]
  },
  {
   "cell_type": "code",
   "execution_count": 7,
   "metadata": {},
   "outputs": [],
   "source": [
    "trigram_lm = lm.Trigram(e_corpus)\n",
    "trigram_lm.preprocess()\n",
    "trigram_lm.train()"
   ]
  },
  {
   "attachments": {},
   "cell_type": "markdown",
   "metadata": {},
   "source": [
    "## The Decoder (Translation)"
   ]
  },
  {
   "cell_type": "code",
   "execution_count": 8,
   "metadata": {},
   "outputs": [
    {
     "data": {
      "text/plain": [
       "'girl girl be in france'"
      ]
     },
     "execution_count": 8,
     "metadata": {},
     "output_type": "execute_result"
    }
   ],
   "source": [
    "translator = decoder.Decoder(ibm1)\n",
    "translator.translate(\"the girl is in france\")"
   ]
  },
  {
   "attachments": {},
   "cell_type": "markdown",
   "metadata": {},
   "source": [
    "### With Unigram"
   ]
  },
  {
   "cell_type": "code",
   "execution_count": 10,
   "metadata": {},
   "outputs": [
    {
     "data": {
      "text/plain": [
       "'be girl be in france'"
      ]
     },
     "execution_count": 10,
     "metadata": {},
     "output_type": "execute_result"
    }
   ],
   "source": [
    "translator = decoder.Decoder(ibm1, unigram_lm)\n",
    "translator.translate(\"the girl is in france\")"
   ]
  },
  {
   "attachments": {},
   "cell_type": "markdown",
   "metadata": {},
   "source": [
    "### With Bigram"
   ]
  },
  {
   "cell_type": "code",
   "execution_count": 11,
   "metadata": {},
   "outputs": [
    {
     "data": {
      "text/plain": [
       "'girl girl be in france'"
      ]
     },
     "execution_count": 11,
     "metadata": {},
     "output_type": "execute_result"
    }
   ],
   "source": [
    "translator = decoder.Decoder(ibm1, bigram_lm)\n",
    "translator.translate(\"the girl is in france\")"
   ]
  },
  {
   "attachments": {},
   "cell_type": "markdown",
   "metadata": {},
   "source": [
    "### With Trigram"
   ]
  },
  {
   "cell_type": "code",
   "execution_count": 12,
   "metadata": {},
   "outputs": [
    {
     "data": {
      "text/plain": [
       "'girl girl be in france'"
      ]
     },
     "execution_count": 12,
     "metadata": {},
     "output_type": "execute_result"
    }
   ],
   "source": [
    "translator = decoder.Decoder(ibm1, trigram_lm)\n",
    "translator.translate(\"the girl is in france\")"
   ]
  }
 ],
 "metadata": {
  "kernelspec": {
   "display_name": "base",
   "language": "python",
   "name": "python3"
  },
  "language_info": {
   "codemirror_mode": {
    "name": "ipython",
    "version": 3
   },
   "file_extension": ".py",
   "mimetype": "text/x-python",
   "name": "python",
   "nbconvert_exporter": "python",
   "pygments_lexer": "ipython3",
   "version": "3.10.0"
  },
  "orig_nbformat": 4
 },
 "nbformat": 4,
 "nbformat_minor": 2
}
