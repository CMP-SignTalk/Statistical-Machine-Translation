{
 "cells": [
  {
   "attachments": {},
   "cell_type": "markdown",
   "metadata": {},
   "source": [
    "# Testing the Language Model"
   ]
  },
  {
   "cell_type": "code",
   "execution_count": 16,
   "metadata": {},
   "outputs": [],
   "source": [
    "# import sys\n",
    "# import os\n",
    "\n",
    "# # Add the Integration directory to the Python system path, enabling the import of modules or packages located in that directory.\n",
    "# sys.path.append( os.path.abspath(os.path.join(os.getcwd(), os.pardir)))"
   ]
  },
  {
   "cell_type": "code",
   "execution_count": 1,
   "metadata": {},
   "outputs": [],
   "source": [
    "# import LM.lm as lm\n",
    "# import utils as utils\n",
    "# import lm as lm\n",
    "# import utils as utils\n",
    "from lm import * \n",
    "from utils import *"
   ]
  },
  {
   "attachments": {},
   "cell_type": "markdown",
   "metadata": {},
   "source": [
    "### Load the Training Data"
   ]
  },
  {
   "cell_type": "code",
   "execution_count": 10,
   "metadata": {},
   "outputs": [
    {
     "name": "stdout",
     "output_type": "stream",
     "text": [
      "f_corpus ['the girl is in france', 'paris is a city in france', 'the girl is beautiful', 'paris is a beautiful city', 'the girl is in church', 'a church is in paris', 'the church is beautiful', 'france has a beautiful church']\n",
      "e_corpus ['girl be in france', 'paris be city in france', 'girl be beautiful', 'paris be beautiful city', 'girl be in church', 'church be in paris', 'church be beautiful', 'france have beautiful church']\n"
     ]
    }
   ],
   "source": [
    "direction = 'forward'\n",
    "f_corpus, e_corpus = load_data(\"../data/data.json\", direction, 1000)\n",
    "print('f_corpus', f_corpus)\n",
    "print('e_corpus', e_corpus)"
   ]
  },
  {
   "attachments": {},
   "cell_type": "markdown",
   "metadata": {},
   "source": [
    "## Unigram"
   ]
  },
  {
   "cell_type": "code",
   "execution_count": 11,
   "metadata": {},
   "outputs": [],
   "source": [
    "unigram_lm = Unigram(e_corpus)\n",
    "unigram_lm.preprocess()\n",
    "unigram_lm.train()"
   ]
  },
  {
   "cell_type": "code",
   "execution_count": null,
   "metadata": {},
   "outputs": [],
   "source": [
    "save_model(unigram_lm, \"models/\" + direction+ \"_unigram_lm.pkl\")"
   ]
  },
  {
   "attachments": {},
   "cell_type": "markdown",
   "metadata": {},
   "source": [
    "### Perplexity"
   ]
  },
  {
   "cell_type": "code",
   "execution_count": 12,
   "metadata": {},
   "outputs": [],
   "source": [
    "# test_corpus = [\"The lazy brown dog jumps over the quick fox\"]\n",
    "\n",
    "# perplexity = unigram_lm.perplexity(test_corpus)\n",
    "# print(\"Perplexity:\", perplexity)"
   ]
  },
  {
   "attachments": {},
   "cell_type": "markdown",
   "metadata": {},
   "source": [
    "## Bigram"
   ]
  },
  {
   "cell_type": "code",
   "execution_count": 13,
   "metadata": {},
   "outputs": [],
   "source": [
    "bigram_lm = Bigram(e_corpus)\n",
    "bigram_lm.preprocess()\n",
    "bigram_lm.train()"
   ]
  },
  {
   "cell_type": "code",
   "execution_count": null,
   "metadata": {},
   "outputs": [],
   "source": [
    "save_model(bigram_lm, \"models/\" + direction+ \"_bigram_lm.pkl\")"
   ]
  },
  {
   "attachments": {},
   "cell_type": "markdown",
   "metadata": {},
   "source": [
    "### Perplexity"
   ]
  },
  {
   "cell_type": "code",
   "execution_count": 14,
   "metadata": {},
   "outputs": [],
   "source": [
    "# test_corpus = [\"The lazy brown dog jumps over the quick fox\"]\n",
    "\n",
    "# perplexity = bigram_lm.perplexity(test_corpus)\n",
    "# print(\"Perplexity:\", perplexity)"
   ]
  },
  {
   "attachments": {},
   "cell_type": "markdown",
   "metadata": {},
   "source": [
    "## Trigram"
   ]
  },
  {
   "cell_type": "code",
   "execution_count": 15,
   "metadata": {},
   "outputs": [],
   "source": [
    "trigram_lm = Trigram(e_corpus)\n",
    "trigram_lm.preprocess()\n",
    "trigram_lm.train()"
   ]
  },
  {
   "cell_type": "code",
   "execution_count": null,
   "metadata": {},
   "outputs": [],
   "source": [
    "save_model(trigram_lm, \"models/\" + direction+ \"_trigram_lm.pkl\")"
   ]
  },
  {
   "attachments": {},
   "cell_type": "markdown",
   "metadata": {},
   "source": [
    "### Perplexity"
   ]
  },
  {
   "cell_type": "code",
   "execution_count": 16,
   "metadata": {},
   "outputs": [],
   "source": [
    "# test_corpus = [\"The lazy brown dog jumps over the quick fox\"]\n",
    "\n",
    "# perplexity = trigram_lm.perplexity(test_corpus)\n",
    "# print(\"Perplexity:\", perplexity)"
   ]
  },
  {
   "attachments": {},
   "cell_type": "markdown",
   "metadata": {},
   "source": [
    "## Interpolated LM"
   ]
  },
  {
   "cell_type": "code",
   "execution_count": null,
   "metadata": {},
   "outputs": [],
   "source": [
    "interpolated_lm = LM(e_corpus)\n",
    "interpolated_lm.preprocess()\n",
    "interpolated_lm.train()"
   ]
  },
  {
   "cell_type": "code",
   "execution_count": null,
   "metadata": {},
   "outputs": [],
   "source": [
    "save_model(interpolated_lm, direction + \"_interpolated_lm.pkl\")"
   ]
  }
 ],
 "metadata": {
  "kernelspec": {
   "display_name": "base",
   "language": "python",
   "name": "python3"
  },
  "language_info": {
   "codemirror_mode": {
    "name": "ipython",
    "version": 3
   },
   "file_extension": ".py",
   "mimetype": "text/x-python",
   "name": "python",
   "nbconvert_exporter": "python",
   "pygments_lexer": "ipython3",
   "version": "3.10.0"
  },
  "orig_nbformat": 4
 },
 "nbformat": 4,
 "nbformat_minor": 2
}
