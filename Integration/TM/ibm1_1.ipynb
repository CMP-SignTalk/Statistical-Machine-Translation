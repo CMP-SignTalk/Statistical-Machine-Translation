{
 "cells": [
  {
   "attachments": {},
   "cell_type": "markdown",
   "metadata": {},
   "source": [
    "# Testing the Translation Model"
   ]
  },
  {
   "cell_type": "code",
   "execution_count": 1,
   "metadata": {},
   "outputs": [],
   "source": [
    "import sys\n",
    "import os\n",
    "\n",
    "parent_directory = os.path.abspath(os.path.join(os.getcwd(), os.pardir))\n",
    "sys.path.append(parent_directory)"
   ]
  },
  {
   "cell_type": "code",
   "execution_count": 2,
   "metadata": {},
   "outputs": [],
   "source": [
    "import nltk\n",
    "import TM.tm as tm\n",
    "import utils as utils"
   ]
  },
  {
   "attachments": {},
   "cell_type": "markdown",
   "metadata": {},
   "source": [
    "## Preparing the Data"
   ]
  },
  {
   "attachments": {},
   "cell_type": "markdown",
   "metadata": {},
   "source": [
    "### Load the Training Data"
   ]
  },
  {
   "cell_type": "code",
   "execution_count": 3,
   "metadata": {},
   "outputs": [
    {
     "name": "stdout",
     "output_type": "stream",
     "text": [
      "['the girl is in france', 'paris is a city in france', 'the girl is beautiful', 'paris is a beautiful city', 'the girl is in church', 'a church is in paris', 'the church is beautiful', 'france has a beautiful church']\n",
      "['la fille est en france', 'paris est une ville en france', 'la fille est belle', 'paris est une belle ville', 'la fille est a la eglise', 'une eglise est en paris', 'la eglise est belle', 'la france a une belle eglise']\n"
     ]
    }
   ],
   "source": [
    "direction = 'forward'\n",
    "f_corpus, e_corpus = utils.load_data('../data/data.json', direction)\n",
    "print(f_corpus)\n",
    "print(e_corpus)"
   ]
  },
  {
   "attachments": {},
   "cell_type": "markdown",
   "metadata": {},
   "source": [
    "## The Translation Models"
   ]
  },
  {
   "attachments": {},
   "cell_type": "markdown",
   "metadata": {},
   "source": [
    "### IBM Model1"
   ]
  },
  {
   "cell_type": "code",
   "execution_count": 4,
   "metadata": {},
   "outputs": [],
   "source": [
    "ibm1 = tm.IBMModel1(f_corpus, e_corpus)\n",
    "ibm1.preprocess()\n",
    "ibm1.train()"
   ]
  },
  {
   "attachments": {},
   "cell_type": "markdown",
   "metadata": {},
   "source": [
    "#### Test the Model"
   ]
  },
  {
   "cell_type": "code",
   "execution_count": 5,
   "metadata": {},
   "outputs": [
    {
     "name": "stdout",
     "output_type": "stream",
     "text": [
      "e_sent_tokens before removing the None tokens ['this', 'est', 'yousef']\n",
      "e_sent_tokens after removing the None tokens ['this', 'est', 'yousef']\n",
      "this est yousef\n"
     ]
    }
   ],
   "source": [
    "f_sent = \"this is yousef\"\n",
    "f_sent_tokens = nltk.word_tokenize(f_sent.lower())\n",
    "\n",
    "e_sent_tokens = []\n",
    "for f_sent_token in f_sent_tokens:\n",
    "    translation_probs = ibm1.translation_table[f_sent_token]\n",
    "    if translation_probs:\n",
    "        best_e_sent_token = max(translation_probs, key=translation_probs.get)\n",
    "        e_sent_tokens.append(best_e_sent_token)\n",
    "    else:\n",
    "        e_sent_tokens.append(f_sent_token)\n",
    "\n",
    "print('e_sent_tokens before removing the None tokens', e_sent_tokens)\n",
    "e_sent_tokens = [token for token in e_sent_tokens if token is not None]\n",
    "print('e_sent_tokens after removing the None tokens', e_sent_tokens)\n",
    "e_sent_sent = ' '.join(e_sent_tokens)\n",
    "print(e_sent_sent)"
   ]
  },
  {
   "attachments": {},
   "cell_type": "markdown",
   "metadata": {},
   "source": [
    "## Saving the Models"
   ]
  },
  {
   "cell_type": "code",
   "execution_count": 11,
   "metadata": {},
   "outputs": [],
   "source": [
    "# # save the language models\n",
    "# utils.save_model(ibm1, \"models/ibm1_model.pkl\")"
   ]
  }
 ],
 "metadata": {
  "kernelspec": {
   "display_name": "base",
   "language": "python",
   "name": "python3"
  },
  "language_info": {
   "codemirror_mode": {
    "name": "ipython",
    "version": 3
   },
   "file_extension": ".py",
   "mimetype": "text/x-python",
   "name": "python",
   "nbconvert_exporter": "python",
   "pygments_lexer": "ipython3",
   "version": "3.10.0"
  },
  "orig_nbformat": 4
 },
 "nbformat": 4,
 "nbformat_minor": 2
}
