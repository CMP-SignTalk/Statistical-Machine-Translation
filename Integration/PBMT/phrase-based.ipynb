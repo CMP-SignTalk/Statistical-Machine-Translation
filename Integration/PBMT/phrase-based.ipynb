{
 "cells": [
  {
   "cell_type": "code",
   "execution_count": 14,
   "metadata": {},
   "outputs": [],
   "source": [
    "import sys\n",
    "import os\n",
    "\n",
    "parent_directory = os.path.abspath(os.path.join(os.getcwd(), os.pardir))\n",
    "sys.path.append(parent_directory)"
   ]
  },
  {
   "cell_type": "code",
   "execution_count": 15,
   "metadata": {},
   "outputs": [],
   "source": [
    "import TM.tm as tm\n",
    "import utils as utils"
   ]
  },
  {
   "cell_type": "code",
   "execution_count": 16,
   "metadata": {},
   "outputs": [
    {
     "name": "stdout",
     "output_type": "stream",
     "text": [
      "['la fille est en france', 'paris est une ville en france', 'la fille est belle', 'paris est une belle ville', 'la fille est a la eglise', 'une eglise est en paris', 'la eglise est belle', 'la france a une belle eglise']\n",
      "['the girl is in france', 'paris is a city in france', 'the girl is beautiful', 'paris is a beautiful city', 'the girl is in church', 'a church is in paris', 'the church is beautiful', 'france has a beautiful church']\n"
     ]
    }
   ],
   "source": [
    "direction = 'backward'\n",
    "f_corpus, e_corpus = utils.load_data('../data/data.json', direction)\n",
    "print(f_corpus)\n",
    "print(e_corpus)"
   ]
  },
  {
   "attachments": {},
   "cell_type": "markdown",
   "metadata": {},
   "source": [
    "# IBM 1 from scratch"
   ]
  },
  {
   "cell_type": "code",
   "execution_count": 17,
   "metadata": {},
   "outputs": [
    {
     "name": "stdout",
     "output_type": "stream",
     "text": [
      "ibm1.translation_table:  defaultdict(<function IBMModel1.train.<locals>.<lambda> at 0x000001ED473D3BE0>, {'la': defaultdict(<function IBMModel1.train.<locals>.<lambda>.<locals>.<lambda> at 0x000001ED677DDEA0>, {'the': 0.9665238620090396, 'girl': 6.021999311131121e-134, 'is': 2e-323, 'in': 3.5e-323, 'france': 0.0, 'beautiful': 0.0, 'church': 0.033476137990960324, 'has': 0.0, 'a': 0.0, 'paris': 0.0, 'city': 0.0}), 'fille': defaultdict(<function IBMModel1.train.<locals>.<lambda>.<locals>.<lambda> at 0x000001ED677DE050>, {'the': 3.772734018229549e-36, 'girl': 1.0, 'is': 1.5e-323, 'in': 1.5e-323, 'france': 5e-324, 'beautiful': 5e-324, 'church': 5e-324, 'paris': 0.0, 'city': 0.0, 'a': 0.0, 'has': 0.0}), 'est': defaultdict(<function IBMModel1.train.<locals>.<lambda>.<locals>.<lambda> at 0x000001ED677DE0E0>, {'the': 1.5e-323, 'girl': 1e-323, 'is': 1.0, 'in': 1.3559133026334957e-287, 'france': 0.0, 'paris': 1e-323, 'a': 1e-323, 'city': 5e-324, 'beautiful': 1e-323, 'church': 1e-323, 'has': 0.0}), 'en': defaultdict(<function IBMModel1.train.<locals>.<lambda>.<locals>.<lambda> at 0x000001ED677DE170>, {'the': 5e-324, 'girl': 5e-324, 'is': 4.181176796910984e-260, 'in': 1.0, 'france': 1.5e-323, 'paris': 1e-323, 'a': 1e-323, 'city': 5e-324, 'church': 0.0, 'beautiful': 0.0, 'has': 0.0}), 'france': defaultdict(<function IBMModel1.train.<locals>.<lambda>.<locals>.<lambda> at 0x000001ED677DE200>, {'the': 5e-324, 'girl': 5e-324, 'is': 1.5e-323, 'in': 1.5e-323, 'france': 1.0, 'paris': 5e-324, 'a': 5e-324, 'city': 5e-324, 'has': 5e-324, 'beautiful': 0.0, 'church': 0.0}), 'paris': defaultdict(<function IBMModel1.train.<locals>.<lambda>.<locals>.<lambda> at 0x000001ED677DE290>, {'paris': 0.9998458974409506, 'is': 0.0, 'a': 0.00015410255904922343, 'city': 1.5e-323, 'in': 0.0, 'france': 0.0, 'beautiful': 0.0, 'church': 0.0, 'girl': 0.0, 'the': 0.0, 'has': 0.0}), 'une': defaultdict(<function IBMModel1.train.<locals>.<lambda>.<locals>.<lambda> at 0x000001ED677DE320>, {'paris': 1e-323, 'is': 0.0, 'a': 1.0, 'city': 5e-324, 'in': 0.0, 'france': 0.0, 'beautiful': 0.0, 'church': 0.0, 'has': 0.0, 'girl': 0.0, 'the': 0.0}), 'ville': defaultdict(<function IBMModel1.train.<locals>.<lambda>.<locals>.<lambda> at 0x000001ED677DE3B0>, {'paris': 0.00015726651120448557, 'is': 0.0, 'a': 4.046507531149983e-08, 'city': 0.9998426930237202, 'in': 0.0, 'france': 0.0, 'beautiful': 0.0, 'church': 0.0, 'girl': 0.0, 'the': 0.0, 'has': 0.0}), 'belle': defaultdict(<function IBMModel1.train.<locals>.<lambda>.<locals>.<lambda> at 0x000001ED677DE440>, {'the': 0.0, 'girl': 0.0, 'is': 0.0, 'beautiful': 1.0, 'paris': 0.0, 'a': 0.0, 'city': 0.0, 'church': 0.0, 'france': 0.0, 'has': 0.0, 'in': 0.0}), 'a': defaultdict(<function IBMModel1.train.<locals>.<lambda>.<locals>.<lambda> at 0x000001ED677DE4D0>, {'the': 0.0, 'girl': 0.0, 'is': 0.0, 'in': 0.0, 'church': 0.0886646025319233, 'france': 0.0, 'has': 0.9113353974680767, 'a': 0.0, 'beautiful': 0.0, 'paris': 0.0, 'city': 0.0}), 'eglise': defaultdict(<function IBMModel1.train.<locals>.<lambda>.<locals>.<lambda> at 0x000001ED677DE560>, {'the': 0.0, 'girl': 0.0, 'is': 0.0, 'in': 0.0, 'church': 1.0, 'a': 0.0, 'paris': 0.0, 'beautiful': 0.0, 'france': 0.0, 'has': 5e-324, 'city': 0.0})})\n",
      "ibm1.translation_tuple:  {('en', 'paris'): 1e-323, ('en', 'in'): 1.0, ('en', 'city'): 5e-324, ('en', 'church'): 0.0, ('en', 'a'): 1e-323, ('en', 'france'): 1.5e-323, ('en', 'beautiful'): 0.0, ('en', 'is'): 4.181176796910984e-260, ('en', 'girl'): 5e-324, ('en', 'the'): 5e-324, ('en', 'has'): 0.0, ('paris', 'paris'): 0.9998458974409506, ('paris', 'in'): 0.0, ('paris', 'city'): 1.5e-323, ('paris', 'church'): 0.0, ('paris', 'a'): 0.00015410255904922343, ('paris', 'france'): 0.0, ('paris', 'beautiful'): 0.0, ('paris', 'is'): 0.0, ('paris', 'girl'): 0.0, ('paris', 'the'): 0.0, ('paris', 'has'): 0.0, ('une', 'paris'): 1e-323, ('une', 'in'): 0.0, ('une', 'city'): 5e-324, ('une', 'church'): 0.0, ('une', 'a'): 1.0, ('une', 'france'): 0.0, ('une', 'beautiful'): 0.0, ('une', 'is'): 0.0, ('une', 'girl'): 0.0, ('une', 'the'): 0.0, ('une', 'has'): 0.0, ('eglise', 'paris'): 0.0, ('eglise', 'in'): 0.0, ('eglise', 'city'): 0.0, ('eglise', 'church'): 1.0, ('eglise', 'a'): 0.0, ('eglise', 'france'): 0.0, ('eglise', 'beautiful'): 0.0, ('eglise', 'is'): 0.0, ('eglise', 'girl'): 0.0, ('eglise', 'the'): 0.0, ('eglise', 'has'): 5e-324, ('a', 'paris'): 0.0, ('a', 'in'): 0.0, ('a', 'city'): 0.0, ('a', 'church'): 0.0886646025319233, ('a', 'a'): 0.0, ('a', 'france'): 0.0, ('a', 'beautiful'): 0.0, ('a', 'is'): 0.0, ('a', 'girl'): 0.0, ('a', 'the'): 0.0, ('a', 'has'): 0.9113353974680767, ('france', 'paris'): 5e-324, ('france', 'in'): 1.5e-323, ('france', 'city'): 5e-324, ('france', 'church'): 0.0, ('france', 'a'): 5e-324, ('france', 'france'): 1.0, ('france', 'beautiful'): 0.0, ('france', 'is'): 1.5e-323, ('france', 'girl'): 5e-324, ('france', 'the'): 5e-324, ('france', 'has'): 5e-324, ('belle', 'paris'): 0.0, ('belle', 'in'): 0.0, ('belle', 'city'): 0.0, ('belle', 'church'): 0.0, ('belle', 'a'): 0.0, ('belle', 'france'): 0.0, ('belle', 'beautiful'): 1.0, ('belle', 'is'): 0.0, ('belle', 'girl'): 0.0, ('belle', 'the'): 0.0, ('belle', 'has'): 0.0, ('ville', 'paris'): 0.00015726651120448557, ('ville', 'in'): 0.0, ('ville', 'city'): 0.9998426930237202, ('ville', 'church'): 0.0, ('ville', 'a'): 4.046507531149983e-08, ('ville', 'france'): 0.0, ('ville', 'beautiful'): 0.0, ('ville', 'is'): 0.0, ('ville', 'girl'): 0.0, ('ville', 'the'): 0.0, ('ville', 'has'): 0.0, ('la', 'paris'): 0.0, ('la', 'in'): 3.5e-323, ('la', 'city'): 0.0, ('la', 'church'): 0.033476137990960324, ('la', 'a'): 0.0, ('la', 'france'): 0.0, ('la', 'beautiful'): 0.0, ('la', 'is'): 2e-323, ('la', 'girl'): 6.021999311131121e-134, ('la', 'the'): 0.9665238620090396, ('la', 'has'): 0.0, ('est', 'paris'): 1e-323, ('est', 'in'): 1.3559133026334957e-287, ('est', 'city'): 5e-324, ('est', 'church'): 1e-323, ('est', 'a'): 1e-323, ('est', 'france'): 0.0, ('est', 'beautiful'): 1e-323, ('est', 'is'): 1.0, ('est', 'girl'): 1e-323, ('est', 'the'): 1.5e-323, ('est', 'has'): 0.0, ('fille', 'paris'): 0.0, ('fille', 'in'): 1.5e-323, ('fille', 'city'): 0.0, ('fille', 'church'): 5e-324, ('fille', 'a'): 0.0, ('fille', 'france'): 5e-324, ('fille', 'beautiful'): 5e-324, ('fille', 'is'): 1.5e-323, ('fille', 'girl'): 1.0, ('fille', 'the'): 3.772734018229549e-36, ('fille', 'has'): 0.0}\n",
      "('a', 'a') 0.0\n",
      "('a', 'beautiful') 0.0\n",
      "('a', 'church') 0.0886646025319233\n",
      "('a', 'city') 0.0\n",
      "('a', 'france') 0.0\n",
      "('a', 'girl') 0.0\n",
      "('a', 'has') 0.9113353974680767\n",
      "('a', 'in') 0.0\n",
      "('a', 'is') 0.0\n",
      "('a', 'paris') 0.0\n",
      "('a', 'the') 0.0\n",
      "('belle', 'a') 0.0\n",
      "('belle', 'beautiful') 1.0\n",
      "('belle', 'church') 0.0\n",
      "('belle', 'city') 0.0\n",
      "('belle', 'france') 0.0\n",
      "('belle', 'girl') 0.0\n",
      "('belle', 'has') 0.0\n",
      "('belle', 'in') 0.0\n",
      "('belle', 'is') 0.0\n",
      "('belle', 'paris') 0.0\n",
      "('belle', 'the') 0.0\n",
      "('eglise', 'a') 0.0\n",
      "('eglise', 'beautiful') 0.0\n",
      "('eglise', 'church') 1.0\n",
      "('eglise', 'city') 0.0\n",
      "('eglise', 'france') 0.0\n",
      "('eglise', 'girl') 0.0\n",
      "('eglise', 'has') 5e-324\n",
      "('eglise', 'in') 0.0\n",
      "('eglise', 'is') 0.0\n",
      "('eglise', 'paris') 0.0\n",
      "('eglise', 'the') 0.0\n",
      "('en', 'a') 1e-323\n",
      "('en', 'beautiful') 0.0\n",
      "('en', 'church') 0.0\n",
      "('en', 'city') 5e-324\n",
      "('en', 'france') 1.5e-323\n",
      "('en', 'girl') 5e-324\n",
      "('en', 'has') 0.0\n",
      "('en', 'in') 1.0\n",
      "('en', 'is') 4.181176796910984e-260\n",
      "('en', 'paris') 1e-323\n",
      "('en', 'the') 5e-324\n",
      "('est', 'a') 1e-323\n",
      "('est', 'beautiful') 1e-323\n",
      "('est', 'church') 1e-323\n",
      "('est', 'city') 5e-324\n",
      "('est', 'france') 0.0\n",
      "('est', 'girl') 1e-323\n",
      "('est', 'has') 0.0\n",
      "('est', 'in') 1.3559133026334957e-287\n",
      "('est', 'is') 1.0\n",
      "('est', 'paris') 1e-323\n",
      "('est', 'the') 1.5e-323\n",
      "('fille', 'a') 0.0\n",
      "('fille', 'beautiful') 5e-324\n",
      "('fille', 'church') 5e-324\n",
      "('fille', 'city') 0.0\n",
      "('fille', 'france') 5e-324\n",
      "('fille', 'girl') 1.0\n",
      "('fille', 'has') 0.0\n",
      "('fille', 'in') 1.5e-323\n",
      "('fille', 'is') 1.5e-323\n",
      "('fille', 'paris') 0.0\n",
      "('fille', 'the') 3.772734018229549e-36\n",
      "('france', 'a') 5e-324\n",
      "('france', 'beautiful') 0.0\n",
      "('france', 'church') 0.0\n",
      "('france', 'city') 5e-324\n",
      "('france', 'france') 1.0\n",
      "('france', 'girl') 5e-324\n",
      "('france', 'has') 5e-324\n",
      "('france', 'in') 1.5e-323\n",
      "('france', 'is') 1.5e-323\n",
      "('france', 'paris') 5e-324\n",
      "('france', 'the') 5e-324\n",
      "('la', 'a') 0.0\n",
      "('la', 'beautiful') 0.0\n",
      "('la', 'church') 0.033476137990960324\n",
      "('la', 'city') 0.0\n",
      "('la', 'france') 0.0\n",
      "('la', 'girl') 6.021999311131121e-134\n",
      "('la', 'has') 0.0\n",
      "('la', 'in') 3.5e-323\n",
      "('la', 'is') 2e-323\n",
      "('la', 'paris') 0.0\n",
      "('la', 'the') 0.9665238620090396\n",
      "('paris', 'a') 0.00015410255904922343\n",
      "('paris', 'beautiful') 0.0\n",
      "('paris', 'church') 0.0\n",
      "('paris', 'city') 1.5e-323\n",
      "('paris', 'france') 0.0\n",
      "('paris', 'girl') 0.0\n",
      "('paris', 'has') 0.0\n",
      "('paris', 'in') 0.0\n",
      "('paris', 'is') 0.0\n",
      "('paris', 'paris') 0.9998458974409506\n",
      "('paris', 'the') 0.0\n",
      "('une', 'a') 1.0\n",
      "('une', 'beautiful') 0.0\n",
      "('une', 'church') 0.0\n",
      "('une', 'city') 5e-324\n",
      "('une', 'france') 0.0\n",
      "('une', 'girl') 0.0\n",
      "('une', 'has') 0.0\n",
      "('une', 'in') 0.0\n",
      "('une', 'is') 0.0\n",
      "('une', 'paris') 1e-323\n",
      "('une', 'the') 0.0\n",
      "('ville', 'a') 4.046507531149983e-08\n",
      "('ville', 'beautiful') 0.0\n",
      "('ville', 'church') 0.0\n",
      "('ville', 'city') 0.9998426930237202\n",
      "('ville', 'france') 0.0\n",
      "('ville', 'girl') 0.0\n",
      "('ville', 'has') 0.0\n",
      "('ville', 'in') 0.0\n",
      "('ville', 'is') 0.0\n",
      "('ville', 'paris') 0.00015726651120448557\n",
      "('ville', 'the') 0.0\n"
     ]
    }
   ],
   "source": [
    "ibm1 = tm.IBMModel1(f_corpus, e_corpus)\n",
    "ibm1.preprocess()\n",
    "ibm1.train(100000000, 0.0000001)\n",
    "print('ibm1.translation_table: ', ibm1.translation_table)\n",
    "print('ibm1.translation_tuple: ', ibm1.translation_tuple)\n",
    "\n",
    "for f_e_pair, prob in sorted(ibm1.translation_tuple.items()):\n",
    "    print(f_e_pair, prob)"
   ]
  },
  {
   "attachments": {},
   "cell_type": "markdown",
   "metadata": {},
   "source": [
    "### Get The Alignments"
   ]
  },
  {
   "cell_type": "code",
   "execution_count": 18,
   "metadata": {},
   "outputs": [
    {
     "name": "stdout",
     "output_type": "stream",
     "text": [
      "ibm1.f_e_alignment:  [[(0, 0), (1, 1), (2, 2), (3, 3), (4, 4)], [(0, 0), (1, 1), (2, 2), (3, 3), (4, 4), (5, 5)], [(0, 0), (1, 1), (2, 2), (3, 3)], [(0, 0), (1, 1), (2, 2), (3, 3), (4, 4)], [(0, 0), (1, 1), (2, 2), (2, 3), (5, 4)], [(0, 0), (1, 1), (2, 2), (3, 3), (4, 4)], [(0, 0), (1, 1), (2, 2), (3, 3)], [(1, 0), (2, 1), (3, 2), (4, 3), (5, 4)]]\n",
      "ibm1.e_f_alignment:  [[(0, 0), (1, 1), (2, 2), (3, 3), (4, 4)], [(0, 0), (1, 1), (2, 2), (3, 3), (4, 4), (5, 5)], [(0, 0), (1, 1), (2, 2), (3, 3)], [(0, 0), (1, 1), (2, 2), (3, 3), (4, 4)], [(0, 0), (1, 1), (2, 2), (3, 2), (4, 5)], [(0, 0), (1, 1), (2, 2), (3, 3), (4, 4)], [(0, 0), (1, 1), (2, 2), (3, 3)], [(0, 1), (1, 2), (2, 3), (3, 4), (4, 5)]]\n"
     ]
    }
   ],
   "source": [
    "ibm1.align()\n",
    "print('ibm1.f_e_alignment: ', ibm1.f_e_alignment)\n",
    "print('ibm1.e_f_alignment: ', ibm1.e_f_alignment)\n",
    "# for i in range(len(f_corpus)):\n",
    "#     print(f_corpus[i])\n",
    "#     print(e_corpus[i])\n",
    "#     print('e_f_alignment', ibm1.e_f_alignment[i])\n",
    "#     print('f_e_alignment', ibm1.f_e_alignment[i])"
   ]
  },
  {
   "attachments": {},
   "cell_type": "markdown",
   "metadata": {},
   "source": [
    "# Phrase-Based Model"
   ]
  },
  {
   "cell_type": "code",
   "execution_count": 19,
   "metadata": {},
   "outputs": [],
   "source": [
    "import PBMT.pbmt as pbmt"
   ]
  },
  {
   "cell_type": "code",
   "execution_count": 20,
   "metadata": {},
   "outputs": [
    {
     "name": "stdout",
     "output_type": "stream",
     "text": [
      "pbmt.phrase_table:  [((0, 1), (0, 1), 'la', 'the'), ((1, 2), (1, 2), 'fille', 'girl'), ((2, 4), (2, 4), 'est en', 'is in'), ((0, 2), (0, 2), 'la fille', 'the girl'), ((4, 5), (4, 5), 'france', 'france'), ((1, 5), (1, 5), 'fille est en france', 'girl is in france'), ((0, 4), (0, 4), 'la fille est en', 'the girl is in'), ((0, 3), (0, 3), 'la fille est', 'the girl is'), ((1, 3), (1, 3), 'fille est', 'girl is'), ((3, 5), (3, 5), 'en france', 'in france'), ((2, 5), (2, 5), 'est en france', 'is in france'), ((2, 3), (2, 3), 'est', 'is'), ((3, 4), (3, 4), 'en', 'in'), ((0, 5), (0, 5), 'la fille est en france', 'the girl is in france'), ((1, 4), (1, 4), 'fille est en', 'girl is in'), ((2, 3), (2, 3), 'une', 'a'), ((3, 4), (3, 4), 'ville', 'city'), ((0, 6), (0, 6), 'paris est une ville en france', 'paris is a city in france'), ((1, 4), (1, 4), 'est une ville', 'is a city'), ((3, 6), (3, 6), 'ville en france', 'city in france'), ((4, 6), (4, 6), 'en france', 'in france'), ((1, 5), (1, 5), 'est une ville en', 'is a city in'), ((3, 5), (3, 5), 'ville en', 'city in'), ((0, 1), (0, 1), 'paris', 'paris'), ((0, 5), (0, 5), 'paris est une ville en', 'paris is a city in'), ((2, 6), (2, 6), 'une ville en france', 'a city in france'), ((1, 2), (1, 2), 'est', 'is'), ((5, 6), (5, 6), 'france', 'france'), ((2, 4), (2, 4), 'une ville', 'a city'), ((1, 6), (1, 6), 'est une ville en france', 'is a city in france'), ((4, 5), (4, 5), 'en', 'in'), ((2, 5), (2, 5), 'une ville en', 'a city in'), ((0, 2), (0, 2), 'paris est', 'paris is'), ((0, 3), (0, 3), 'paris est une', 'paris is a'), ((1, 3), (1, 3), 'est une', 'is a'), ((0, 4), (0, 4), 'paris est une ville', 'paris is a city'), ((0, 1), (0, 1), 'la', 'the'), ((1, 2), (1, 2), 'fille', 'girl'), ((1, 4), (1, 4), 'fille est belle', 'girl is beautiful'), ((0, 4), (0, 4), 'la fille est belle', 'the girl is beautiful'), ((0, 2), (0, 2), 'la fille', 'the girl'), ((2, 4), (2, 4), 'est belle', 'is beautiful'), ((0, 3), (0, 3), 'la fille est', 'the girl is'), ((1, 3), (1, 3), 'fille est', 'girl is'), ((3, 4), (3, 4), 'belle', 'beautiful'), ((2, 3), (2, 3), 'est', 'is'), ((2, 3), (2, 3), 'une', 'a'), ((4, 5), (4, 5), 'ville', 'city'), ((3, 5), (3, 5), 'belle ville', 'beautiful city'), ((0, 4), (0, 4), 'paris est une belle', 'paris is a beautiful'), ((0, 1), (0, 1), 'paris', 'paris'), ((0, 5), (0, 5), 'paris est une belle ville', 'paris is a beautiful city'), ((0, 2), (0, 2), 'paris est', 'paris is'), ((1, 4), (1, 4), 'est une belle', 'is a beautiful'), ((2, 5), (2, 5), 'une belle ville', 'a beautiful city'), ((1, 5), (1, 5), 'est une belle ville', 'is a beautiful city'), ((3, 4), (3, 4), 'belle', 'beautiful'), ((0, 3), (0, 3), 'paris est une', 'paris is a'), ((1, 3), (1, 3), 'est une', 'is a'), ((2, 4), (2, 4), 'une belle', 'a beautiful'), ((1, 2), (1, 2), 'est', 'is'), ((2, 6), (2, 5), 'est a la eglise', 'is in church'), ((2, 5), (2, 4), 'est a la', 'is in'), ((0, 1), (0, 1), 'la', 'the'), ((0, 6), (0, 5), 'la fille est a la eglise', 'the girl is in church'), ((1, 2), (1, 2), 'fille', 'girl'), ((0, 2), (0, 2), 'la fille', 'the girl'), ((0, 4), (0, 4), 'la fille est a', 'the girl is in'), ((0, 5), (0, 4), 'la fille est a la', 'the girl is in'), ((1, 3), (1, 4), 'fille est', 'girl is in'), ((0, 3), (0, 4), 'la fille est', 'the girl is in'), ((1, 5), (1, 4), 'fille est a la', 'girl is in'), ((1, 4), (1, 4), 'fille est a', 'girl is in'), ((1, 6), (1, 5), 'fille est a la eglise', 'girl is in church'), ((3, 6), (4, 5), 'a la eglise', 'church'), ((5, 6), (4, 5), 'eglise', 'church'), ((2, 3), (2, 4), 'est', 'is in'), ((2, 4), (2, 4), 'est a', 'is in'), ((4, 6), (4, 5), 'la eglise', 'church'), ((3, 5), (3, 5), 'en paris', 'in paris'), ((2, 4), (2, 4), 'est en', 'is in'), ((1, 5), (1, 5), 'eglise est en paris', 'church is in paris'), ((1, 4), (1, 4), 'eglise est en', 'church is in'), ((0, 4), (0, 4), 'une eglise est en', 'a church is in'), ((2, 5), (2, 5), 'est en paris', 'is in paris'), ((0, 5), (0, 5), 'une eglise est en paris', 'a church is in paris'), ((1, 3), (1, 3), 'eglise est', 'church is'), ((0, 1), (0, 1), 'une', 'a'), ((3, 4), (3, 4), 'en', 'in'), ((0, 2), (0, 2), 'une eglise', 'a church'), ((2, 3), (2, 3), 'est', 'is'), ((1, 2), (1, 2), 'eglise', 'church'), ((0, 3), (0, 3), 'une eglise est', 'a church is'), ((4, 5), (4, 5), 'paris', 'paris'), ((0, 1), (0, 1), 'la', 'the'), ((0, 2), (0, 2), 'la eglise', 'the church'), ((1, 3), (1, 3), 'eglise est', 'church is'), ((2, 4), (2, 4), 'est belle', 'is beautiful'), ((0, 4), (0, 4), 'la eglise est belle', 'the church is beautiful'), ((1, 4), (1, 4), 'eglise est belle', 'church is beautiful'), ((3, 4), (3, 4), 'belle', 'beautiful'), ((2, 3), (2, 3), 'est', 'is'), ((1, 2), (1, 2), 'eglise', 'church'), ((0, 3), (0, 3), 'la eglise est', 'the church is'), ((0, 4), (0, 3), 'la france a une', 'france has a'), ((0, 2), (0, 1), 'la france', 'france'), ((1, 3), (0, 2), 'france a', 'france has'), ((0, 6), (0, 5), 'la france a une belle eglise', 'france has a beautiful church'), ((0, 3), (0, 2), 'la france a', 'france has'), ((2, 4), (1, 3), 'a une', 'has a'), ((2, 6), (1, 5), 'a une belle eglise', 'has a beautiful church'), ((4, 5), (3, 4), 'belle', 'beautiful'), ((5, 6), (4, 5), 'eglise', 'church'), ((2, 3), (1, 2), 'a', 'has'), ((1, 4), (0, 3), 'france a une', 'france has a'), ((1, 6), (0, 5), 'france a une belle eglise', 'france has a beautiful church'), ((0, 5), (0, 4), 'la france a une belle', 'france has a beautiful'), ((1, 5), (0, 4), 'france a une belle', 'france has a beautiful'), ((4, 6), (3, 5), 'belle eglise', 'beautiful church'), ((2, 5), (1, 4), 'a une belle', 'has a beautiful'), ((1, 2), (0, 1), 'france', 'france'), ((3, 4), (2, 3), 'une', 'a'), ((3, 5), (2, 4), 'une belle', 'a beautiful'), ((3, 6), (2, 5), 'une belle eglise', 'a beautiful church')]\n"
     ]
    }
   ],
   "source": [
    "# Extract the phrase pairs from the corpus\n",
    "pbmt = pbmt.PhraseBasedModel(f_corpus, e_corpus, ibm1.f_e_alignment)\n",
    "pbmt.extrat_phrase_pairs()\n",
    "print('pbmt.phrase_table: ', pbmt.phrase_table)"
   ]
  },
  {
   "cell_type": "code",
   "execution_count": 21,
   "metadata": {},
   "outputs": [
    {
     "name": "stdout",
     "output_type": "stream",
     "text": [
      "pbmt.score_to_f_e_phrase [(1.0, ('ville en france', 'city in france')), (1.0, ('ville en', 'city in')), (1.0, ('ville', 'city')), (1.0, ('une ville en france', 'a city in france')), (1.0, ('une ville en', 'a city in')), (1.0, ('une ville', 'a city')), (1.0, ('une eglise est en paris', 'a church is in paris')), (1.0, ('une eglise est en', 'a church is in')), (1.0, ('une eglise est', 'a church is')), (1.0, ('une eglise', 'a church')), (1.0, ('une belle ville', 'a beautiful city')), (1.0, ('une belle eglise', 'a beautiful church')), (1.0, ('une belle', 'a beautiful')), (1.0, ('une', 'a')), (1.0, ('paris est une ville en france', 'paris is a city in france')), (1.0, ('paris est une ville en', 'paris is a city in')), (1.0, ('paris est une ville', 'paris is a city')), (1.0, ('paris est une belle ville', 'paris is a beautiful city')), (1.0, ('paris est une belle', 'paris is a beautiful')), (1.0, ('paris est une', 'paris is a')), (1.0, ('paris est', 'paris is')), (1.0, ('paris', 'paris')), (1.0, ('la fille est en france', 'the girl is in france')), (1.0, ('la fille est belle', 'the girl is beautiful')), (1.0, ('la fille est a la eglise', 'the girl is in church')), (1.0, ('la fille est', 'the girl is')), (1.0, ('la fille', 'the girl')), (1.0, ('la eglise est belle', 'the church is beautiful')), (1.0, ('la eglise est', 'the church is')), (1.0, ('la eglise', 'the church')), (1.0, ('la', 'the')), (1.0, ('fille est en france', 'girl is in france')), (1.0, ('fille est belle', 'girl is beautiful')), (1.0, ('fille est a la eglise', 'girl is in church')), (1.0, ('fille est', 'girl is')), (1.0, ('fille', 'girl')), (1.0, ('est une ville en france', 'is a city in france')), (1.0, ('est une ville en', 'is a city in')), (1.0, ('est une ville', 'is a city')), (1.0, ('est une belle ville', 'is a beautiful city')), (1.0, ('est une belle', 'is a beautiful')), (1.0, ('est une', 'is a')), (1.0, ('est en paris', 'is in paris')), (1.0, ('est en france', 'is in france')), (1.0, ('est belle', 'is beautiful')), (1.0, ('est a la eglise', 'is in church')), (1.0, ('est', 'is')), (1.0, ('en paris', 'in paris')), (1.0, ('en france', 'in france')), (1.0, ('en', 'in')), (1.0, ('eglise est en paris', 'church is in paris')), (1.0, ('eglise est en', 'church is in')), (1.0, ('eglise est belle', 'church is beautiful')), (1.0, ('eglise est', 'church is')), (1.0, ('belle ville', 'beautiful city')), (1.0, ('belle eglise', 'beautiful church')), (1.0, ('belle', 'beautiful')), (1.0, ('a une belle eglise', 'has a beautiful church')), (1.0, ('a une belle', 'has a beautiful')), (1.0, ('a une', 'has a')), (1.0, ('a', 'has')), (0.75, ('france', 'france')), (0.6666666666666666, ('eglise', 'church')), (0.5, ('la france a une belle eglise', 'france has a beautiful church')), (0.5, ('la france a une belle', 'france has a beautiful')), (0.5, ('la france a une', 'france has a')), (0.5, ('la france a', 'france has')), (0.5, ('france a une belle eglise', 'france has a beautiful church')), (0.5, ('france a une belle', 'france has a beautiful')), (0.5, ('france a une', 'france has a')), (0.5, ('france a', 'france has')), (0.4, ('est en', 'is in')), (0.25, ('la france', 'france')), (0.25, ('la fille est en', 'the girl is in')), (0.25, ('la fille est a la', 'the girl is in')), (0.25, ('la fille est a', 'the girl is in')), (0.25, ('la fille est', 'the girl is in')), (0.25, ('fille est en', 'girl is in')), (0.25, ('fille est a la', 'girl is in')), (0.25, ('fille est a', 'girl is in')), (0.25, ('fille est', 'girl is in')), (0.2, ('est a la', 'is in')), (0.2, ('est a', 'is in')), (0.2, ('est', 'is in')), (0.16666666666666666, ('la eglise', 'church')), (0.16666666666666666, ('a la eglise', 'church'))]\n"
     ]
    }
   ],
   "source": [
    "pbmt.score_phrase_pairs()\n",
    "print('pbmt.score_to_f_e_phrase', sorted(pbmt.score_to_f_e_phrase)[::-1])"
   ]
  },
  {
   "attachments": {},
   "cell_type": "markdown",
   "metadata": {},
   "source": [
    "# Stack Decoder Part"
   ]
  },
  {
   "cell_type": "code",
   "execution_count": 22,
   "metadata": {},
   "outputs": [],
   "source": [
    "import LM.lm as lm"
   ]
  },
  {
   "cell_type": "code",
   "execution_count": 23,
   "metadata": {},
   "outputs": [],
   "source": [
    "e_language_model = lm.Bigram(e_corpus)\n",
    "e_language_model.preprocess()\n",
    "e_language_model.train()"
   ]
  },
  {
   "cell_type": "code",
   "execution_count": 24,
   "metadata": {},
   "outputs": [],
   "source": [
    "from nltk.translate.stack_decoder import StackDecoder\n",
    "\n",
    "stack_decoder = StackDecoder(pbmt.f_e_phrase_table, e_language_model)"
   ]
  },
  {
   "cell_type": "code",
   "execution_count": 25,
   "metadata": {},
   "outputs": [
    {
     "name": "stdout",
     "output_type": "stream",
     "text": [
      "['the', 'girl', 'is', 'beautiful']\n"
     ]
    }
   ],
   "source": [
    "if direction == 'forward':\n",
    "    asl = stack_decoder.translate(['the', 'girl', 'is', 'beautiful'])\n",
    "    print(asl)\n",
    "elif direction == 'backward':\n",
    "    en = stack_decoder.translate(['la', 'fille', 'est', 'belle'])\n",
    "    print(en)"
   ]
  }
 ],
 "metadata": {
  "kernelspec": {
   "display_name": "Python 3",
   "language": "python",
   "name": "python3"
  },
  "language_info": {
   "codemirror_mode": {
    "name": "ipython",
    "version": 3
   },
   "file_extension": ".py",
   "mimetype": "text/x-python",
   "name": "python",
   "nbconvert_exporter": "python",
   "pygments_lexer": "ipython3",
   "version": "3.10.0"
  }
 },
 "nbformat": 4,
 "nbformat_minor": 2
}
