{
 "cells": [
  {
   "attachments": {},
   "cell_type": "markdown",
   "metadata": {},
   "source": [
    "# Testing the Translation Model"
   ]
  },
  {
   "cell_type": "code",
   "execution_count": 1,
   "metadata": {},
   "outputs": [],
   "source": [
    "import sys\n",
    "import os\n",
    "\n",
    "parent_directory = os.path.abspath(os.path.join(os.getcwd(), os.pardir))\n",
    "sys.path.append(parent_directory)"
   ]
  },
  {
   "cell_type": "code",
   "execution_count": 2,
   "metadata": {},
   "outputs": [],
   "source": [
    "import TM.tm as tm\n",
    "import utils as utils"
   ]
  },
  {
   "attachments": {},
   "cell_type": "markdown",
   "metadata": {},
   "source": [
    "## Preparing the Data"
   ]
  },
  {
   "attachments": {},
   "cell_type": "markdown",
   "metadata": {},
   "source": [
    "### Load the Training Data"
   ]
  },
  {
   "cell_type": "code",
   "execution_count": 3,
   "metadata": {},
   "outputs": [
    {
     "name": "stdout",
     "output_type": "stream",
     "text": [
      "['the girl is in france', 'paris is a city in france', 'the girl is beautiful', 'paris is a beautiful city', 'the girl is in church', 'a church is in paris', 'the church is beautiful', 'france has a beautiful church']\n",
      "['la fille est en france', 'paris est une ville en france', 'la fille est belle', 'paris est une belle ville', 'la fille est a la eglise', 'une eglise est en paris', 'la eglise est belle', 'la france a une belle eglise']\n"
     ]
    }
   ],
   "source": [
    "direction = 'forward'\n",
    "f_corpus, e_corpus = utils.load_data('../data/data.json', direction)\n",
    "print(f_corpus)\n",
    "print(e_corpus)"
   ]
  },
  {
   "attachments": {},
   "cell_type": "markdown",
   "metadata": {},
   "source": [
    "## The Translation Model"
   ]
  },
  {
   "attachments": {},
   "cell_type": "markdown",
   "metadata": {},
   "source": [
    "### IBM Model1"
   ]
  },
  {
   "cell_type": "code",
   "execution_count": 5,
   "metadata": {},
   "outputs": [
    {
     "name": "stdout",
     "output_type": "stream",
     "text": [
      "ibm1.translation_table:  defaultdict(<function IBMModel1.train.<locals>.<lambda> at 0x00000150A0483D90>, {'the': defaultdict(<function IBMModel1.train.<locals>.<lambda>.<locals>.<lambda> at 0x00000150C09DA200>, {'la': 1.0, 'fille': 7.514982547997355e-130, 'est': 0.0, 'en': 0.0, 'france': 0.0, 'belle': 0.0, 'a': 1.0848840330713814e-130, 'eglise': 1e-323, 'paris': 0.0, 'ville': 0.0, 'une': 0.0}), 'girl': defaultdict(<function IBMModel1.train.<locals>.<lambda>.<locals>.<lambda> at 0x00000150C09DA8C0>, {'la': 9.146385095349588e-131, 'fille': 0.8738487367397165, 'est': 0.0, 'en': 0.0, 'france': 0.0, 'belle': 0.0, 'a': 0.1261512632602836, 'eglise': 0.0, 'paris': 0.0, 'ville': 0.0, 'une': 0.0}), 'is': defaultdict(<function IBMModel1.train.<locals>.<lambda>.<locals>.<lambda> at 0x00000150C09DA0E0>, {'la': 1.5e-323, 'fille': 1e-323, 'est': 1.0, 'en': 1e-323, 'france': 0.0, 'paris': 1e-323, 'une': 1e-323, 'ville': 5e-324, 'belle': 1e-323, 'a': 1e-323, 'eglise': 5.909669534380058e-253}), 'in': defaultdict(<function IBMModel1.train.<locals>.<lambda>.<locals>.<lambda> at 0x00000150C09D9FC0>, {'la': 0.0, 'fille': 0.0, 'est': 3.901967e-318, 'en': 0.8738487367397165, 'france': 0.0, 'paris': 0.0, 'une': 0.0, 'ville': 0.0, 'a': 0.12615126326028328, 'eglise': 1.5319143556418012e-222, 'belle': 0.0}), 'france': defaultdict(<function IBMModel1.train.<locals>.<lambda>.<locals>.<lambda> at 0x00000150C09DA9E0>, {'la': 5e-324, 'fille': 5e-324, 'est': 1.5e-323, 'en': 7.089248931173573e-181, 'france': 1.0, 'paris': 5e-324, 'une': 5e-324, 'ville': 5e-324, 'a': 5e-324, 'belle': 0.0, 'eglise': 0.0}), 'paris': defaultdict(<function IBMModel1.train.<locals>.<lambda>.<locals>.<lambda> at 0x00000150C09DAB90>, {'paris': 0.9998458964165193, 'est': 0.0, 'une': 0.00015410358348077745, 'ville': 1.5e-323, 'en': 5e-324, 'france': 0.0, 'belle': 0.0, 'eglise': 5e-324, 'a': 0.0, 'la': 0.0, 'fille': 0.0}), 'a': defaultdict(<function IBMModel1.train.<locals>.<lambda>.<locals>.<lambda> at 0x00000150C09DA290>, {'paris': 1e-323, 'est': 0.0, 'une': 1.0, 'ville': 5e-324, 'en': 0.0, 'france': 0.0, 'belle': 0.0, 'eglise': 0.0, 'la': 0.0, 'a': 0.0, 'fille': 0.0}), 'city': defaultdict(<function IBMModel1.train.<locals>.<lambda>.<locals>.<lambda> at 0x00000150C09DAF80>, {'paris': 0.00015726755784778993, 'est': 0.0, 'une': 4.0422694325730867e-08, 'ville': 0.9998426920194577, 'en': 5e-324, 'france': 0.0, 'belle': 0.0, 'a': 0.0, 'la': 0.0, 'eglise': 0.0, 'fille': 0.0}), 'beautiful': defaultdict(<function IBMModel1.train.<locals>.<lambda>.<locals>.<lambda> at 0x00000150C09DACB0>, {'la': 0.0, 'fille': 0.0, 'est': 0.0, 'belle': 1.0, 'paris': 0.0, 'une': 0.0, 'ville': 0.0, 'eglise': 0.0, 'france': 0.0, 'a': 0.0, 'en': 0.0}), 'church': defaultdict(<function IBMModel1.train.<locals>.<lambda>.<locals>.<lambda> at 0x00000150C09D9B40>, {'la': 0.0, 'fille': 0.0, 'est': 0.0, 'a': 0.2243422389738239, 'eglise': 0.775657761026176, 'une': 0.0, 'en': 0.0, 'paris': 0.0, 'belle': 0.0, 'france': 0.0, 'ville': 0.0}), 'has': defaultdict(<function IBMModel1.train.<locals>.<lambda>.<locals>.<lambda> at 0x00000150C09DAEF0>, {'la': 0.0, 'france': 1e-323, 'a': 1.0, 'une': 0.0, 'belle': 0.0, 'eglise': 1e-323, 'est': 0.0, 'en': 0.0, 'paris': 0.0, 'ville': 0.0, 'fille': 0.0})})\n",
      "ibm1.translation_tuple:  {('in', 'france'): 0.0, ('in', 'est'): 3.901967e-318, ('in', 'en'): 0.8738487367397165, ('in', 'paris'): 0.0, ('in', 'belle'): 0.0, ('in', 'a'): 0.12615126326028328, ('in', 'la'): 0.0, ('in', 'ville'): 0.0, ('in', 'eglise'): 1.5319143556418012e-222, ('in', 'une'): 0.0, ('in', 'fille'): 0.0, ('france', 'france'): 1.0, ('france', 'est'): 1.5e-323, ('france', 'en'): 7.089248931173573e-181, ('france', 'paris'): 5e-324, ('france', 'belle'): 0.0, ('france', 'a'): 5e-324, ('france', 'la'): 5e-324, ('france', 'ville'): 5e-324, ('france', 'eglise'): 0.0, ('france', 'une'): 5e-324, ('france', 'fille'): 5e-324, ('a', 'france'): 0.0, ('a', 'est'): 0.0, ('a', 'en'): 0.0, ('a', 'paris'): 1e-323, ('a', 'belle'): 0.0, ('a', 'a'): 0.0, ('a', 'la'): 0.0, ('a', 'ville'): 5e-324, ('a', 'eglise'): 0.0, ('a', 'une'): 1.0, ('a', 'fille'): 0.0, ('paris', 'france'): 0.0, ('paris', 'est'): 0.0, ('paris', 'en'): 5e-324, ('paris', 'paris'): 0.9998458964165193, ('paris', 'belle'): 0.0, ('paris', 'a'): 0.0, ('paris', 'la'): 0.0, ('paris', 'ville'): 1.5e-323, ('paris', 'eglise'): 5e-324, ('paris', 'une'): 0.00015410358348077745, ('paris', 'fille'): 0.0, ('girl', 'france'): 0.0, ('girl', 'est'): 0.0, ('girl', 'en'): 0.0, ('girl', 'paris'): 0.0, ('girl', 'belle'): 0.0, ('girl', 'a'): 0.1261512632602836, ('girl', 'la'): 9.146385095349588e-131, ('girl', 'ville'): 0.0, ('girl', 'eglise'): 0.0, ('girl', 'une'): 0.0, ('girl', 'fille'): 0.8738487367397165, ('has', 'france'): 1e-323, ('has', 'est'): 0.0, ('has', 'en'): 0.0, ('has', 'paris'): 0.0, ('has', 'belle'): 0.0, ('has', 'a'): 1.0, ('has', 'la'): 0.0, ('has', 'ville'): 0.0, ('has', 'eglise'): 1e-323, ('has', 'une'): 0.0, ('has', 'fille'): 0.0, ('city', 'france'): 0.0, ('city', 'est'): 0.0, ('city', 'en'): 5e-324, ('city', 'paris'): 0.00015726755784778993, ('city', 'belle'): 0.0, ('city', 'a'): 0.0, ('city', 'la'): 0.0, ('city', 'ville'): 0.9998426920194577, ('city', 'eglise'): 0.0, ('city', 'une'): 4.0422694325730867e-08, ('city', 'fille'): 0.0, ('the', 'france'): 0.0, ('the', 'est'): 0.0, ('the', 'en'): 0.0, ('the', 'paris'): 0.0, ('the', 'belle'): 0.0, ('the', 'a'): 1.0848840330713814e-130, ('the', 'la'): 1.0, ('the', 'ville'): 0.0, ('the', 'eglise'): 1e-323, ('the', 'une'): 0.0, ('the', 'fille'): 7.514982547997355e-130, ('is', 'france'): 0.0, ('is', 'est'): 1.0, ('is', 'en'): 1e-323, ('is', 'paris'): 1e-323, ('is', 'belle'): 1e-323, ('is', 'a'): 1e-323, ('is', 'la'): 1.5e-323, ('is', 'ville'): 5e-324, ('is', 'eglise'): 5.909669534380058e-253, ('is', 'une'): 1e-323, ('is', 'fille'): 1e-323, ('beautiful', 'france'): 0.0, ('beautiful', 'est'): 0.0, ('beautiful', 'en'): 0.0, ('beautiful', 'paris'): 0.0, ('beautiful', 'belle'): 1.0, ('beautiful', 'a'): 0.0, ('beautiful', 'la'): 0.0, ('beautiful', 'ville'): 0.0, ('beautiful', 'eglise'): 0.0, ('beautiful', 'une'): 0.0, ('beautiful', 'fille'): 0.0, ('church', 'france'): 0.0, ('church', 'est'): 0.0, ('church', 'en'): 0.0, ('church', 'paris'): 0.0, ('church', 'belle'): 0.0, ('church', 'a'): 0.2243422389738239, ('church', 'la'): 0.0, ('church', 'ville'): 0.0, ('church', 'eglise'): 0.775657761026176, ('church', 'une'): 0.0, ('church', 'fille'): 0.0}\n",
      "('a', 'a') 0.0\n",
      "('a', 'belle') 0.0\n",
      "('a', 'eglise') 0.0\n",
      "('a', 'en') 0.0\n",
      "('a', 'est') 0.0\n",
      "('a', 'fille') 0.0\n",
      "('a', 'france') 0.0\n",
      "('a', 'la') 0.0\n",
      "('a', 'paris') 1e-323\n",
      "('a', 'une') 1.0\n",
      "('a', 'ville') 5e-324\n",
      "('beautiful', 'a') 0.0\n",
      "('beautiful', 'belle') 1.0\n",
      "('beautiful', 'eglise') 0.0\n",
      "('beautiful', 'en') 0.0\n",
      "('beautiful', 'est') 0.0\n",
      "('beautiful', 'fille') 0.0\n",
      "('beautiful', 'france') 0.0\n",
      "('beautiful', 'la') 0.0\n",
      "('beautiful', 'paris') 0.0\n",
      "('beautiful', 'une') 0.0\n",
      "('beautiful', 'ville') 0.0\n",
      "('church', 'a') 0.2243422389738239\n",
      "('church', 'belle') 0.0\n",
      "('church', 'eglise') 0.775657761026176\n",
      "('church', 'en') 0.0\n",
      "('church', 'est') 0.0\n",
      "('church', 'fille') 0.0\n",
      "('church', 'france') 0.0\n",
      "('church', 'la') 0.0\n",
      "('church', 'paris') 0.0\n",
      "('church', 'une') 0.0\n",
      "('church', 'ville') 0.0\n",
      "('city', 'a') 0.0\n",
      "('city', 'belle') 0.0\n",
      "('city', 'eglise') 0.0\n",
      "('city', 'en') 5e-324\n",
      "('city', 'est') 0.0\n",
      "('city', 'fille') 0.0\n",
      "('city', 'france') 0.0\n",
      "('city', 'la') 0.0\n",
      "('city', 'paris') 0.00015726755784778993\n",
      "('city', 'une') 4.0422694325730867e-08\n",
      "('city', 'ville') 0.9998426920194577\n",
      "('france', 'a') 5e-324\n",
      "('france', 'belle') 0.0\n",
      "('france', 'eglise') 0.0\n",
      "('france', 'en') 7.089248931173573e-181\n",
      "('france', 'est') 1.5e-323\n",
      "('france', 'fille') 5e-324\n",
      "('france', 'france') 1.0\n",
      "('france', 'la') 5e-324\n",
      "('france', 'paris') 5e-324\n",
      "('france', 'une') 5e-324\n",
      "('france', 'ville') 5e-324\n",
      "('girl', 'a') 0.1261512632602836\n",
      "('girl', 'belle') 0.0\n",
      "('girl', 'eglise') 0.0\n",
      "('girl', 'en') 0.0\n",
      "('girl', 'est') 0.0\n",
      "('girl', 'fille') 0.8738487367397165\n",
      "('girl', 'france') 0.0\n",
      "('girl', 'la') 9.146385095349588e-131\n",
      "('girl', 'paris') 0.0\n",
      "('girl', 'une') 0.0\n",
      "('girl', 'ville') 0.0\n",
      "('has', 'a') 1.0\n",
      "('has', 'belle') 0.0\n",
      "('has', 'eglise') 1e-323\n",
      "('has', 'en') 0.0\n",
      "('has', 'est') 0.0\n",
      "('has', 'fille') 0.0\n",
      "('has', 'france') 1e-323\n",
      "('has', 'la') 0.0\n",
      "('has', 'paris') 0.0\n",
      "('has', 'une') 0.0\n",
      "('has', 'ville') 0.0\n",
      "('in', 'a') 0.12615126326028328\n",
      "('in', 'belle') 0.0\n",
      "('in', 'eglise') 1.5319143556418012e-222\n",
      "('in', 'en') 0.8738487367397165\n",
      "('in', 'est') 3.901967e-318\n",
      "('in', 'fille') 0.0\n",
      "('in', 'france') 0.0\n",
      "('in', 'la') 0.0\n",
      "('in', 'paris') 0.0\n",
      "('in', 'une') 0.0\n",
      "('in', 'ville') 0.0\n",
      "('is', 'a') 1e-323\n",
      "('is', 'belle') 1e-323\n",
      "('is', 'eglise') 5.909669534380058e-253\n",
      "('is', 'en') 1e-323\n",
      "('is', 'est') 1.0\n",
      "('is', 'fille') 1e-323\n",
      "('is', 'france') 0.0\n",
      "('is', 'la') 1.5e-323\n",
      "('is', 'paris') 1e-323\n",
      "('is', 'une') 1e-323\n",
      "('is', 'ville') 5e-324\n",
      "('paris', 'a') 0.0\n",
      "('paris', 'belle') 0.0\n",
      "('paris', 'eglise') 5e-324\n",
      "('paris', 'en') 5e-324\n",
      "('paris', 'est') 0.0\n",
      "('paris', 'fille') 0.0\n",
      "('paris', 'france') 0.0\n",
      "('paris', 'la') 0.0\n",
      "('paris', 'paris') 0.9998458964165193\n",
      "('paris', 'une') 0.00015410358348077745\n",
      "('paris', 'ville') 1.5e-323\n",
      "('the', 'a') 1.0848840330713814e-130\n",
      "('the', 'belle') 0.0\n",
      "('the', 'eglise') 1e-323\n",
      "('the', 'en') 0.0\n",
      "('the', 'est') 0.0\n",
      "('the', 'fille') 7.514982547997355e-130\n",
      "('the', 'france') 0.0\n",
      "('the', 'la') 1.0\n",
      "('the', 'paris') 0.0\n",
      "('the', 'une') 0.0\n",
      "('the', 'ville') 0.0\n"
     ]
    }
   ],
   "source": [
    "ibm1 = tm.IBMModel1(f_corpus, e_corpus)\n",
    "ibm1.preprocess()\n",
    "ibm1.train(100000000, 0.0000001)\n",
    "print('ibm1.translation_table: ', ibm1.translation_table)\n",
    "print('ibm1.translation_tuple: ', ibm1.translation_tuple)\n",
    "\n",
    "for f_e_pair, prob in sorted(ibm1.translation_tuple.items()):\n",
    "    print(f_e_pair, prob)"
   ]
  }
 ],
 "metadata": {
  "kernelspec": {
   "display_name": "base",
   "language": "python",
   "name": "python3"
  },
  "language_info": {
   "codemirror_mode": {
    "name": "ipython",
    "version": 3
   },
   "file_extension": ".py",
   "mimetype": "text/x-python",
   "name": "python",
   "nbconvert_exporter": "python",
   "pygments_lexer": "ipython3",
   "version": "3.10.0"
  },
  "orig_nbformat": 4
 },
 "nbformat": 4,
 "nbformat_minor": 2
}
