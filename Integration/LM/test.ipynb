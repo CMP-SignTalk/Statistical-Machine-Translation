{
 "cells": [
  {
   "attachments": {},
   "cell_type": "markdown",
   "metadata": {},
   "source": [
    "# Testing the Language Model"
   ]
  },
  {
   "cell_type": "code",
   "execution_count": 2,
   "metadata": {},
   "outputs": [],
   "source": [
    "import numpy as np\n",
    "import LM.lm as lm\n",
    "import utils as utils"
   ]
  },
  {
   "attachments": {},
   "cell_type": "markdown",
   "metadata": {},
   "source": [
    "### Load the Training Data"
   ]
  },
  {
   "cell_type": "code",
   "execution_count": 3,
   "metadata": {},
   "outputs": [
    {
     "name": "stdout",
     "output_type": "stream",
     "text": [
      "f_corpus len 100\n",
      "e_corpus len 100\n",
      "f_corpus ['the date is not a fetish', 'the results speak for themselves', 'it should mean that everyone is given an equal opportunity', 'europe has done a very great deal of work in this field which is to be welcomed', 'we simply have to build it stage by stage', 'it is an issue of proportionality', 'we are talking about rights plurality and freedom', 'that attempt did not succeed but it does represent a precedent for that kind of gathering', 'this green paper is important seeing as it concerns a matter that needs to be dealt with', 'mr audy asked the following question are your samples of sufficient size', 'it is up to you to consider and choose the outcome you want to see', 'what can we expect from china', 'we must pay by giving financial support to developing countries', 'i will however refer your request to the conference of presidents which will meet later this afternoon', 'it says that the act also complies with international standards and pursues a legitimate goal', 'dates of forthcoming sittings see minutes', 'there needs to be a particularly close bond between all these links along with open communication', 'the establishment of an evaluation mechanism is important for all member states', 'we must focus on the real solutions', 'de madam president commissioner ladies and gentlemen', 'the housing situation in the eu is critical', 'this is your last speech in parliament but i expect more decisiveness from you in this house', 'written statements rule 149', 'the temptation to use state aid in different situations is there and we are all aware of that', 'otherwise we have to vote on the corresponding part of amendment thank you mrs icu we take due note of your observation', 'however spain is now following greece with a deficit of 11  in gdp', 'president ravalomanana lost support and he stood down on 17 march 200power was seized by rajoelina who was designated by the army', 'plant protection products are in fact medicine for plants', 'in the resolution you target the questions of document management and a common portal and the trans jai project', 'for this reason i cannot support the reports put forward', 'this information shows the fact that the european unions efforts concentrate on two areas', 'at the same time it has not proposed any financing for this strategy', 'however there is a great deal of violence in southern serbia in particular', 'this is a time that requires solidarity between the member states and europes institutions', 'the regional dimension will of course be fully taken into account in this context', 'we only need harmonisation of these areas of law and only in clearly defined limited areas', 'cohesion policy must be the same for both urban and rural areas', 'we do not want 1 january for its own sake', 'ec cte d ivoire fisheries partnership agreement', 'i would very much welcome if one of those top jobs could go to a woman', 'after signing the intergovernmental agreement on nabucco the european union must take action', 'this staff working document on cross border e commerce is an initiative by my colleague commissioner meglena kuneva', 'it is therefore important that the necessary preparations are being continued with rigour', 'it is not my fault if in french it is translated asderegulation', 'that is not the only matter of concern commissioner', 'the eur 11 million will target almost 1 000 workers in this highly sensitive and hard hit sector', 'we are opposed to a non mandatory code of conduct and in favour of an efficient enforcement mechanism', 'applause', 'firstly the issue of appointments', 'de madam president i will go straight to the commissioner for clarification', 'commissioner i have two questions for you', 'the amendment reads as follows in english', 'at the start of the constitutional process the rules were that every country had to ratify or it fell', 'if our wishes are to become a reality we need to assist and cooperate with croatia', 'we are all anxious to see this', 'this is all about a common foreign and security policy', 'unfortunately that was not the case and now he has suffered the same fate as his predecessor', 'ladies and gentlemen the reports reaching us from haiti are shocking', 'we must approach our own with the same sense of responsibility and realism', 'the european union has a major role to play', 'it is immeasurable', 'how and when will it be provided', 'it seems that not only is there no financial clarification but there is also no political clarification', 'this is especially true of its uniform and balanced approach to the unions enlargement policy', 'turning now to individual areas in more detail', 'everyone essentially agrees to the principle of paying the true costs', 'i doubt that', 'this was the direct question asked by mr bokros', 'parliament will be informed at an early stage of staffing changes in the commission', 'i believe that we should not remain idle on this transit issue', 'madam president i think the three institutions have made their viewpoint in this debate very clear', 'the choice of what to do and what not to do will be in the hands of individual companies', 'the citizens like their politicians want to be able to travel freely', 'colleagues have spoken about the unprecedented flooding that took place in ireland at the weekend', 'how does the council envisage coordinated european action alleviating the burden on patients their families and their carers', 'it fuelled the war in cambodia in the 1990s and it is the enemy of democracy', 'a budget of eur 2 200 000 was allocated to this initiative for 2008 alone', 'there were improvements in 2009 in this regard', 'this is a democratic procedure ending in a vote', 'i therefore think that the reference to romania and bulgaria was used without taking into consideration the entire context', 'thank you for listening', 'iran the shirin ebadi case', 'indeed the cohesion policy is actually the best instrument for mobilising investment in growth and employment', 'commissioner i look forward to working closely with you in the new agreement that is coming up', 'moreover its imperial conception is clearly evident', 'you are speaking in a free parliament', 'in addition to that i should like to thank the secretariat for its work', 'parliament reports regarding the reception situation appear to be completely ineffective', 'this also strengthens the fight against climate change', 'that is what this european day of memorial should be about i will never forget what i experienced', 'we just need to move', 'our present differences with the government of iran are many some are very serious', 'these are the conditions that have led to a crisis for job seekers in europe', 'i submitted a number of amendments to the committee which were dealt with relatively benevolently by the rapporteur', 'the two coming years will be difficult', 'the abuse of power wherever it might take place must be condemned', 'its role is to combine individual pieces of meat together into a single meat product', 'otherwise we will not manage to meet the millennium development goals', 'everything is itemised on the voting list', 'i am well aware that there have to be 40 members before a quorum may be requested']\n",
      "e_corpus ['date be not fetish', 'result speak for mselves', 'it should mean that everyone be give equal opportunity', 'europe have do very great deal work in this field  which be to be welcome', 'we simply have to build it stage by stage', 'it be issue proportionality', 'we be talk about rights  plurality and freedom', 'that attempt do not succeed  but it do represent precedent for that kind garing', 'this green paper be important  see as it concern matter that need to be deal with', 'mr audy ask follow question be you sample sufficient size', 'it be up to you to consider and choose outcome you want to see', 'what can we expect from china', 'we must pay by give financial support to develop country', 'i will  however  refer you request to conference president which will meet later this afternoon', 'it say that act also comply with international standard and pursue legitimate goal', 'date forthcoming sit see minute', 're need to be particularly close bond between all se link  along with open communication', 'establishment evaluation mechanism be important for all member state', 'we must focus on real solution', 'de madam president  commissioner  lady and gentleman', 'housing situation in eu be critical', 'this be you last speech in parliament  but i expect more decisiveness from you in this house', 'write statement rule 149', 'temptation to use state aid in different situation be re  and we be all aware that', 'u  we take due note you observation  amendment thank you mr', 'however  spain be now follow greece with deficit 11  in gdp', 'president ravalomanana lose support  and he stand down on 17 march 200power be seize by rajoelina  who be designate by army', 'plant protection product be  in fact  medicine for plant', 'in resolution you target question document management and common portal and tran jaus project', 'for this reason  i can not support report put forward', 'this information show fact that european union poss effort concentrate on two area', 'at same time  it have not propose any financing for this strategy', 'however  re be great deal violence in sourn serbium in particular', 'this be time that require solidarity between member state and europe poss institution', 'regional dimension will course be fully take into account in this context', 'we only need harmonisation se area law  and only in clearly define  limit area', 'cohesion policy must be same for both urban and rural area', 'we do not want 1 january for its own sake', 'ec cte d ivoire fishery partnership agreement', 'i would very much welcome if one those top job could go to woman', 'after sign intergovernmental agreement on nabucco  european union must take action', 'this staff work document on cross border e commerce be initiative by my colleague  commissioner meglena kuneva', 'it be refore important that necessary preparation be be continue with rigor', 'it be not my fault if in french it be translate asderegulation', 'that be not only matter concern  commissioner', 'eur 11 million will target almost 1 000 worker in this highly sensitive and hard hit sector', 'we be oppose to non mandatory code conduct and in favor efficient enforcement mechanism', 'applause', 'firstly  issue appointment', 'de madam president  i will go straight to commissioner for clarification', 'commissioner  i have two question for you', 'amendment read as follow in english', 'at start constitutional process rule be that every country have to ratify or it fall', 'if we wish be to become reality  we need to assist and cooperate with croatium', 'we be all anxious to see this', 'this be all about common foreign and security policy', 'unfortunately  that be not case and now he have suffer same fate as he predecessor', 'lady and gentleman  report reach we from haitus be shocking', 'we must approach we own with same sense responsibility and realism', 'european union have major role to play', 'it be immeasurable', 'how and when will it be provide', 'it seem that not only be re no financial clarification  but re be also no political clarification', 'this be especially true its uniform and balanced approach to union poss enlargement policy', 'turn  now  to individual area in more detail', 'everyone essentially agree to principle pay true cost', 'i doubt that', 'this be direct question ask by mr bokro', 'parliament will be inform at early stage staffing change in commission', 'i believe that we should not remain idle on this transit issue', 'madam president  i think three institution have make y viewpoint in this debate very clear', 'choice what to do and what not to do will be in hand individual company', 'citizen  like y politician  want to be able to travel freely', 'colleague have speak about unprecedented flooding that take place in ireland at weekend', 'how do council envisage coordinate european action alleviate burden on patient  y family and y carer', 'it fuel war in cambodium in 1990 and it be enemy democracy', 'budget eur 2 200 000 be allocate to this initiative for 2008 alone', 're be improvement in 2009 in this regard', 'this be democratic procedure end in vote', 'i refore think that reference to romanium and bulgarium be use without take into consideration entire context', 'thank you for listen', 'iran shirin ebadus case', 'indeed  cohesion policy be actually best instrument for mobilise investment in growth and employment', 'commissioner  i look forward to work closely with you in new agreement that be come up', 'moreover  its imperial conception be clearly evident', 'you be speak in free parliament', 'in addition to that  i should like to thank secretariat for its work', 'parliament report regard reception situation appear to be completely ineffective', 'this also strengn fight against climate change', 'i will never forget what i experience  should be about', 'we just need to move', 'we present difference with government iran be many some be very serious', 'se be condition that have lead to crisis for job seeker in europe', 'i submit number amendment to committee  which be deal with relatively benevolently by rapporteur', 'two come year will be difficult', 'abuse power  wherever it might take place  must be condemn', 'its role be to combine individual piece meat toger into single meat product', 'orwise  we will not manage to meet millennium development goal', 'everything be itemise on voting list', 'i be well aware that re have to be 40 member before quorum may be request']\n"
     ]
    }
   ],
   "source": [
    "f_corpus, e_corpus = utils.load_data(\"../data/small.json\", 100)\n",
    "print('f_corpus len', len(f_corpus))\n",
    "print('e_corpus len', len(e_corpus))\n",
    "print('f_corpus', f_corpus)\n",
    "print('e_corpus', e_corpus)"
   ]
  },
  {
   "attachments": {},
   "cell_type": "markdown",
   "metadata": {},
   "source": [
    "## Unigram"
   ]
  },
  {
   "cell_type": "code",
   "execution_count": 4,
   "metadata": {},
   "outputs": [],
   "source": [
    "unigram_lm = lm.Unigram(e_corpus)\n",
    "unigram_lm.preprocess()\n",
    "unigram_lm.train()\n",
    "# unigram_lm.print_ds()"
   ]
  },
  {
   "attachments": {},
   "cell_type": "markdown",
   "metadata": {},
   "source": [
    "### Words Probability"
   ]
  },
  {
   "cell_type": "code",
   "execution_count": 8,
   "metadata": {},
   "outputs": [
    {
     "name": "stdout",
     "output_type": "stream",
     "text": [
      "probability 0.03997715591090805\n",
      "log_probability -3.219447090236493\n"
     ]
    }
   ],
   "source": [
    "probability = unigram_lm.calc_probability('be')\n",
    "print('probability',probability)\n",
    "log_probability = unigram_lm.calc_log_probability('be')\n",
    "print('log_probability',log_probability)"
   ]
  },
  {
   "cell_type": "code",
   "execution_count": 9,
   "metadata": {},
   "outputs": [
    {
     "name": "stdout",
     "output_type": "stream",
     "text": [
      "probability 0.0005711022272986865\n",
      "log_probability -7.467942332285852\n"
     ]
    }
   ],
   "source": [
    "probability = unigram_lm.calc_probability('is')\n",
    "print('probability',probability)\n",
    "log_probability = unigram_lm.calc_log_probability('is')\n",
    "print('log_probability',log_probability)"
   ]
  },
  {
   "attachments": {},
   "cell_type": "markdown",
   "metadata": {},
   "source": [
    "### Sentence Probability"
   ]
  },
  {
   "cell_type": "code",
   "execution_count": 10,
   "metadata": {},
   "outputs": [
    {
     "name": "stdout",
     "output_type": "stream",
     "text": [
      "sentence_probability 1.9324956000029484e-12\n",
      "log_sentence_probability -26.972208891293644\n"
     ]
    },
    {
     "data": {
      "text/plain": [
       "-26.97220889129364"
      ]
     },
     "execution_count": 10,
     "metadata": {},
     "output_type": "execute_result"
    }
   ],
   "source": [
    "sentence_probability = unigram_lm.calc_sentence_probability('date be not fetish')\n",
    "print('sentence_probability',sentence_probability)\n",
    "log_sentence_probability = unigram_lm.calc_log_sentence_probability('date be not fetish')\n",
    "print('log_sentence_probability',log_sentence_probability)\n",
    "np.log(sentence_probability)"
   ]
  },
  {
   "cell_type": "code",
   "execution_count": 11,
   "metadata": {},
   "outputs": [
    {
     "name": "stdout",
     "output_type": "stream",
     "text": [
      "sentence_probability 3.539369230774631e-16\n",
      "log_sentence_probability -35.57741296003259\n"
     ]
    },
    {
     "data": {
      "text/plain": [
       "-35.57741296003259"
      ]
     },
     "execution_count": 11,
     "metadata": {},
     "output_type": "execute_result"
    }
   ],
   "source": [
    "sentence_probability = unigram_lm.calc_sentence_probability('Unseen sentence Unseen sentence')\n",
    "print('sentence_probability',sentence_probability)\n",
    "log_sentence_probability = unigram_lm.calc_log_sentence_probability('Unseen sentence Unseen sentence')\n",
    "print('log_sentence_probability',log_sentence_probability)\n",
    "np.log(sentence_probability)"
   ]
  },
  {
   "attachments": {},
   "cell_type": "markdown",
   "metadata": {},
   "source": [
    "### Probability Change"
   ]
  },
  {
   "cell_type": "code",
   "execution_count": 8,
   "metadata": {},
   "outputs": [
    {
     "name": "stdout",
     "output_type": "stream",
     "text": [
      "-11.059519441353883\n",
      "-16.994744270138987\n",
      "-19.07418581181883\n",
      "-5.935224828785104\n",
      "-8.014666370464946\n"
     ]
    }
   ],
   "source": [
    "print(unigram_lm.calc_log_sentence_probability('My name'))\n",
    "print(unigram_lm.calc_log_sentence_probability('My name is John'))\n",
    "print(unigram_lm.calc_log_sentence_probability('My name called Ali'))\n",
    "print(unigram_lm.probability_change('My name','is John' ))\n",
    "print(unigram_lm.probability_change('My name','called Ali'))"
   ]
  },
  {
   "attachments": {},
   "cell_type": "markdown",
   "metadata": {},
   "source": [
    "### Perplexity"
   ]
  },
  {
   "cell_type": "code",
   "execution_count": 9,
   "metadata": {},
   "outputs": [
    {
     "name": "stdout",
     "output_type": "stream",
     "text": [
      "Perplexity: 10.024357553087649\n"
     ]
    }
   ],
   "source": [
    "training_corpus = [\"The quick brown fox jumps over the lazy dog\", \"The quick brown fox jumps over the lazy dog\"]\n",
    "test_corpus = [\"The lazy brown dog jumps over the quick fox\"]\n",
    "\n",
    "model = lm.Unigram(training_corpus)\n",
    "model.preprocess()\n",
    "model.train()\n",
    "\n",
    "perplexity = model.perplexity(test_corpus)\n",
    "print(\"Perplexity:\", perplexity)"
   ]
  },
  {
   "attachments": {},
   "cell_type": "markdown",
   "metadata": {},
   "source": [
    "## Bigram"
   ]
  },
  {
   "cell_type": "code",
   "execution_count": 10,
   "metadata": {},
   "outputs": [],
   "source": [
    "bigram_lm = lm.Bigram(e_corpus)\n",
    "bigram_lm.preprocess()\n",
    "bigram_lm.train()\n",
    "# bigram_lm.print_ds()"
   ]
  },
  {
   "attachments": {},
   "cell_type": "markdown",
   "metadata": {},
   "source": [
    "### Words Probability"
   ]
  },
  {
   "cell_type": "code",
   "execution_count": 11,
   "metadata": {},
   "outputs": [
    {
     "name": "stdout",
     "output_type": "stream",
     "text": [
      "probability 0.08695652173913043\n",
      "log_probability -2.4423470353692043\n"
     ]
    }
   ],
   "source": [
    "probability = bigram_lm.calc_probability('name','is')\n",
    "print('probability',probability)\n",
    "log_probability = bigram_lm.calc_log_probability('name','is')\n",
    "print('log_probability',log_probability)"
   ]
  },
  {
   "cell_type": "code",
   "execution_count": 12,
   "metadata": {},
   "outputs": [
    {
     "name": "stdout",
     "output_type": "stream",
     "text": [
      "probability 0.045454545454545456\n",
      "log_probability -3.0910424533583156\n"
     ]
    }
   ],
   "source": [
    "probability = bigram_lm.calc_probability('unseen','unseen')\n",
    "print('probability',probability)\n",
    "log_probability = bigram_lm.calc_log_probability('unseen','unseen')\n",
    "print('log_probability',log_probability)"
   ]
  },
  {
   "attachments": {},
   "cell_type": "markdown",
   "metadata": {},
   "source": [
    "### Sentence Probability"
   ]
  },
  {
   "cell_type": "code",
   "execution_count": 13,
   "metadata": {},
   "outputs": [
    {
     "name": "stdout",
     "output_type": "stream",
     "text": [
      "sentence_probability 3.896392488485855e-06\n",
      "log_sentence_probability -12.455459435860252\n"
     ]
    },
    {
     "data": {
      "text/plain": [
       "-12.455459435860252"
      ]
     },
     "execution_count": 13,
     "metadata": {},
     "output_type": "execute_result"
    }
   ],
   "source": [
    "sentence_probability = bigram_lm.calc_sentence_probability('My name is John')\n",
    "print('sentence_probability',sentence_probability)\n",
    "log_sentence_probability = bigram_lm.calc_log_sentence_probability('My name is John')\n",
    "print('log_sentence_probability',log_sentence_probability)\n",
    "np.log(sentence_probability)"
   ]
  },
  {
   "cell_type": "code",
   "execution_count": 14,
   "metadata": {},
   "outputs": [
    {
     "name": "stdout",
     "output_type": "stream",
     "text": [
      "sentence_probability 1.5810496651969228e-07\n",
      "log_sentence_probability -15.660006679437593\n"
     ]
    },
    {
     "data": {
      "text/plain": [
       "-15.660006679437593"
      ]
     },
     "execution_count": 14,
     "metadata": {},
     "output_type": "execute_result"
    }
   ],
   "source": [
    "sentence_probability = bigram_lm.calc_sentence_probability('Unseen sentence Unseen sentence')\n",
    "print('sentence_probability',sentence_probability)\n",
    "log_sentence_probability = bigram_lm.calc_log_sentence_probability('Unseen sentence Unseen sentence')\n",
    "print('log_sentence_probability',log_sentence_probability)\n",
    "np.log(sentence_probability)"
   ]
  },
  {
   "attachments": {},
   "cell_type": "markdown",
   "metadata": {},
   "source": [
    "### Probability Change"
   ]
  },
  {
   "cell_type": "code",
   "execution_count": 15,
   "metadata": {},
   "outputs": [
    {
     "name": "stdout",
     "output_type": "stream",
     "text": [
      "-8.180530936742738\n",
      "-12.455459435860252\n",
      "-14.36261584345937\n",
      "-4.2749284991175145\n",
      "-6.182084906716632\n"
     ]
    }
   ],
   "source": [
    "print(bigram_lm.calc_log_sentence_probability('My name'))\n",
    "print(bigram_lm.calc_log_sentence_probability('My name is John'))\n",
    "print(bigram_lm.calc_log_sentence_probability('My name called Ali'))\n",
    "print(bigram_lm.probability_change('My name','is John' ))\n",
    "print(bigram_lm.probability_change('My name','called Ali'))"
   ]
  },
  {
   "attachments": {},
   "cell_type": "markdown",
   "metadata": {},
   "source": [
    "### Perplexity"
   ]
  },
  {
   "cell_type": "code",
   "execution_count": 16,
   "metadata": {},
   "outputs": [
    {
     "name": "stdout",
     "output_type": "stream",
     "text": [
      "Perplexity: 7.723467195920273\n"
     ]
    }
   ],
   "source": [
    "training_corpus = [\"The quick brown fox jumps over the lazy dog\", \"The quick brown fox jumps over the lazy dog\"]\n",
    "test_corpus = [\"The lazy brown dog jumps over the quick fox\"]\n",
    "\n",
    "model = lm.Bigram(training_corpus)\n",
    "model.preprocess()\n",
    "model.train()\n",
    "\n",
    "perplexity = model.perplexity(test_corpus)\n",
    "print(\"Perplexity:\", perplexity)"
   ]
  },
  {
   "attachments": {},
   "cell_type": "markdown",
   "metadata": {},
   "source": [
    "## Trigram"
   ]
  },
  {
   "cell_type": "code",
   "execution_count": 17,
   "metadata": {},
   "outputs": [],
   "source": [
    "trigram_lm = lm.Trigram(e_corpus)\n",
    "trigram_lm.preprocess()\n",
    "trigram_lm.train()\n",
    "# trigram_lm.print_ds()"
   ]
  },
  {
   "attachments": {},
   "cell_type": "markdown",
   "metadata": {},
   "source": [
    "### Words Probability"
   ]
  },
  {
   "cell_type": "code",
   "execution_count": 18,
   "metadata": {},
   "outputs": [
    {
     "name": "stdout",
     "output_type": "stream",
     "text": [
      "probability 0.08695652173913043\n",
      "log_probability -2.4423470353692043\n"
     ]
    }
   ],
   "source": [
    "probability = trigram_lm.calc_probability('name','is','john')\n",
    "print('probability',probability)\n",
    "log_probability = trigram_lm.calc_log_probability('name','is','john')\n",
    "print('log_probability',log_probability)"
   ]
  },
  {
   "cell_type": "code",
   "execution_count": 19,
   "metadata": {},
   "outputs": [
    {
     "name": "stdout",
     "output_type": "stream",
     "text": [
      "probability 0.045454545454545456\n",
      "log_probability -3.0910424533583156\n"
     ]
    }
   ],
   "source": [
    "probability = trigram_lm.calc_probability('unseen','unseen','unseen')\n",
    "print('probability',probability)\n",
    "log_probability = trigram_lm.calc_log_probability('unseen','unseen','unseen')\n",
    "print('log_probability',log_probability)"
   ]
  },
  {
   "attachments": {},
   "cell_type": "markdown",
   "metadata": {},
   "source": [
    "### Sentence Probability"
   ]
  },
  {
   "cell_type": "code",
   "execution_count": 20,
   "metadata": {},
   "outputs": [
    {
     "name": "stdout",
     "output_type": "stream",
     "text": [
      "sentence_probability 5.717532455930331e-05\n",
      "log_sentence_probability -9.769388141476817\n"
     ]
    },
    {
     "data": {
      "text/plain": [
       "-9.769388141476817"
      ]
     },
     "execution_count": 20,
     "metadata": {},
     "output_type": "execute_result"
    }
   ],
   "source": [
    "sentence_probability = trigram_lm.calc_sentence_probability('My name is John')\n",
    "print('sentence_probability',sentence_probability)\n",
    "log_sentence_probability = trigram_lm.calc_log_sentence_probability('My name is John')\n",
    "print('log_sentence_probability',log_sentence_probability)\n",
    "np.log(sentence_probability)"
   ]
  },
  {
   "cell_type": "code",
   "execution_count": 21,
   "metadata": {},
   "outputs": [
    {
     "name": "stdout",
     "output_type": "stream",
     "text": [
      "sentence_probability 4.268834096031692e-06\n",
      "log_sentence_probability -12.364169813433262\n"
     ]
    },
    {
     "data": {
      "text/plain": [
       "-12.364169813433262"
      ]
     },
     "execution_count": 21,
     "metadata": {},
     "output_type": "execute_result"
    }
   ],
   "source": [
    "sentence_probability = trigram_lm.calc_sentence_probability('Unseen sentence Unseen sentence')\n",
    "print('sentence_probability',sentence_probability)\n",
    "log_sentence_probability = trigram_lm.calc_log_sentence_probability('Unseen sentence Unseen sentence')\n",
    "print('log_sentence_probability',log_sentence_probability)\n",
    "np.log(sentence_probability)"
   ]
  },
  {
   "attachments": {},
   "cell_type": "markdown",
   "metadata": {},
   "source": [
    "### Probability Change"
   ]
  },
  {
   "cell_type": "code",
   "execution_count": 22,
   "metadata": {},
   "outputs": [
    {
     "name": "stdout",
     "output_type": "stream",
     "text": [
      "-5.577841251298354\n",
      "-9.769388141476817\n",
      "-11.759926158014986\n",
      "-4.191546890178463\n",
      "-6.182084906716632\n"
     ]
    }
   ],
   "source": [
    "print(trigram_lm.calc_log_sentence_probability('My name'))\n",
    "print(trigram_lm.calc_log_sentence_probability('My name is John'))\n",
    "print(trigram_lm.calc_log_sentence_probability('My name called Ali'))\n",
    "print(trigram_lm.probability_change('My name','is John' ))\n",
    "print(trigram_lm.probability_change('My name','called Ali'))"
   ]
  },
  {
   "attachments": {},
   "cell_type": "markdown",
   "metadata": {},
   "source": [
    "### Perplexity"
   ]
  },
  {
   "cell_type": "code",
   "execution_count": 23,
   "metadata": {},
   "outputs": [
    {
     "name": "stdout",
     "output_type": "stream",
     "text": [
      "Perplexity: 10.68280100505348\n"
     ]
    }
   ],
   "source": [
    "training_corpus = [\"The quick brown fox jumps over the lazy dog\", \"The quick brown fox jumps over the lazy dog\"]\n",
    "test_corpus = [\"The lazy brown dog jumps over the quick fox\"]\n",
    "\n",
    "model = lm.Trigram(training_corpus)\n",
    "model.preprocess()\n",
    "model.train()\n",
    "\n",
    "perplexity = model.perplexity(test_corpus)\n",
    "print(\"Perplexity:\", perplexity)"
   ]
  },
  {
   "attachments": {},
   "cell_type": "markdown",
   "metadata": {},
   "source": [
    "##  Interpolation"
   ]
  },
  {
   "cell_type": "code",
   "execution_count": 24,
   "metadata": {},
   "outputs": [],
   "source": [
    "ilm = lm.LM(e_corpus)\n",
    "ilm.preprocess()\n",
    "ilm.train()"
   ]
  },
  {
   "cell_type": "code",
   "execution_count": 25,
   "metadata": {},
   "outputs": [
    {
     "name": "stdout",
     "output_type": "stream",
     "text": [
      "sentence_probability 2.8748583392406415e-05\n",
      "log_sentence_probability -10.456922065242487\n"
     ]
    },
    {
     "data": {
      "text/plain": [
       "-10.456922065242487"
      ]
     },
     "execution_count": 25,
     "metadata": {},
     "output_type": "execute_result"
    }
   ],
   "source": [
    "sentence_probability = ilm.calc_sentence_probability('My name is John')\n",
    "print('sentence_probability', sentence_probability)\n",
    "log_sentence_probability = ilm.calc_log_sentence_probability('My name is John')\n",
    "print('log_sentence_probability', log_sentence_probability)\n",
    "np.log(sentence_probability)"
   ]
  },
  {
   "cell_type": "code",
   "execution_count": 26,
   "metadata": {},
   "outputs": [
    {
     "name": "stdout",
     "output_type": "stream",
     "text": [
      "sentence_probability 2.4891571613960787e-06\n",
      "log_sentence_probability -12.903566394187292\n"
     ]
    },
    {
     "data": {
      "text/plain": [
       "-12.90356639418729"
      ]
     },
     "execution_count": 26,
     "metadata": {},
     "output_type": "execute_result"
    }
   ],
   "source": [
    "sentence_probability = ilm.calc_sentence_probability('Unseen sentence Unseen sentence')\n",
    "print('sentence_probability',sentence_probability)\n",
    "log_sentence_probability = ilm.calc_log_sentence_probability('Unseen sentence Unseen sentence')\n",
    "print('log_sentence_probability',log_sentence_probability)\n",
    "np.log(sentence_probability)"
   ]
  },
  {
   "attachments": {},
   "cell_type": "markdown",
   "metadata": {},
   "source": [
    "### Probability Change"
   ]
  },
  {
   "cell_type": "code",
   "execution_count": 27,
   "metadata": {},
   "outputs": [
    {
     "name": "stdout",
     "output_type": "stream",
     "text": [
      "-5.359402967288709\n",
      "-10.456922065242487\n",
      "-12.273515929097197\n",
      "-5.0975190979537786\n",
      "-6.914112961808488\n"
     ]
    }
   ],
   "source": [
    "print(ilm.calc_log_sentence_probability('My name'))\n",
    "print(ilm.calc_log_sentence_probability('My name is John'))\n",
    "print(ilm.calc_log_sentence_probability('My name called Ali'))\n",
    "print(ilm.probability_change('My name','is John' ))\n",
    "print(ilm.probability_change('My name','called Ali'))"
   ]
  },
  {
   "attachments": {},
   "cell_type": "markdown",
   "metadata": {},
   "source": [
    "## Saving the Models"
   ]
  },
  {
   "cell_type": "code",
   "execution_count": 28,
   "metadata": {},
   "outputs": [],
   "source": [
    "# save the language models\n",
    "utils.save_model(unigram_lm, \"models/unigram_model.pkl\")\n",
    "utils.save_model(bigram_lm, \"models/bigram_model.pkl\")\n",
    "utils.save_model(trigram_lm, \"models/trigram_model.pkl\")"
   ]
  }
 ],
 "metadata": {
  "kernelspec": {
   "display_name": "base",
   "language": "python",
   "name": "python3"
  },
  "language_info": {
   "codemirror_mode": {
    "name": "ipython",
    "version": 3
   },
   "file_extension": ".py",
   "mimetype": "text/x-python",
   "name": "python",
   "nbconvert_exporter": "python",
   "pygments_lexer": "ipython3",
   "version": "3.10.0"
  },
  "orig_nbformat": 4
 },
 "nbformat": 4,
 "nbformat_minor": 2
}
