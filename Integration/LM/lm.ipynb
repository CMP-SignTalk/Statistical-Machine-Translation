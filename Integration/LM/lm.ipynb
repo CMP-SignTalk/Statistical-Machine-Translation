{
 "cells": [
  {
   "attachments": {},
   "cell_type": "markdown",
   "metadata": {},
   "source": [
    "# Testing the Language Model"
   ]
  },
  {
   "cell_type": "code",
   "execution_count": 2,
   "metadata": {},
   "outputs": [],
   "source": [
    "import sys\n",
    "import os\n",
    "\n",
    "parent_directory = os.path.abspath(os.path.join(os.getcwd(), os.pardir))\n",
    "sys.path.append(parent_directory)"
   ]
  },
  {
   "cell_type": "code",
   "execution_count": 3,
   "metadata": {},
   "outputs": [],
   "source": [
    "import numpy as np\n",
    "import LM.lm as lm\n",
    "import utils as utils"
   ]
  },
  {
   "attachments": {},
   "cell_type": "markdown",
   "metadata": {},
   "source": [
    "### Load the Training Data"
   ]
  },
  {
   "cell_type": "code",
   "execution_count": 4,
   "metadata": {},
   "outputs": [
    {
     "name": "stdout",
     "output_type": "stream",
     "text": [
      "f_corpus ['the date is not a fetish', 'the results speak for themselves', 'it should mean that everyone is given an equal opportunity', 'europe has done a very great deal of work in this field which is to be welcomed', 'we simply have to build it stage by stage', 'it is an issue of proportionality', 'we are talking about rights plurality and freedom', 'that attempt did not succeed but it does represent a precedent for that kind of gathering', 'this green paper is important seeing as it concerns a matter that needs to be dealt with', 'mr audy asked the following question are your samples of sufficient size', 'it is up to you to consider and choose the outcome you want to see', 'what can we expect from china', 'we must pay by giving financial support to developing countries', 'i will however refer your request to the conference of presidents which will meet later this afternoon', 'it says that the act also complies with international standards and pursues a legitimate goal', 'dates of forthcoming sittings see minutes', 'there needs to be a particularly close bond between all these links along with open communication', 'the establishment of an evaluation mechanism is important for all member states', 'we must focus on the real solutions', 'de madam president commissioner ladies and gentlemen', 'the housing situation in the eu is critical', 'this is your last speech in parliament but i expect more decisiveness from you in this house', 'written statements rule 149', 'the temptation to use state aid in different situations is there and we are all aware of that', 'otherwise we have to vote on the corresponding part of amendment thank you mrs icu we take due note of your observation', 'however spain is now following greece with a deficit of 11  in gdp', 'president ravalomanana lost support and he stood down on 17 march 200power was seized by rajoelina who was designated by the army', 'plant protection products are in fact medicine for plants', 'in the resolution you target the questions of document management and a common portal and the trans jai project', 'for this reason i cannot support the reports put forward', 'this information shows the fact that the european unions efforts concentrate on two areas', 'at the same time it has not proposed any financing for this strategy', 'however there is a great deal of violence in southern serbia in particular', 'this is a time that requires solidarity between the member states and europes institutions', 'the regional dimension will of course be fully taken into account in this context', 'we only need harmonisation of these areas of law and only in clearly defined limited areas', 'cohesion policy must be the same for both urban and rural areas', 'we do not want 1 january for its own sake', 'ec cte d ivoire fisheries partnership agreement', 'i would very much welcome if one of those top jobs could go to a woman', 'after signing the intergovernmental agreement on nabucco the european union must take action', 'this staff working document on cross border e commerce is an initiative by my colleague commissioner meglena kuneva', 'it is therefore important that the necessary preparations are being continued with rigour', 'it is not my fault if in french it is translated asderegulation', 'that is not the only matter of concern commissioner', 'the eur 11 million will target almost 1 000 workers in this highly sensitive and hard hit sector', 'we are opposed to a non mandatory code of conduct and in favour of an efficient enforcement mechanism', 'applause', 'firstly the issue of appointments', 'de madam president i will go straight to the commissioner for clarification', 'commissioner i have two questions for you', 'the amendment reads as follows in english', 'at the start of the constitutional process the rules were that every country had to ratify or it fell', 'if our wishes are to become a reality we need to assist and cooperate with croatia', 'we are all anxious to see this', 'this is all about a common foreign and security policy', 'unfortunately that was not the case and now he has suffered the same fate as his predecessor', 'ladies and gentlemen the reports reaching us from haiti are shocking', 'we must approach our own with the same sense of responsibility and realism', 'the european union has a major role to play', 'it is immeasurable', 'how and when will it be provided', 'it seems that not only is there no financial clarification but there is also no political clarification', 'this is especially true of its uniform and balanced approach to the unions enlargement policy', 'turning now to individual areas in more detail', 'everyone essentially agrees to the principle of paying the true costs', 'i doubt that', 'this was the direct question asked by mr bokros', 'parliament will be informed at an early stage of staffing changes in the commission', 'i believe that we should not remain idle on this transit issue', 'madam president i think the three institutions have made their viewpoint in this debate very clear', 'the choice of what to do and what not to do will be in the hands of individual companies', 'the citizens like their politicians want to be able to travel freely', 'colleagues have spoken about the unprecedented flooding that took place in ireland at the weekend', 'how does the council envisage coordinated european action alleviating the burden on patients their families and their carers', 'it fuelled the war in cambodia in the 1990s and it is the enemy of democracy', 'a budget of eur 2 200 000 was allocated to this initiative for 2008 alone', 'there were improvements in 2009 in this regard', 'this is a democratic procedure ending in a vote', 'i therefore think that the reference to romania and bulgaria was used without taking into consideration the entire context', 'thank you for listening', 'iran the shirin ebadi case', 'indeed the cohesion policy is actually the best instrument for mobilising investment in growth and employment', 'commissioner i look forward to working closely with you in the new agreement that is coming up', 'moreover its imperial conception is clearly evident', 'you are speaking in a free parliament', 'in addition to that i should like to thank the secretariat for its work', 'parliament reports regarding the reception situation appear to be completely ineffective', 'this also strengthens the fight against climate change', 'that is what this european day of memorial should be about i will never forget what i experienced', 'we just need to move', 'our present differences with the government of iran are many some are very serious', 'these are the conditions that have led to a crisis for job seekers in europe', 'i submitted a number of amendments to the committee which were dealt with relatively benevolently by the rapporteur', 'the two coming years will be difficult', 'the abuse of power wherever it might take place must be condemned', 'its role is to combine individual pieces of meat together into a single meat product', 'otherwise we will not manage to meet the millennium development goals', 'everything is itemised on the voting list', 'i am well aware that there have to be 40 members before a quorum may be requested', 'let us not waste it', 'concerning the mediterranean we have objected to a reductionist approximation that only talks about security', 'i am very aware of the complexity of this issue mr kelly', 'this is a crucial issue for democracy and i think that the president of parliament should defend it', 'why is this', 'i am sorry that yulia tymoshenko lost the elections', 'no they should not have to do so', 'the commission should cooperate with parliament and the member states not dictate to them', 'our resolution on future enlargements must reflect the prevailing opinion in europe', 'deposit guarantee schemes as regards the coverage level and the payout delay', 'lastly complaints management must be better organised', 'however it is not only necessary to make an assessment', 'i would like to say a few words on the legislation we are about to sign today', 'such a policy orientation is indeed part of the integrated policy guidelines adopted by the european council', 'this is one of our top priorities', 'third what is the timeframe for relaxing visa restrictions', 'i congratulate the president since he was present at the european council meeting', 'it is not an unimportant element of this debate', 'the swedish presidency is seeking to speed up capitalist restructurings within the framework of the lisbon strategy', 'the belgian authorities have requested eur 92 million from the fund in this regard', 'for us the patriots ofataka energy independence for bulgaria is a number one priority', 'lt the human rights situation in iran is clearly deteriorating', 'to achieve this objective citizens themselves need to be involved', 'the most important task today for the eu and its member states is to resolve economic and social problems', 'compliance with flag state requirements', 'transfers of appropriations see minutes', 'el commissioner thank you very much for your reply', 'come armed with ambitious projects', 'the presence today of the council is the first indication that something is changing in the council as well', 'part two', 'members of the european parliament are willing and ready to fully contribute to tec processes', 'in future we need fair trade not merely trade that is in principle free', 'however imagine that you had been one of the negotiating partners on the other side', 'this has been on the back burner for a long while and there is a reason for that', 'before the final vote', 'what is the mediterranean diet', 'firstly assistance for national governments with transposing the directive', 'neither is it the case that the presidency wishes to unnecessarily restrict insight or debate in any respect', 'it is difficult to have peace without democracy', 'thank you', 'these obstacles which are due to bureaucratic difficulties and complex vague procedures lead to mistakes', 'the commission is already preparing for such negotiations which are expected to start within the next few months', 'tunisia also rightly takes an uncompromising approach to islamist jihadi extremism', 'israel has mighty allies outside of europe too', 'thank you for your attention', 'everyone can benefit from it', 'he may be aware that we do have some infringement proceedings against some member states in this particular area', 'in nicaragua we can see a warning example that such kinds of rulers do not change', 'agenda of the next sitting see minutes', 'the vote will take place on tuesday 18 may 20written statements rule 149', 'i wonder just what report you have read', 'however we also need to avoid watering down the power of the accession process by erecting extra obstacles', 'at other times however it arrives unobtrusively', 'giving children a chance in life is an important mdg', 'mr van nistelrooij stressed that the cohesion policy is an expression of solidarity', 'it also concerns bosnia and herzegovina albania and kosovo', 'on the subject of asylum i support your call for genuine solidarity between the member states', 'so do not wait too long ', 'i believe we can make this contribution on several fronts at european level too', 'subject measures for the promotion of products and services that help increase energy efficiency and promote renewable energies', 'the international community needs to be specifically involved once again', 'there is a wall rising between us and them a wall higher than the berlin wall', 'we will give you another chance', 'let us bring to bear our collective european experience', 'this report is one more step in affirming the rights of individuals and guaranteeing their security', 'this evaluation is a prerequisite for any legislative initiative on the matter', 'the first is to maintain support measures until the recovery has been consolidated', 'are all parties able and willing to work for peace', 'the text as adopted today in this plenary does not offer sufficient guarantees to this effect', 'if there were any doubt his statements are there on the importance of the draft treaty of lisbon', 'the first concerns the commissions discharge', 'however this does not mean that we agree with or applaud the whole content of the green paper', 'however prevention is also important alongside providing the best possible care for those affected', 'i believe that the european union must not stop pointing out the european way to ukraine', 'the diversity that characterises us as europeans has become a decisive factor in the lives of children', 'unfortunately the political will required to harmonise these regulations seems to have been lacking up until now', 'approval of the minutes of the previous sitting see minutes', 'it is a matter of improving the independence of the legal authorities and strengthening the rule of law', 'let us not add further exceptions to those that already exist', 'the support office will as you all know be located in valletta', 'this is a global problem and should be dealt with elsewhere', 'but we are in the right place now', 'i say this entirely without irony', 'nevertheless i would like to thank you for the last six months', 'that is why we must discuss the financing of investments in the developing countries', 'if they were to occur again we would have to finance them from the agricultural budget', 'have you ever played russian roulette', 'we expect the same today', 'the commission has yet to even consider this solution', 'this is a question for the commission and council', 'this is very important', 'madam president when farm women start protesting you know there is a serious difficulty', 'the state of transatlantic relations in the aftermath of the us elections', 'if we do not get this treaty we will have a europe with fewer social rights', 'not all of these initiatives will necessarily lead to the submission of concrete proposals', 'it is the electorate who decides', 'it is something that is included in your press releases', 'we must get our own house in order while pushing others to do the same', 'burma continued detention of political prisoners vote', 'i believe it to be a great step in the right direction', 'my particular gratitude goes to mr demetriou whose previous excellent recommendation provided a starting point for my report', 'for this reason i am in favour of controls but of a different kind', 'at council many member states have also voiced concerns about the proposal', 'in other words the european union is raising these issues in all the forums that it attends', 'the debate is closed', 'peace reigned among the nations of the eastern bloc but it was the peace of the prison courtyard', 'closure of the sitting', 'this platform is called crisis coordination arrangements cca', 'there is also a significant disparity among these areas in individual member states', 'i believe that can only be done if agriculture is to a certain extent re nationalised', 'we must however keep the communication channels to the outside world open', 'the economy cannot take priority over peoples safety', 'in seven years time belarus is planning to build a nuclear power plant quite close to the lithuanian border', 'mr olejniczak however asked a series of questions about inequality in europe', 'that is indecent and it is also an obstacle to all other development', 'we shall see what it does with it', 'it is deplorable but in many states child labour or even slave labour are still used', 'yet there is also hope emanating from the united states', 'it is a very difficult time as we approach the end of the mandate', 'the czech presidency of the council decided 30 minutes ago to accept the outcome negotiated in the trialogue negotiations', 'croatia is nearing the finishing line after four years of intense accession negotiations', 'people have enough to blame the eu for without that ', 'european newspapers including the french magazine le nouvel observateur are also threatened', 'if not the stateless chaos known as somalia will remain', 'it is very important', 'the main challenge involves helping territories to use this asset and exchange good practices', 'the efforts made by all spanish authorities have also been crucial', 'we must therefore continue to stress that violence against women is neither natural nor unavoidable', 'the spectre of global warming', 'i urge that on the three institutions represented here today and on the house', 'as quality rapporteur i greatly cherish this competitive edge that our european products have', 'that is not in the interests of the originator', 'i am very much in favour of establishing a strategic partnership with this major economic player', 'the european union has done excellent work as regards protecting and strengthening consumer rights and health', 'this in turn will reduce costs and lead to lower prices', 'i now move to more specific questions', 'in its proposal parliament invests and increases expenditure substantially compared with 200at the same time we must bear in mind that the eu is in recession', 'we must now return to it', 'the candidates have informed me that they consent to their nomination as candidates', 'the report is a compromise between the council and the european parliament and specifies minimum standards', 'i voted in favour of this report on solvit', 'what is going on in beijing', 'it is also important to encourage the use of trains by investing in the development of rail infrastructure', 'ro 2010 is the european year for combating poverty and social exclusion', 'madam president can i remind you that this would not have happened to mr schulz', 'one thing is therefore certain namely that the basel rules need to be developed further', 'the system of monitoring therefore requires greater supervision', 'the second will be one of ambition', 'however this is a short term measure which will not resolve the problem of disappearing jobs', 'are we also going to agree to that']\n",
      "e_corpus ['date be not fetish', 'result speak for mselves', 'it should mean that everyone be give equal opportunity', 'europe have do very great deal work in this field  which be to be welcome', 'we simply have to build it stage by stage', 'it be issue proportionality', 'we be talk about rights  plurality and freedom', 'that attempt do not succeed  but it do represent precedent for that kind garing', 'this green paper be important  see as it concern matter that need to be deal with', 'mr audy ask follow question be you sample sufficient size', 'it be up to you to consider and choose outcome you want to see', 'what can we expect from china', 'we must pay by give financial support to develop country', 'i will  however  refer you request to conference president which will meet later this afternoon', 'it say that act also comply with international standard and pursue legitimate goal', 'date forthcoming sit see minute', 're need to be particularly close bond between all se link  along with open communication', 'establishment evaluation mechanism be important for all member state', 'we must focus on real solution', 'de madam president  commissioner  lady and gentleman', 'housing situation in eu be critical', 'this be you last speech in parliament  but i expect more decisiveness from you in this house', 'write statement rule 149', 'temptation to use state aid in different situation be re  and we be all aware that', 'u  we take due note you observation  amendment thank you mr', 'however  spain be now follow greece with deficit 11  in gdp', 'president ravalomanana lose support  and he stand down on 17 march 200power be seize by rajoelina  who be designate by army', 'plant protection product be  in fact  medicine for plant', 'in resolution you target question document management and common portal and tran jaus project', 'for this reason  i can not support report put forward', 'this information show fact that european union poss effort concentrate on two area', 'at same time  it have not propose any financing for this strategy', 'however  re be great deal violence in sourn serbium in particular', 'this be time that require solidarity between member state and europe poss institution', 'regional dimension will course be fully take into account in this context', 'we only need harmonisation se area law  and only in clearly define  limit area', 'cohesion policy must be same for both urban and rural area', 'we do not want 1 january for its own sake', 'ec cte d ivoire fishery partnership agreement', 'i would very much welcome if one those top job could go to woman', 'after sign intergovernmental agreement on nabucco  european union must take action', 'this staff work document on cross border e commerce be initiative by my colleague  commissioner meglena kuneva', 'it be refore important that necessary preparation be be continue with rigor', 'it be not my fault if in french it be translate asderegulation', 'that be not only matter concern  commissioner', 'eur 11 million will target almost 1 000 worker in this highly sensitive and hard hit sector', 'we be oppose to non mandatory code conduct and in favor efficient enforcement mechanism', 'applause', 'firstly  issue appointment', 'de madam president  i will go straight to commissioner for clarification', 'commissioner  i have two question for you', 'amendment read as follow in english', 'at start constitutional process rule be that every country have to ratify or it fall', 'if we wish be to become reality  we need to assist and cooperate with croatium', 'we be all anxious to see this', 'this be all about common foreign and security policy', 'unfortunately  that be not case and now he have suffer same fate as he predecessor', 'lady and gentleman  report reach we from haitus be shocking', 'we must approach we own with same sense responsibility and realism', 'european union have major role to play', 'it be immeasurable', 'how and when will it be provide', 'it seem that not only be re no financial clarification  but re be also no political clarification', 'this be especially true its uniform and balanced approach to union poss enlargement policy', 'turn  now  to individual area in more detail', 'everyone essentially agree to principle pay true cost', 'i doubt that', 'this be direct question ask by mr bokro', 'parliament will be inform at early stage staffing change in commission', 'i believe that we should not remain idle on this transit issue', 'madam president  i think three institution have make y viewpoint in this debate very clear', 'choice what to do and what not to do will be in hand individual company', 'citizen  like y politician  want to be able to travel freely', 'colleague have speak about unprecedented flooding that take place in ireland at weekend', 'how do council envisage coordinate european action alleviate burden on patient  y family and y carer', 'it fuel war in cambodium in 1990 and it be enemy democracy', 'budget eur 2 200 000 be allocate to this initiative for 2008 alone', 're be improvement in 2009 in this regard', 'this be democratic procedure end in vote', 'i refore think that reference to romanium and bulgarium be use without take into consideration entire context', 'thank you for listen', 'iran shirin ebadus case', 'indeed  cohesion policy be actually best instrument for mobilise investment in growth and employment', 'commissioner  i look forward to work closely with you in new agreement that be come up', 'moreover  its imperial conception be clearly evident', 'you be speak in free parliament', 'in addition to that  i should like to thank secretariat for its work', 'parliament report regard reception situation appear to be completely ineffective', 'this also strengn fight against climate change', 'i will never forget what i experience  should be about', 'we just need to move', 'we present difference with government iran be many some be very serious', 'se be condition that have lead to crisis for job seeker in europe', 'i submit number amendment to committee  which be deal with relatively benevolently by rapporteur', 'two come year will be difficult', 'abuse power  wherever it might take place  must be condemn', 'its role be to combine individual piece meat toger into single meat product', 'orwise  we will not manage to meet millennium development goal', 'everything be itemise on voting list', 'i be well aware that re have to be 40 member before quorum may be request', 'let we not waste it', 'concern mediterranean  we have object to reductionist approximation that only talk about security', 'i be very aware complexity this issue  mr kelly', 'this be crucial issue for democracy and i think that president parliament should defend it', 'why be this', 'i be sorry that yulium tymoshenko lose election', 'no  y should not have to do so', 'commission should cooperate with parliament and member state  not dictate to y', 'we resolution on future enlargement must reflect prevail opinion in europe', 'deposit guarantee scheme as regard coverage level and payout delay', 'lastly  complaint management must be better organise', 'however  it be not only necessary to make assessment', 'i would like to say few word on legislation we be about to sign today', 'such policy orientation be indeed part integrate policy guideline adopt by european council', 'this be one we top priority', 'third  what be timeframe for relax visa restriction', 'i congratulate president  since he be present at european council meeting', 'it be not unimportant element this debate', 'swedish presidency be seek to speed up capitalist restructuring  within framework lisbon strategy', 'belgian authority have request eur 92 million from fund in this regard', 'for we  patriot ofataka  energy independence for bulgarium be number one priority', 'lt human rights situation in iran be clearly deteriorate', 'to achieve this objective  citizen mselves need to be involve', 'most important task today for eu and its member state be to resolve economic and social problem', 'compliance with flag state requirement', 'transfer appropriation see minute', 'el commissioner  thank you very much for you reply', 'come arm with ambitious project', 'presence today council be first indication that something be change in council as well', 'part two', 'member european parliament be willing and ready to fully contribute to tec process', 'in future  we need fair trade  not merely trade that be  in principle  free', 'however  imagine that you have be one negotiate partner on or side', 'this have be on back burner for long while  and re be reason for that', 'before final vote', 'what be mediterranean diet', 'firstly  assistance for national government with transpose directive', 'neir be it case that presidency wish to unnecessarily restrict insight or debate in any respect', 'it be difficult to have peace without democracy', 'thank you', 'se obstacle  which be due to bureaucratic difficulty and complex  vague procedure  lead to mistake', 'commission be already prepare for such negotiation  which be expect to start within next few month', 'tunisium also rightly take uncompromising approach to islamist jihadus extremism', 'israel have mighty ally outside europe too', 'thank you for you attention', 'everyone can benefit from it', 'he may be aware that we do have some infringement proceedings against some member state in this particular area', 'in nicaragua  we can see warn example that such kind ruler do not change', 'agenda next sit see minute', 'vote will take place on tuesday  18 may 20written statement rule 149', 'i wonder just what report you have read', 'however  we also need to avoid water down power accession process by erect extra obstacle', 'at or time  however  it arrive unobtrusively', 'give child chance in life be important mdg', 'mr van nistelrooij stress that cohesion policy be expression solidarity', 'it also concern bosnium and herzegovina  albanium and kosovo', 'on subject asylum  i support you call for genuine solidarity between member state', 'so do not wait too long', 'i believe we can make this contribution on several front at european level  too', 'subject measure for promotion product and service that help increase energy efficiency and promote renewable energy', 'international community need to be specifically involve once again', 're be wall rise between we and y  wall higher than berlin wall', 'we will give you anor chance', 'let we bring to bear we collective european experience', 'this report be one more step in affirm rights individual and guarantee y security', 'this evaluation be prerequisite for any legislative initiative on matter', 'first be to maintain support measure until recovery have be consolidate', 'be all party able and willing to work for peace', 'text as adopt today in this plenary do not offer sufficient guarantee to this effect', 'if re be any doubt  he statement be re on importance draft treaty lisbon', 'first concern commission poss discharge', 'however  this do not mean that we agree with or applaud whole content green paper', 'however  prevention be also important alongside provide best possible care for those affect', 'i believe that european union must not stop point out european way to ukraine', 'diversity that characterise we as european have become decisive factor in life child', 'unfortunately  political will require to harmonise se regulation seem to have be lack up until now', 'approval minute previous sit see minute', 'it be matter improve independence legal authority and strengn rule law', 'let we not add furr exception to those that already exist', 'support office will  as you all know  be locate in valletta', 'this be global problem and should be deal with elsewhere', 'but we be in right place now', 'i say this entirely without irony', 'neverless  i would like to thank you for last six month', 'that be why we must discuss financing investment in develop country', 'if y be to occur again  we would have to finance y from agricultural budget', 'have you ever play russian roulette', 'we expect same today', 'commission have yet to even consider this solution', 'this be question for commission and council', 'this be very important', 'madam president  when farm woman start protest you know re be serious difficulty', 'state transatlantic relation in aftermath we election', 'if we do not get this treaty  we will have europe with fewer social rights', 'not all se initiative will necessarily lead to submission concrete proposal', 'it be electorate who decide', 'it be something that be include in you press release', 'we must get we own house in order while push or to do same', 'burma continue detention political prisoner vote', 'i believe it to be great step in right direction', 'my particular gratitude go to mr demetriou  whose previous excellent recommendation provide start point for my report', 'for this reason  i be in favor control  but different kind', 'at council many member state have also voice concern about proposal', 'in or word  european union be raise se issue in all forum that it attend', 'debate be close', 'peace reign among nation eastern bloc  but it be peace prison courtyard', 'closure sit', 'this platform be call crisis coordination arrangement cca', 're be also significant disparity among se area in individual member state', 'i believe that can only be do if agriculture be  to certain extent  re nationalise', 'we must  however  keep communication channel to outside world open', 'economy can not take priority over people poss safety', 'in seven year time belarus be plan to build nuclear power plant quite close to lithuanian border', 'mr olejniczak  however  ask series question about inequality in europe', 'that be indecent and it be also obstacle to all or development', 'we shall see what it do with it', 'it be deplorable  but in many state  child labor or even slave labor be still use', 'yet re be also hope emanate from unite state', 'it be very difficult time as we approach end mandate', 'czech presidency council decide 30 minute ago to accept outcome negotiate in trialogue negotiation', 'croatium be near finish line after four year intense accession negotiation', 'people have enough to blame eu for without that', 'european newspaper  include french magazine le nouvel observateur  be also threaten', 'if not  stateless chaos know as somalium will remain', 'it be very important', 'main challenge involve help territory to use this asset and exchange good practice', 'effort make by all spanish authority have also be crucial', 'we must  refore  continue to stress that violence against woman be neir natural nor unavoidable', 'spectre global warm', 'i urge that on three institution represent here today and on house', 'as quality rapporteur  i greatly cherish this competitive edge that we european product have', 'that be not in interest originator', 'i be very much in favor establish strategic partnership with this major economic player', 'european union have do excellent work as regard protect and strengn consumer rights and health', 'this  in turn  will reduce cost and lead to lower price', 'i now move to more specific question', 'in its proposal  parliament invest and increase expenditure substantially compare with 200at same time  we must bear in mind that eu be in recession', 'we must now return to it', 'candidate have inform i that y consent to y nomination as candidate', 'report be compromise between council and european parliament and specify minimum standard', 'i vote in favor this report on solvit', 'what be go on in beij', 'it be also important to encourage use train  by invest in development rail infrastructure', 'ro 2010 be european year for combate poverty and social exclusion', 'madam president  can i remind you that this would not have happen to mr schulz', 'one thing be refore certain  namely that basel rule need to be develop furr', 'system monitor refore require greater supervision', 'second will be one ambition', 'however  this be short term measure which will not resolve problem disappear job', 'be we also go to agree to that']\n"
     ]
    }
   ],
   "source": [
    "f_corpus, e_corpus = utils.load_data(\"../data/small.json\", direction='forward')\n",
    "print('f_corpus', f_corpus)\n",
    "print('e_corpus', e_corpus)"
   ]
  },
  {
   "attachments": {},
   "cell_type": "markdown",
   "metadata": {},
   "source": [
    "## Unigram"
   ]
  },
  {
   "cell_type": "code",
   "execution_count": 5,
   "metadata": {},
   "outputs": [],
   "source": [
    "unigram_lm = lm.Unigram(e_corpus)\n",
    "unigram_lm.preprocess()\n",
    "unigram_lm.train()"
   ]
  },
  {
   "attachments": {},
   "cell_type": "markdown",
   "metadata": {},
   "source": [
    "### Words Probability"
   ]
  },
  {
   "cell_type": "code",
   "execution_count": 6,
   "metadata": {},
   "outputs": [
    {
     "name": "stdout",
     "output_type": "stream",
     "text": [
      "probability 0.03973181028060591\n",
      "log_probability -3.2256031456176273\n"
     ]
    }
   ],
   "source": [
    "probability = unigram_lm.calc_probability('be')\n",
    "print('probability',probability)\n",
    "log_probability = unigram_lm.calc_log_probability('be')\n",
    "print('log_probability',log_probability)"
   ]
  },
  {
   "cell_type": "code",
   "execution_count": 7,
   "metadata": {},
   "outputs": [
    {
     "name": "stdout",
     "output_type": "stream",
     "text": [
      "probability 0.00024832381425378696\n",
      "log_probability -8.300776960851454\n"
     ]
    }
   ],
   "source": [
    "probability = unigram_lm.calc_probability('is')\n",
    "print('probability',probability)\n",
    "log_probability = unigram_lm.calc_log_probability('is')\n",
    "print('log_probability',log_probability)"
   ]
  },
  {
   "attachments": {},
   "cell_type": "markdown",
   "metadata": {},
   "source": [
    "### Sentence Probability"
   ]
  },
  {
   "cell_type": "code",
   "execution_count": 8,
   "metadata": {},
   "outputs": [
    {
     "name": "stdout",
     "output_type": "stream",
     "text": [
      "sentence_probability 4.538150314578992e-13\n",
      "log_sentence_probability -28.421086699583547\n"
     ]
    },
    {
     "data": {
      "text/plain": [
       "-28.421086699583547"
      ]
     },
     "execution_count": 8,
     "metadata": {},
     "output_type": "execute_result"
    }
   ],
   "source": [
    "sentence_probability = unigram_lm.calc_sentence_probability('date be not fetish')\n",
    "print('sentence_probability',sentence_probability)\n",
    "log_sentence_probability = unigram_lm.calc_log_sentence_probability('date be not fetish')\n",
    "print('log_sentence_probability',log_sentence_probability)\n",
    "np.log(sentence_probability)"
   ]
  },
  {
   "cell_type": "code",
   "execution_count": 9,
   "metadata": {},
   "outputs": [
    {
     "name": "stdout",
     "output_type": "stream",
     "text": [
      "sentence_probability 1.477262472193682e-17\n",
      "log_sentence_probability -38.753755886845155\n"
     ]
    },
    {
     "data": {
      "text/plain": [
       "-38.753755886845155"
      ]
     },
     "execution_count": 9,
     "metadata": {},
     "output_type": "execute_result"
    }
   ],
   "source": [
    "sentence_probability = unigram_lm.calc_sentence_probability('Unseen sentence Unseen sentence')\n",
    "print('sentence_probability',sentence_probability)\n",
    "log_sentence_probability = unigram_lm.calc_log_sentence_probability('Unseen sentence Unseen sentence')\n",
    "print('log_sentence_probability',log_sentence_probability)\n",
    "np.log(sentence_probability)"
   ]
  },
  {
   "attachments": {},
   "cell_type": "markdown",
   "metadata": {},
   "source": [
    "### Perplexity"
   ]
  },
  {
   "cell_type": "code",
   "execution_count": 11,
   "metadata": {},
   "outputs": [
    {
     "name": "stdout",
     "output_type": "stream",
     "text": [
      "Perplexity: 10.024357553087649\n"
     ]
    }
   ],
   "source": [
    "training_corpus = [\"The quick brown fox jumps over the lazy dog\", \"The quick brown fox jumps over the lazy dog\"]\n",
    "test_corpus = [\"The lazy brown dog jumps over the quick fox\"]\n",
    "\n",
    "model = lm.Unigram(training_corpus)\n",
    "model.preprocess()\n",
    "model.train()\n",
    "\n",
    "perplexity = model.perplexity(test_corpus)\n",
    "print(\"Perplexity:\", perplexity)"
   ]
  },
  {
   "attachments": {},
   "cell_type": "markdown",
   "metadata": {},
   "source": [
    "## Bigram"
   ]
  },
  {
   "cell_type": "code",
   "execution_count": 12,
   "metadata": {},
   "outputs": [],
   "source": [
    "bigram_lm = lm.Bigram(e_corpus)\n",
    "bigram_lm.preprocess()\n",
    "bigram_lm.train()"
   ]
  },
  {
   "attachments": {},
   "cell_type": "markdown",
   "metadata": {},
   "source": [
    "### Words Probability"
   ]
  },
  {
   "cell_type": "code",
   "execution_count": 13,
   "metadata": {},
   "outputs": [
    {
     "name": "stdout",
     "output_type": "stream",
     "text": [
      "probability 0.0010626992561105207\n",
      "log_probability -6.846943139585379\n"
     ]
    }
   ],
   "source": [
    "probability = bigram_lm.calc_probability('name','is')\n",
    "print('probability',probability)\n",
    "log_probability = bigram_lm.calc_log_probability('name','is')\n",
    "print('log_probability',log_probability)"
   ]
  },
  {
   "cell_type": "code",
   "execution_count": 14,
   "metadata": {},
   "outputs": [
    {
     "name": "stdout",
     "output_type": "stream",
     "text": [
      "probability 0.0010626992561105207\n",
      "log_probability -6.846943139585379\n"
     ]
    }
   ],
   "source": [
    "probability = bigram_lm.calc_probability('unseen','unseen')\n",
    "print('probability',probability)\n",
    "log_probability = bigram_lm.calc_log_probability('unseen','unseen')\n",
    "print('log_probability',log_probability)"
   ]
  },
  {
   "attachments": {},
   "cell_type": "markdown",
   "metadata": {},
   "source": [
    "### Sentence Probability"
   ]
  },
  {
   "cell_type": "code",
   "execution_count": 15,
   "metadata": {},
   "outputs": [
    {
     "name": "stdout",
     "output_type": "stream",
     "text": [
      "sentence_probability 2.1326400234417184e-15\n",
      "log_sentence_probability -33.78141573504523\n"
     ]
    },
    {
     "data": {
      "text/plain": [
       "-33.781415735045236"
      ]
     },
     "execution_count": 15,
     "metadata": {},
     "output_type": "execute_result"
    }
   ],
   "source": [
    "sentence_probability = bigram_lm.calc_sentence_probability('My name is John')\n",
    "print('sentence_probability',sentence_probability)\n",
    "log_sentence_probability = bigram_lm.calc_log_sentence_probability('My name is John')\n",
    "print('log_sentence_probability',log_sentence_probability)\n",
    "np.log(sentence_probability)"
   ]
  },
  {
   "cell_type": "code",
   "execution_count": 16,
   "metadata": {},
   "outputs": [
    {
     "name": "stdout",
     "output_type": "stream",
     "text": [
      "sentence_probability 1.0708527216537851e-15\n",
      "log_sentence_probability -34.47032112769681\n"
     ]
    },
    {
     "data": {
      "text/plain": [
       "-34.47032112769682"
      ]
     },
     "execution_count": 16,
     "metadata": {},
     "output_type": "execute_result"
    }
   ],
   "source": [
    "sentence_probability = bigram_lm.calc_sentence_probability('Unseen sentence Unseen sentence')\n",
    "print('sentence_probability',sentence_probability)\n",
    "log_sentence_probability = bigram_lm.calc_log_sentence_probability('Unseen sentence Unseen sentence')\n",
    "print('log_sentence_probability',log_sentence_probability)\n",
    "np.log(sentence_probability)"
   ]
  },
  {
   "attachments": {},
   "cell_type": "markdown",
   "metadata": {},
   "source": [
    "### Perplexity"
   ]
  },
  {
   "cell_type": "code",
   "execution_count": 17,
   "metadata": {},
   "outputs": [
    {
     "name": "stdout",
     "output_type": "stream",
     "text": [
      "Perplexity: 7.723467195920273\n"
     ]
    }
   ],
   "source": [
    "training_corpus = [\"The quick brown fox jumps over the lazy dog\", \"The quick brown fox jumps over the lazy dog\"]\n",
    "test_corpus = [\"The lazy brown dog jumps over the quick fox\"]\n",
    "\n",
    "model = lm.Bigram(training_corpus)\n",
    "model.preprocess()\n",
    "model.train()\n",
    "\n",
    "perplexity = model.perplexity(test_corpus)\n",
    "print(\"Perplexity:\", perplexity)"
   ]
  },
  {
   "attachments": {},
   "cell_type": "markdown",
   "metadata": {},
   "source": [
    "## Trigram"
   ]
  },
  {
   "cell_type": "code",
   "execution_count": 18,
   "metadata": {},
   "outputs": [
    {
     "ename": "MemoryError",
     "evalue": "Unable to allocate 3.10 GiB for an array with shape (885481, 941) and data type int32",
     "output_type": "error",
     "traceback": [
      "\u001b[1;31m---------------------------------------------------------------------------\u001b[0m",
      "\u001b[1;31mMemoryError\u001b[0m                               Traceback (most recent call last)",
      "Cell \u001b[1;32mIn[18], line 2\u001b[0m\n\u001b[0;32m      1\u001b[0m trigram_lm \u001b[39m=\u001b[39m lm\u001b[39m.\u001b[39mTrigram(e_corpus)\n\u001b[1;32m----> 2\u001b[0m trigram_lm\u001b[39m.\u001b[39;49mpreprocess()\n\u001b[0;32m      3\u001b[0m trigram_lm\u001b[39m.\u001b[39mtrain()\n",
      "File \u001b[1;32me:\\College\\Fourth Year\\GP\\Code\\SMT\\Integration\\LM\\lm.py:249\u001b[0m, in \u001b[0;36mTrigram.preprocess\u001b[1;34m(self, min_freq)\u001b[0m\n\u001b[0;32m    247\u001b[0m \u001b[39mself\u001b[39m\u001b[39m.\u001b[39mindex_to_pair \u001b[39m=\u001b[39m {i: pair \u001b[39mfor\u001b[39;00m i, pair \u001b[39min\u001b[39;00m \u001b[39menumerate\u001b[39m(vocab_pairs)}\n\u001b[0;32m    248\u001b[0m \u001b[39mself\u001b[39m\u001b[39m.\u001b[39mpair_to_index \u001b[39m=\u001b[39m {pair: i \u001b[39mfor\u001b[39;00m i, pair \u001b[39min\u001b[39;00m \u001b[39mself\u001b[39m\u001b[39m.\u001b[39mindex_to_pair\u001b[39m.\u001b[39mitems()}\n\u001b[1;32m--> 249\u001b[0m \u001b[39mself\u001b[39m\u001b[39m.\u001b[39mcounts \u001b[39m=\u001b[39m np\u001b[39m.\u001b[39;49mzeros((\u001b[39mself\u001b[39;49m\u001b[39m.\u001b[39;49mvocabs_length \u001b[39m*\u001b[39;49m \u001b[39mself\u001b[39;49m\u001b[39m.\u001b[39;49mvocabs_length, \u001b[39mself\u001b[39;49m\u001b[39m.\u001b[39;49mvocabs_length), dtype\u001b[39m=\u001b[39;49m\u001b[39mint\u001b[39;49m)\n",
      "\u001b[1;31mMemoryError\u001b[0m: Unable to allocate 3.10 GiB for an array with shape (885481, 941) and data type int32"
     ]
    }
   ],
   "source": [
    "trigram_lm = lm.Trigram(e_corpus)\n",
    "trigram_lm.preprocess()\n",
    "trigram_lm.train()"
   ]
  },
  {
   "attachments": {},
   "cell_type": "markdown",
   "metadata": {},
   "source": [
    "### Words Probability"
   ]
  },
  {
   "cell_type": "code",
   "execution_count": null,
   "metadata": {},
   "outputs": [
    {
     "name": "stdout",
     "output_type": "stream",
     "text": [
      "probability 0.001996007984031936\n",
      "log_probability -6.2166061010848646\n"
     ]
    }
   ],
   "source": [
    "probability = trigram_lm.calc_probability('name','is','john')\n",
    "print('probability',probability)\n",
    "log_probability = trigram_lm.calc_log_probability('name','is','john')\n",
    "print('log_probability',log_probability)"
   ]
  },
  {
   "cell_type": "code",
   "execution_count": 19,
   "metadata": {},
   "outputs": [
    {
     "ename": "AttributeError",
     "evalue": "'Trigram' object has no attribute 'counts'",
     "output_type": "error",
     "traceback": [
      "\u001b[1;31m---------------------------------------------------------------------------\u001b[0m",
      "\u001b[1;31mAttributeError\u001b[0m                            Traceback (most recent call last)",
      "Cell \u001b[1;32mIn[19], line 1\u001b[0m\n\u001b[1;32m----> 1\u001b[0m probability \u001b[39m=\u001b[39m trigram_lm\u001b[39m.\u001b[39;49mcalc_probability(\u001b[39m'\u001b[39;49m\u001b[39munseen\u001b[39;49m\u001b[39m'\u001b[39;49m,\u001b[39m'\u001b[39;49m\u001b[39munseen\u001b[39;49m\u001b[39m'\u001b[39;49m,\u001b[39m'\u001b[39;49m\u001b[39munseen\u001b[39;49m\u001b[39m'\u001b[39;49m)\n\u001b[0;32m      2\u001b[0m \u001b[39mprint\u001b[39m(\u001b[39m'\u001b[39m\u001b[39mprobability\u001b[39m\u001b[39m'\u001b[39m,probability)\n\u001b[0;32m      3\u001b[0m log_probability \u001b[39m=\u001b[39m trigram_lm\u001b[39m.\u001b[39mcalc_log_probability(\u001b[39m'\u001b[39m\u001b[39munseen\u001b[39m\u001b[39m'\u001b[39m,\u001b[39m'\u001b[39m\u001b[39munseen\u001b[39m\u001b[39m'\u001b[39m,\u001b[39m'\u001b[39m\u001b[39munseen\u001b[39m\u001b[39m'\u001b[39m)\n",
      "File \u001b[1;32me:\\College\\Fourth Year\\GP\\Code\\SMT\\Integration\\LM\\lm.py:285\u001b[0m, in \u001b[0;36mTrigram.calc_probability\u001b[1;34m(self, word1, word2, word3, k)\u001b[0m\n\u001b[0;32m    283\u001b[0m     \u001b[39mreturn\u001b[39;00m (\u001b[39mself\u001b[39m\u001b[39m.\u001b[39mcounts[\u001b[39mself\u001b[39m\u001b[39m.\u001b[39mpair_to_index[(\u001b[39m\"\u001b[39m\u001b[39m<unk>\u001b[39m\u001b[39m\"\u001b[39m, \u001b[39m\"\u001b[39m\u001b[39m<unk>\u001b[39m\u001b[39m\"\u001b[39m)], \u001b[39mself\u001b[39m\u001b[39m.\u001b[39mword_to_index[word3]] \u001b[39m+\u001b[39m k) \u001b[39m/\u001b[39m (np\u001b[39m.\u001b[39msum(\u001b[39mself\u001b[39m\u001b[39m.\u001b[39mcounts[\u001b[39mself\u001b[39m\u001b[39m.\u001b[39mpair_to_index[(\u001b[39m\"\u001b[39m\u001b[39m<unk>\u001b[39m\u001b[39m\"\u001b[39m, \u001b[39m\"\u001b[39m\u001b[39m<unk>\u001b[39m\u001b[39m\"\u001b[39m)], :]) \u001b[39m+\u001b[39m k\u001b[39m*\u001b[39m\u001b[39mself\u001b[39m\u001b[39m.\u001b[39mvocabs_length)\n\u001b[0;32m    284\u001b[0m \u001b[39melse\u001b[39;00m:\n\u001b[1;32m--> 285\u001b[0m     \u001b[39mreturn\u001b[39;00m (\u001b[39mself\u001b[39;49m\u001b[39m.\u001b[39;49mcounts[\u001b[39mself\u001b[39m\u001b[39m.\u001b[39mpair_to_index[(\u001b[39m\"\u001b[39m\u001b[39m<unk>\u001b[39m\u001b[39m\"\u001b[39m, \u001b[39m\"\u001b[39m\u001b[39m<unk>\u001b[39m\u001b[39m\"\u001b[39m)], \u001b[39mself\u001b[39m\u001b[39m.\u001b[39mword_to_index[\u001b[39m\"\u001b[39m\u001b[39m<unk>\u001b[39m\u001b[39m\"\u001b[39m]] \u001b[39m+\u001b[39m k) \u001b[39m/\u001b[39m (np\u001b[39m.\u001b[39msum(\u001b[39mself\u001b[39m\u001b[39m.\u001b[39mcounts[\u001b[39mself\u001b[39m\u001b[39m.\u001b[39mpair_to_index[(\u001b[39m\"\u001b[39m\u001b[39m<unk>\u001b[39m\u001b[39m\"\u001b[39m, \u001b[39m\"\u001b[39m\u001b[39m<unk>\u001b[39m\u001b[39m\"\u001b[39m)], :]) \u001b[39m+\u001b[39m k\u001b[39m*\u001b[39m\u001b[39mself\u001b[39m\u001b[39m.\u001b[39mvocabs_length)\n",
      "\u001b[1;31mAttributeError\u001b[0m: 'Trigram' object has no attribute 'counts'"
     ]
    }
   ],
   "source": [
    "probability = trigram_lm.calc_probability('unseen','unseen','unseen')\n",
    "print('probability',probability)\n",
    "log_probability = trigram_lm.calc_log_probability('unseen','unseen','unseen')\n",
    "print('log_probability',log_probability)"
   ]
  },
  {
   "attachments": {},
   "cell_type": "markdown",
   "metadata": {},
   "source": [
    "### Sentence Probability"
   ]
  },
  {
   "cell_type": "code",
   "execution_count": 20,
   "metadata": {},
   "outputs": [
    {
     "ename": "AttributeError",
     "evalue": "'Trigram' object has no attribute 'counts'",
     "output_type": "error",
     "traceback": [
      "\u001b[1;31m---------------------------------------------------------------------------\u001b[0m",
      "\u001b[1;31mAttributeError\u001b[0m                            Traceback (most recent call last)",
      "Cell \u001b[1;32mIn[20], line 1\u001b[0m\n\u001b[1;32m----> 1\u001b[0m sentence_probability \u001b[39m=\u001b[39m trigram_lm\u001b[39m.\u001b[39;49mcalc_sentence_probability(\u001b[39m'\u001b[39;49m\u001b[39mMy name is John\u001b[39;49m\u001b[39m'\u001b[39;49m)\n\u001b[0;32m      2\u001b[0m \u001b[39mprint\u001b[39m(\u001b[39m'\u001b[39m\u001b[39msentence_probability\u001b[39m\u001b[39m'\u001b[39m,sentence_probability)\n\u001b[0;32m      3\u001b[0m log_sentence_probability \u001b[39m=\u001b[39m trigram_lm\u001b[39m.\u001b[39mcalc_log_sentence_probability(\u001b[39m'\u001b[39m\u001b[39mMy name is John\u001b[39m\u001b[39m'\u001b[39m)\n",
      "File \u001b[1;32me:\\College\\Fourth Year\\GP\\Code\\SMT\\Integration\\LM\\lm.py:297\u001b[0m, in \u001b[0;36mTrigram.calc_sentence_probability\u001b[1;34m(self, sentence)\u001b[0m\n\u001b[0;32m    295\u001b[0m probability \u001b[39m=\u001b[39m \u001b[39m1\u001b[39m\n\u001b[0;32m    296\u001b[0m \u001b[39mfor\u001b[39;00m i \u001b[39min\u001b[39;00m \u001b[39mrange\u001b[39m(\u001b[39m2\u001b[39m, \u001b[39mlen\u001b[39m(sentence)):\n\u001b[1;32m--> 297\u001b[0m     probability \u001b[39m*\u001b[39m\u001b[39m=\u001b[39m \u001b[39mself\u001b[39;49m\u001b[39m.\u001b[39;49mcalc_probability(sentence[i\u001b[39m-\u001b[39;49m\u001b[39m2\u001b[39;49m], sentence[i\u001b[39m-\u001b[39;49m\u001b[39m1\u001b[39;49m], sentence[i])       \n\u001b[0;32m    298\u001b[0m \u001b[39mreturn\u001b[39;00m probability\n",
      "File \u001b[1;32me:\\College\\Fourth Year\\GP\\Code\\SMT\\Integration\\LM\\lm.py:281\u001b[0m, in \u001b[0;36mTrigram.calc_probability\u001b[1;34m(self, word1, word2, word3, k)\u001b[0m\n\u001b[0;32m    279\u001b[0m     \u001b[39mreturn\u001b[39;00m (\u001b[39mself\u001b[39m\u001b[39m.\u001b[39mcounts[\u001b[39mself\u001b[39m\u001b[39m.\u001b[39mpair_to_index[(word1, word2)], \u001b[39mself\u001b[39m\u001b[39m.\u001b[39mword_to_index[word3]] \u001b[39m+\u001b[39m k) \u001b[39m/\u001b[39m (np\u001b[39m.\u001b[39msum(\u001b[39mself\u001b[39m\u001b[39m.\u001b[39mcounts[\u001b[39mself\u001b[39m\u001b[39m.\u001b[39mpair_to_index[(word1, word2)], :]) \u001b[39m+\u001b[39m k\u001b[39m*\u001b[39m\u001b[39mself\u001b[39m\u001b[39m.\u001b[39mvocabs_length)\n\u001b[0;32m    280\u001b[0m \u001b[39melif\u001b[39;00m (word1, word2) \u001b[39min\u001b[39;00m \u001b[39mself\u001b[39m\u001b[39m.\u001b[39mpair_to_index \u001b[39mand\u001b[39;00m word3 \u001b[39mnot\u001b[39;00m \u001b[39min\u001b[39;00m \u001b[39mself\u001b[39m\u001b[39m.\u001b[39mvocabs:\n\u001b[1;32m--> 281\u001b[0m     \u001b[39mreturn\u001b[39;00m (\u001b[39mself\u001b[39;49m\u001b[39m.\u001b[39;49mcounts[\u001b[39mself\u001b[39m\u001b[39m.\u001b[39mpair_to_index[(word1, word2)], \u001b[39mself\u001b[39m\u001b[39m.\u001b[39mword_to_index[\u001b[39m\"\u001b[39m\u001b[39m<unk>\u001b[39m\u001b[39m\"\u001b[39m]] \u001b[39m+\u001b[39m k) \u001b[39m/\u001b[39m (np\u001b[39m.\u001b[39msum(\u001b[39mself\u001b[39m\u001b[39m.\u001b[39mcounts[\u001b[39mself\u001b[39m\u001b[39m.\u001b[39mpair_to_index[(word1, word2)], :]) \u001b[39m+\u001b[39m k\u001b[39m*\u001b[39m\u001b[39mself\u001b[39m\u001b[39m.\u001b[39mvocabs_length)\n\u001b[0;32m    282\u001b[0m \u001b[39melif\u001b[39;00m (word1, word2) \u001b[39mnot\u001b[39;00m \u001b[39min\u001b[39;00m \u001b[39mself\u001b[39m\u001b[39m.\u001b[39mpair_to_index \u001b[39mand\u001b[39;00m word3 \u001b[39min\u001b[39;00m \u001b[39mself\u001b[39m\u001b[39m.\u001b[39mvocabs:\n\u001b[0;32m    283\u001b[0m     \u001b[39mreturn\u001b[39;00m (\u001b[39mself\u001b[39m\u001b[39m.\u001b[39mcounts[\u001b[39mself\u001b[39m\u001b[39m.\u001b[39mpair_to_index[(\u001b[39m\"\u001b[39m\u001b[39m<unk>\u001b[39m\u001b[39m\"\u001b[39m, \u001b[39m\"\u001b[39m\u001b[39m<unk>\u001b[39m\u001b[39m\"\u001b[39m)], \u001b[39mself\u001b[39m\u001b[39m.\u001b[39mword_to_index[word3]] \u001b[39m+\u001b[39m k) \u001b[39m/\u001b[39m (np\u001b[39m.\u001b[39msum(\u001b[39mself\u001b[39m\u001b[39m.\u001b[39mcounts[\u001b[39mself\u001b[39m\u001b[39m.\u001b[39mpair_to_index[(\u001b[39m\"\u001b[39m\u001b[39m<unk>\u001b[39m\u001b[39m\"\u001b[39m, \u001b[39m\"\u001b[39m\u001b[39m<unk>\u001b[39m\u001b[39m\"\u001b[39m)], :]) \u001b[39m+\u001b[39m k\u001b[39m*\u001b[39m\u001b[39mself\u001b[39m\u001b[39m.\u001b[39mvocabs_length)\n",
      "\u001b[1;31mAttributeError\u001b[0m: 'Trigram' object has no attribute 'counts'"
     ]
    }
   ],
   "source": [
    "sentence_probability = trigram_lm.calc_sentence_probability('My name is John')\n",
    "print('sentence_probability',sentence_probability)\n",
    "log_sentence_probability = trigram_lm.calc_log_sentence_probability('My name is John')\n",
    "print('log_sentence_probability',log_sentence_probability)\n",
    "np.log(sentence_probability)"
   ]
  },
  {
   "cell_type": "code",
   "execution_count": 21,
   "metadata": {},
   "outputs": [
    {
     "ename": "AttributeError",
     "evalue": "'Trigram' object has no attribute 'counts'",
     "output_type": "error",
     "traceback": [
      "\u001b[1;31m---------------------------------------------------------------------------\u001b[0m",
      "\u001b[1;31mAttributeError\u001b[0m                            Traceback (most recent call last)",
      "Cell \u001b[1;32mIn[21], line 1\u001b[0m\n\u001b[1;32m----> 1\u001b[0m sentence_probability \u001b[39m=\u001b[39m trigram_lm\u001b[39m.\u001b[39;49mcalc_sentence_probability(\u001b[39m'\u001b[39;49m\u001b[39mUnseen sentence Unseen sentence\u001b[39;49m\u001b[39m'\u001b[39;49m)\n\u001b[0;32m      2\u001b[0m \u001b[39mprint\u001b[39m(\u001b[39m'\u001b[39m\u001b[39msentence_probability\u001b[39m\u001b[39m'\u001b[39m,sentence_probability)\n\u001b[0;32m      3\u001b[0m log_sentence_probability \u001b[39m=\u001b[39m trigram_lm\u001b[39m.\u001b[39mcalc_log_sentence_probability(\u001b[39m'\u001b[39m\u001b[39mUnseen sentence Unseen sentence\u001b[39m\u001b[39m'\u001b[39m)\n",
      "File \u001b[1;32me:\\College\\Fourth Year\\GP\\Code\\SMT\\Integration\\LM\\lm.py:297\u001b[0m, in \u001b[0;36mTrigram.calc_sentence_probability\u001b[1;34m(self, sentence)\u001b[0m\n\u001b[0;32m    295\u001b[0m probability \u001b[39m=\u001b[39m \u001b[39m1\u001b[39m\n\u001b[0;32m    296\u001b[0m \u001b[39mfor\u001b[39;00m i \u001b[39min\u001b[39;00m \u001b[39mrange\u001b[39m(\u001b[39m2\u001b[39m, \u001b[39mlen\u001b[39m(sentence)):\n\u001b[1;32m--> 297\u001b[0m     probability \u001b[39m*\u001b[39m\u001b[39m=\u001b[39m \u001b[39mself\u001b[39;49m\u001b[39m.\u001b[39;49mcalc_probability(sentence[i\u001b[39m-\u001b[39;49m\u001b[39m2\u001b[39;49m], sentence[i\u001b[39m-\u001b[39;49m\u001b[39m1\u001b[39;49m], sentence[i])       \n\u001b[0;32m    298\u001b[0m \u001b[39mreturn\u001b[39;00m probability\n",
      "File \u001b[1;32me:\\College\\Fourth Year\\GP\\Code\\SMT\\Integration\\LM\\lm.py:285\u001b[0m, in \u001b[0;36mTrigram.calc_probability\u001b[1;34m(self, word1, word2, word3, k)\u001b[0m\n\u001b[0;32m    283\u001b[0m     \u001b[39mreturn\u001b[39;00m (\u001b[39mself\u001b[39m\u001b[39m.\u001b[39mcounts[\u001b[39mself\u001b[39m\u001b[39m.\u001b[39mpair_to_index[(\u001b[39m\"\u001b[39m\u001b[39m<unk>\u001b[39m\u001b[39m\"\u001b[39m, \u001b[39m\"\u001b[39m\u001b[39m<unk>\u001b[39m\u001b[39m\"\u001b[39m)], \u001b[39mself\u001b[39m\u001b[39m.\u001b[39mword_to_index[word3]] \u001b[39m+\u001b[39m k) \u001b[39m/\u001b[39m (np\u001b[39m.\u001b[39msum(\u001b[39mself\u001b[39m\u001b[39m.\u001b[39mcounts[\u001b[39mself\u001b[39m\u001b[39m.\u001b[39mpair_to_index[(\u001b[39m\"\u001b[39m\u001b[39m<unk>\u001b[39m\u001b[39m\"\u001b[39m, \u001b[39m\"\u001b[39m\u001b[39m<unk>\u001b[39m\u001b[39m\"\u001b[39m)], :]) \u001b[39m+\u001b[39m k\u001b[39m*\u001b[39m\u001b[39mself\u001b[39m\u001b[39m.\u001b[39mvocabs_length)\n\u001b[0;32m    284\u001b[0m \u001b[39melse\u001b[39;00m:\n\u001b[1;32m--> 285\u001b[0m     \u001b[39mreturn\u001b[39;00m (\u001b[39mself\u001b[39;49m\u001b[39m.\u001b[39;49mcounts[\u001b[39mself\u001b[39m\u001b[39m.\u001b[39mpair_to_index[(\u001b[39m\"\u001b[39m\u001b[39m<unk>\u001b[39m\u001b[39m\"\u001b[39m, \u001b[39m\"\u001b[39m\u001b[39m<unk>\u001b[39m\u001b[39m\"\u001b[39m)], \u001b[39mself\u001b[39m\u001b[39m.\u001b[39mword_to_index[\u001b[39m\"\u001b[39m\u001b[39m<unk>\u001b[39m\u001b[39m\"\u001b[39m]] \u001b[39m+\u001b[39m k) \u001b[39m/\u001b[39m (np\u001b[39m.\u001b[39msum(\u001b[39mself\u001b[39m\u001b[39m.\u001b[39mcounts[\u001b[39mself\u001b[39m\u001b[39m.\u001b[39mpair_to_index[(\u001b[39m\"\u001b[39m\u001b[39m<unk>\u001b[39m\u001b[39m\"\u001b[39m, \u001b[39m\"\u001b[39m\u001b[39m<unk>\u001b[39m\u001b[39m\"\u001b[39m)], :]) \u001b[39m+\u001b[39m k\u001b[39m*\u001b[39m\u001b[39mself\u001b[39m\u001b[39m.\u001b[39mvocabs_length)\n",
      "\u001b[1;31mAttributeError\u001b[0m: 'Trigram' object has no attribute 'counts'"
     ]
    }
   ],
   "source": [
    "sentence_probability = trigram_lm.calc_sentence_probability('Unseen sentence Unseen sentence')\n",
    "print('sentence_probability',sentence_probability)\n",
    "log_sentence_probability = trigram_lm.calc_log_sentence_probability('Unseen sentence Unseen sentence')\n",
    "print('log_sentence_probability',log_sentence_probability)\n",
    "np.log(sentence_probability)"
   ]
  },
  {
   "attachments": {},
   "cell_type": "markdown",
   "metadata": {},
   "source": [
    "### Perplexity"
   ]
  },
  {
   "cell_type": "code",
   "execution_count": 22,
   "metadata": {},
   "outputs": [
    {
     "name": "stdout",
     "output_type": "stream",
     "text": [
      "Perplexity: 10.68280100505348\n"
     ]
    }
   ],
   "source": [
    "training_corpus = [\"The quick brown fox jumps over the lazy dog\", \"The quick brown fox jumps over the lazy dog\"]\n",
    "test_corpus = [\"The lazy brown dog jumps over the quick fox\"]\n",
    "\n",
    "model = lm.Trigram(training_corpus)\n",
    "model.preprocess()\n",
    "model.train()\n",
    "\n",
    "perplexity = model.perplexity(test_corpus)\n",
    "print(\"Perplexity:\", perplexity)"
   ]
  },
  {
   "attachments": {},
   "cell_type": "markdown",
   "metadata": {},
   "source": [
    "##  Interpolation"
   ]
  },
  {
   "cell_type": "code",
   "execution_count": 23,
   "metadata": {},
   "outputs": [
    {
     "ename": "MemoryError",
     "evalue": "Unable to allocate 3.10 GiB for an array with shape (885481, 941) and data type int32",
     "output_type": "error",
     "traceback": [
      "\u001b[1;31m---------------------------------------------------------------------------\u001b[0m",
      "\u001b[1;31mMemoryError\u001b[0m                               Traceback (most recent call last)",
      "Cell \u001b[1;32mIn[23], line 2\u001b[0m\n\u001b[0;32m      1\u001b[0m ilm \u001b[39m=\u001b[39m lm\u001b[39m.\u001b[39mLM(e_corpus)\n\u001b[1;32m----> 2\u001b[0m ilm\u001b[39m.\u001b[39;49mpreprocess()\n\u001b[0;32m      3\u001b[0m ilm\u001b[39m.\u001b[39mtrain()\n",
      "File \u001b[1;32me:\\College\\Fourth Year\\GP\\Code\\SMT\\Integration\\LM\\lm.py:350\u001b[0m, in \u001b[0;36mLM.preprocess\u001b[1;34m(self, min_freq)\u001b[0m\n\u001b[0;32m    348\u001b[0m \u001b[39mself\u001b[39m\u001b[39m.\u001b[39munigram_lm\u001b[39m.\u001b[39mpreprocess(min_freq)\n\u001b[0;32m    349\u001b[0m \u001b[39mself\u001b[39m\u001b[39m.\u001b[39mbigram_lm\u001b[39m.\u001b[39mpreprocess(min_freq)\n\u001b[1;32m--> 350\u001b[0m \u001b[39mself\u001b[39;49m\u001b[39m.\u001b[39;49mtrigram_lm\u001b[39m.\u001b[39;49mpreprocess(min_freq)\n",
      "File \u001b[1;32me:\\College\\Fourth Year\\GP\\Code\\SMT\\Integration\\LM\\lm.py:249\u001b[0m, in \u001b[0;36mTrigram.preprocess\u001b[1;34m(self, min_freq)\u001b[0m\n\u001b[0;32m    247\u001b[0m \u001b[39mself\u001b[39m\u001b[39m.\u001b[39mindex_to_pair \u001b[39m=\u001b[39m {i: pair \u001b[39mfor\u001b[39;00m i, pair \u001b[39min\u001b[39;00m \u001b[39menumerate\u001b[39m(vocab_pairs)}\n\u001b[0;32m    248\u001b[0m \u001b[39mself\u001b[39m\u001b[39m.\u001b[39mpair_to_index \u001b[39m=\u001b[39m {pair: i \u001b[39mfor\u001b[39;00m i, pair \u001b[39min\u001b[39;00m \u001b[39mself\u001b[39m\u001b[39m.\u001b[39mindex_to_pair\u001b[39m.\u001b[39mitems()}\n\u001b[1;32m--> 249\u001b[0m \u001b[39mself\u001b[39m\u001b[39m.\u001b[39mcounts \u001b[39m=\u001b[39m np\u001b[39m.\u001b[39;49mzeros((\u001b[39mself\u001b[39;49m\u001b[39m.\u001b[39;49mvocabs_length \u001b[39m*\u001b[39;49m \u001b[39mself\u001b[39;49m\u001b[39m.\u001b[39;49mvocabs_length, \u001b[39mself\u001b[39;49m\u001b[39m.\u001b[39;49mvocabs_length), dtype\u001b[39m=\u001b[39;49m\u001b[39mint\u001b[39;49m)\n",
      "\u001b[1;31mMemoryError\u001b[0m: Unable to allocate 3.10 GiB for an array with shape (885481, 941) and data type int32"
     ]
    }
   ],
   "source": [
    "ilm = lm.LM(e_corpus)\n",
    "ilm.preprocess()\n",
    "ilm.train()"
   ]
  },
  {
   "cell_type": "code",
   "execution_count": null,
   "metadata": {},
   "outputs": [
    {
     "name": "stdout",
     "output_type": "stream",
     "text": [
      "sentence_probability 6.298202577184618e-11\n",
      "log_sentence_probability -23.488171735453083\n"
     ]
    },
    {
     "data": {
      "text/plain": [
       "-23.48817173545308"
      ]
     },
     "execution_count": 38,
     "metadata": {},
     "output_type": "execute_result"
    }
   ],
   "source": [
    "sentence_probability = ilm.calc_sentence_probability('My name is John')\n",
    "print('sentence_probability', sentence_probability)\n",
    "log_sentence_probability = ilm.calc_log_sentence_probability('My name is John')\n",
    "print('log_sentence_probability', log_sentence_probability)\n",
    "np.log(sentence_probability)"
   ]
  },
  {
   "cell_type": "code",
   "execution_count": null,
   "metadata": {},
   "outputs": [
    {
     "name": "stdout",
     "output_type": "stream",
     "text": [
      "sentence_probability 6.3099071073871e-11\n",
      "log_sentence_probability -23.486315067981486\n"
     ]
    },
    {
     "data": {
      "text/plain": [
       "-23.486315067981486"
      ]
     },
     "execution_count": 39,
     "metadata": {},
     "output_type": "execute_result"
    }
   ],
   "source": [
    "sentence_probability = ilm.calc_sentence_probability('Unseen sentence Unseen sentence')\n",
    "print('sentence_probability',sentence_probability)\n",
    "log_sentence_probability = ilm.calc_log_sentence_probability('Unseen sentence Unseen sentence')\n",
    "print('log_sentence_probability',log_sentence_probability)\n",
    "np.log(sentence_probability)"
   ]
  },
  {
   "attachments": {},
   "cell_type": "markdown",
   "metadata": {},
   "source": [
    "## Saving the Models"
   ]
  },
  {
   "cell_type": "code",
   "execution_count": 25,
   "metadata": {},
   "outputs": [],
   "source": [
    "# # save the language models\n",
    "# utils.save_model(unigram_lm, \"models/unigram_model.pkl\")\n",
    "# utils.save_model(bigram_lm, \"models/bigram_model.pkl\")\n",
    "# utils.save_model(trigram_lm, \"models/trigram_model.pkl\")"
   ]
  }
 ],
 "metadata": {
  "kernelspec": {
   "display_name": "base",
   "language": "python",
   "name": "python3"
  },
  "language_info": {
   "codemirror_mode": {
    "name": "ipython",
    "version": 3
   },
   "file_extension": ".py",
   "mimetype": "text/x-python",
   "name": "python",
   "nbconvert_exporter": "python",
   "pygments_lexer": "ipython3",
   "version": "3.10.0"
  },
  "orig_nbformat": 4
 },
 "nbformat": 4,
 "nbformat_minor": 2
}
