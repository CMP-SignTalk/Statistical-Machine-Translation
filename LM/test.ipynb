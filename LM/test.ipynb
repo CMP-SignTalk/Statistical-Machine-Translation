{
 "cells": [
  {
   "attachments": {},
   "cell_type": "markdown",
   "metadata": {},
   "source": [
    "# Testing the LM classes"
   ]
  },
  {
   "attachments": {},
   "cell_type": "markdown",
   "metadata": {},
   "source": [
    "### TODO\n",
    "- Handle the unseen and unkown problems. Done\n",
    "- Vocabs can be derived from the training data with cutoff (unk_cutoff). Done\n",
    "- Evaluate and Test"
   ]
  },
  {
   "cell_type": "code",
   "execution_count": 21,
   "metadata": {},
   "outputs": [],
   "source": [
    "import utils as utils\n",
    "import lm as lm"
   ]
  },
  {
   "attachments": {},
   "cell_type": "markdown",
   "metadata": {},
   "source": [
    "### Load the Training Data"
   ]
  },
  {
   "cell_type": "code",
   "execution_count": 22,
   "metadata": {},
   "outputs": [
    {
     "name": "stdout",
     "output_type": "stream",
     "text": [
      "e_corpus ['My name is John', 'She is a teacher', 'He is reading a book', 'We are going to the beach', 'They are playing soccer']\n"
     ]
    }
   ],
   "source": [
    "path_to_data = \"data.txt\"\n",
    "e_corpus = utils.load_data(path_to_data)\n",
    "print('e_corpus',e_corpus)"
   ]
  },
  {
   "attachments": {},
   "cell_type": "markdown",
   "metadata": {},
   "source": [
    "## The Language Models"
   ]
  },
  {
   "attachments": {},
   "cell_type": "markdown",
   "metadata": {},
   "source": [
    "### Unigram"
   ]
  },
  {
   "cell_type": "code",
   "execution_count": 23,
   "metadata": {},
   "outputs": [],
   "source": [
    "unigram_lm = lm.Unigram(e_corpus)\n",
    "unigram_lm.preprocess()\n",
    "unigram_lm.train()"
   ]
  },
  {
   "cell_type": "code",
   "execution_count": 27,
   "metadata": {},
   "outputs": [
    {
     "name": "stdout",
     "output_type": "stream",
     "text": [
      "probability 0.07272727272727272\n",
      "sentence_probability 7.803287609063416e-09\n",
      "log_probability -2.6210388241125804\n",
      "log_sentence_probability -16.994744270138987\n"
     ]
    }
   ],
   "source": [
    "probability = unigram_lm.calc_probability('is')\n",
    "print('probability',probability)\n",
    "sentence_probability = unigram_lm.calc_sentence_probability('I am a teacher')\n",
    "print('sentence_probability',sentence_probability)\n",
    "log_probability = unigram_lm.calc_log_probability('is')\n",
    "print('log_probability',log_probability)\n",
    "log_sentence_probability = unigram_lm.calc_log_sentence_probability('My name is John')\n",
    "print('log_sentence_probability',log_sentence_probability)"
   ]
  },
  {
   "attachments": {},
   "cell_type": "markdown",
   "metadata": {},
   "source": [
    "#### Handling the unseen words"
   ]
  },
  {
   "cell_type": "code",
   "execution_count": 5,
   "metadata": {},
   "outputs": [
    {
     "name": "stdout",
     "output_type": "stream",
     "text": [
      "probability 0.01818181818181818\n"
     ]
    }
   ],
   "source": [
    "probability = unigram_lm.calc_probability('d')\n",
    "print('probability',probability)"
   ]
  },
  {
   "attachments": {},
   "cell_type": "markdown",
   "metadata": {},
   "source": [
    "### Perplexity"
   ]
  },
  {
   "cell_type": "code",
   "execution_count": 6,
   "metadata": {},
   "outputs": [
    {
     "name": "stdout",
     "output_type": "stream",
     "text": [
      "Perplexity: 10.024357553087649\n"
     ]
    }
   ],
   "source": [
    "training_corpus = [\"The quick brown fox jumps over the lazy dog\", \"The quick brown fox jumps over the lazy dog\"]\n",
    "test_corpus = [\"The lazy brown dog jumps over the quick fox\"]\n",
    "\n",
    "model = lm.Unigram(training_corpus)\n",
    "model.preprocess()\n",
    "model.train()\n",
    "\n",
    "perplexity = model.perplexity(test_corpus)\n",
    "print(\"Perplexity:\", perplexity)"
   ]
  },
  {
   "attachments": {},
   "cell_type": "markdown",
   "metadata": {},
   "source": [
    "### Bigram"
   ]
  },
  {
   "cell_type": "code",
   "execution_count": 7,
   "metadata": {},
   "outputs": [],
   "source": [
    "bigram_lm = lm.Bigram(e_corpus)\n",
    "bigram_lm.preprocess()\n",
    "bigram_lm.train()"
   ]
  },
  {
   "cell_type": "code",
   "execution_count": 8,
   "metadata": {},
   "outputs": [
    {
     "name": "stdout",
     "output_type": "stream",
     "text": [
      "probability 0.08695652173913043\n",
      "sentence_probability 3.896392488485855e-06\n",
      "log_probability -2.4423470353692043\n",
      "log_sentence_probability -12.455459435860252\n"
     ]
    }
   ],
   "source": [
    "probability = bigram_lm.calc_probability('name','is')\n",
    "print('probability',probability)\n",
    "sentence_probability = bigram_lm.calc_sentence_probability('My name is John')\n",
    "print('sentence_probability',sentence_probability)\n",
    "log_probability = bigram_lm.calc_log_probability('name','is')\n",
    "print('log_probability',log_probability)\n",
    "log_sentence_probability = bigram_lm.calc_log_sentence_probability('My name is John')\n",
    "print('log_sentence_probability',log_sentence_probability)"
   ]
  },
  {
   "attachments": {},
   "cell_type": "markdown",
   "metadata": {},
   "source": [
    "#### Handling the unseen words"
   ]
  },
  {
   "cell_type": "code",
   "execution_count": 9,
   "metadata": {},
   "outputs": [
    {
     "name": "stdout",
     "output_type": "stream",
     "text": [
      "probability 0.045454545454545456\n"
     ]
    }
   ],
   "source": [
    "probability = bigram_lm.calc_probability('d','e')\n",
    "print('probability',probability)"
   ]
  },
  {
   "attachments": {},
   "cell_type": "markdown",
   "metadata": {},
   "source": [
    "### Perplexity"
   ]
  },
  {
   "cell_type": "code",
   "execution_count": 10,
   "metadata": {},
   "outputs": [
    {
     "name": "stdout",
     "output_type": "stream",
     "text": [
      "Perplexity: 7.723467195920273\n"
     ]
    }
   ],
   "source": [
    "training_corpus = [\"The quick brown fox jumps over the lazy dog\", \"The quick brown fox jumps over the lazy dog\"]\n",
    "test_corpus = [\"The lazy brown dog jumps over the quick fox\"]\n",
    "\n",
    "model = lm.Bigram(training_corpus)\n",
    "model.preprocess()\n",
    "model.train()\n",
    "\n",
    "perplexity = model.perplexity(test_corpus)\n",
    "print(\"Perplexity:\", perplexity)"
   ]
  },
  {
   "attachments": {},
   "cell_type": "markdown",
   "metadata": {},
   "source": [
    "### Trigram"
   ]
  },
  {
   "cell_type": "code",
   "execution_count": 11,
   "metadata": {},
   "outputs": [],
   "source": [
    "trigram_lm = lm.Trigram(e_corpus)\n",
    "trigram_lm.preprocess()\n",
    "trigram_lm.train()"
   ]
  },
  {
   "cell_type": "code",
   "execution_count": 12,
   "metadata": {},
   "outputs": [
    {
     "name": "stdout",
     "output_type": "stream",
     "text": [
      "probability 0.08695652173913043\n",
      "sentence_probability 5.717532455930331e-05\n",
      "log_probability -2.4423470353692043\n",
      "log_sentence_probability -9.769388141476817\n"
     ]
    }
   ],
   "source": [
    "probability = trigram_lm.calc_probability('name','is','john')\n",
    "print('probability',probability)\n",
    "sentence_probability = trigram_lm.calc_sentence_probability('My name is John')\n",
    "print('sentence_probability',sentence_probability)\n",
    "log_probability = trigram_lm.calc_log_probability('name','is','john')\n",
    "print('log_probability',log_probability)\n",
    "log_sentence_probability = trigram_lm.calc_log_sentence_probability('My name is John')\n",
    "print('log_sentence_probability',log_sentence_probability)"
   ]
  },
  {
   "attachments": {},
   "cell_type": "markdown",
   "metadata": {},
   "source": [
    "#### Handling the unseen words"
   ]
  },
  {
   "cell_type": "code",
   "execution_count": 13,
   "metadata": {},
   "outputs": [
    {
     "name": "stdout",
     "output_type": "stream",
     "text": [
      "probability 0.045454545454545456\n"
     ]
    }
   ],
   "source": [
    "probability = trigram_lm.calc_probability('d','e','f')\n",
    "print('probability',probability)"
   ]
  },
  {
   "attachments": {},
   "cell_type": "markdown",
   "metadata": {},
   "source": [
    "### Perplexity"
   ]
  },
  {
   "cell_type": "code",
   "execution_count": 15,
   "metadata": {},
   "outputs": [
    {
     "name": "stdout",
     "output_type": "stream",
     "text": [
      "Perplexity: 10.68280100505348\n"
     ]
    }
   ],
   "source": [
    "training_corpus = [\"The quick brown fox jumps over the lazy dog\", \"The quick brown fox jumps over the lazy dog\"]\n",
    "test_corpus = [\"The lazy brown dog jumps over the quick fox\"]\n",
    "\n",
    "model = lm.Trigram(training_corpus)\n",
    "model.preprocess()\n",
    "model.train()\n",
    "\n",
    "perplexity = model.perplexity(test_corpus)\n",
    "print(\"Perplexity:\", perplexity)"
   ]
  },
  {
   "attachments": {},
   "cell_type": "markdown",
   "metadata": {},
   "source": [
    "###  Interpolation"
   ]
  },
  {
   "cell_type": "code",
   "execution_count": 20,
   "metadata": {},
   "outputs": [
    {
     "name": "stdout",
     "output_type": "stream",
     "text": [
      "sentence_probability 0.045454545454545456\n",
      "log_sentence_probability -10.456922065242487\n"
     ]
    }
   ],
   "source": [
    "ilm = lm.LM(e_corpus)\n",
    "ilm.preprocess()\n",
    "ilm.train()\n",
    "sentence_probability = ilm.calc_sentence_probability('I play piano')\n",
    "print('sentence_probability',probability)\n",
    "log_sentence_probability = ilm.calc_log_sentence_probability('My name is John')\n",
    "print('log_sentence_probability',log_sentence_probability)"
   ]
  },
  {
   "attachments": {},
   "cell_type": "markdown",
   "metadata": {},
   "source": [
    "## Saving the Models"
   ]
  },
  {
   "cell_type": "code",
   "execution_count": 17,
   "metadata": {},
   "outputs": [],
   "source": [
    "# save the language models\n",
    "# utils.save_model(unigram_lm, \"models/unigram_model.pkl\")\n",
    "# utils.save_model(bigram_lm, \"models/bigram_model.pkl\")\n",
    "# utils.save_model(trigram_lm, \"models/trigram_model.pkl\")"
   ]
  }
 ],
 "metadata": {
  "kernelspec": {
   "display_name": "base",
   "language": "python",
   "name": "python3"
  },
  "language_info": {
   "codemirror_mode": {
    "name": "ipython",
    "version": 3
   },
   "file_extension": ".py",
   "mimetype": "text/x-python",
   "name": "python",
   "nbconvert_exporter": "python",
   "pygments_lexer": "ipython3",
   "version": "3.8.8"
  },
  "orig_nbformat": 4
 },
 "nbformat": 4,
 "nbformat_minor": 2
}
